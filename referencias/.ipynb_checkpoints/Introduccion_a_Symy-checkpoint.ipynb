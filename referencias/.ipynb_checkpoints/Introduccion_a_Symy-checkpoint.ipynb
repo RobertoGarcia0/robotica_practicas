{
 "cells": [
  {
   "cell_type": "markdown",
   "id": "ba0be009",
   "metadata": {},
   "source": [
    "# Fundamentos \n",
    "\n",
    "## Resumen\n",
    "\n",
    "Se presenta la nomenclatura y su interpretación en python para el modelado de robots"
   ]
  },
  {
   "cell_type": "markdown",
   "id": "6df4b34d",
   "metadata": {},
   "source": [
    "### Uso básico de matrices\n",
    "\n",
    "Se presenta sympy"
   ]
  },
  {
   "cell_type": "code",
   "execution_count": null,
   "id": "1c71529e",
   "metadata": {},
   "outputs": [],
   "source": [
    "#Encabezado para el uso de matrices y complificación de ecuaciones\n",
    "from sympy import *\n",
    "#Definicion de la variable theta\n",
    "theta = Symbol('theta')\n",
    "theta"
   ]
  },
  {
   "cell_type": "code",
   "execution_count": null,
   "id": "00326e59",
   "metadata": {},
   "outputs": [],
   "source": [
    "#Definicion de la matriz de rotacion en 2D\n",
    "R = Matrix([ [cos(theta), -sin(theta)], [sin(theta), cos(theta)]])\n",
    "R"
   ]
  },
  {
   "cell_type": "markdown",
   "id": "bd2b1df6",
   "metadata": {},
   "source": [
    "Uso de operaciones con matrices"
   ]
  },
  {
   "cell_type": "code",
   "execution_count": null,
   "id": "57b762ae",
   "metadata": {},
   "outputs": [],
   "source": [
    "#Calculo del determinante de la matriz R\n",
    "R.det()"
   ]
  },
  {
   "cell_type": "markdown",
   "id": "2a81f764",
   "metadata": {},
   "source": [
    "Uso de la operación de simplifiación "
   ]
  },
  {
   "cell_type": "code",
   "execution_count": null,
   "id": "8bba0a50",
   "metadata": {},
   "outputs": [],
   "source": [
    "#Simplificacion del determinante de la matriz de rotacion\n",
    "R.det().simplify()"
   ]
  },
  {
   "cell_type": "markdown",
   "id": "91c87925",
   "metadata": {},
   "source": [
    "La matriz de rotacion en dos dimensiones se puede procesar como una función :"
   ]
  },
  {
   "cell_type": "code",
   "execution_count": null,
   "id": "74417f5c",
   "metadata": {},
   "outputs": [],
   "source": [
    "#Definicion de la funcion de la matrix de rotacion\n",
    "def rot_2D(theta):\n",
    "    R = Matrix([ [cos(theta), -sin(theta), 0], [sin(theta), cos(theta), 0],[0, 0, 1]])\n",
    "    return R"
   ]
  },
  {
   "cell_type": "markdown",
   "id": "df80aa7a",
   "metadata": {},
   "source": [
    "Comprobación de la función"
   ]
  },
  {
   "cell_type": "code",
   "execution_count": null,
   "id": "412cfcbe",
   "metadata": {},
   "outputs": [],
   "source": [
    "#Definición de los angulos de entrada\n",
    "theta_1, theta_2 = symbols('theta_1, theta_2')\n",
    "theta_1"
   ]
  },
  {
   "cell_type": "code",
   "execution_count": null,
   "id": "1111742b",
   "metadata": {},
   "outputs": [],
   "source": [
    "theta_2"
   ]
  },
  {
   "cell_type": "markdown",
   "id": "370a849e",
   "metadata": {},
   "source": [
    "Matriz de rotación "
   ]
  },
  {
   "cell_type": "code",
   "execution_count": null,
   "id": "bdf901d5",
   "metadata": {},
   "outputs": [],
   "source": [
    "R_1 = rot_2D(theta_1)\n",
    "R_1"
   ]
  },
  {
   "cell_type": "code",
   "execution_count": null,
   "id": "4edb1ae8",
   "metadata": {},
   "outputs": [],
   "source": [
    "R_2 = rot_2D(theta_2)\n",
    "R_2"
   ]
  },
  {
   "cell_type": "markdown",
   "id": "8105da0b",
   "metadata": {},
   "source": [
    "Producto entre la matriz $\\mathbf{R}_1$ y la matriz $\\mathbf{R}_2$ \n",
    "\n",
    "$\\mathbf{R}_1 \\,\\mathbf{R}_2$"
   ]
  },
  {
   "cell_type": "code",
   "execution_count": null,
   "id": "29825502",
   "metadata": {},
   "outputs": [],
   "source": [
    "R_1*R_2"
   ]
  },
  {
   "cell_type": "markdown",
   "id": "43d33fec",
   "metadata": {},
   "source": [
    "Simplificando el producto entre las dos martrices"
   ]
  },
  {
   "cell_type": "code",
   "execution_count": null,
   "id": "fe78afbf",
   "metadata": {},
   "outputs": [],
   "source": [
    "R_1_2 = simplify(R_1*R_2) \n",
    "R_1_2"
   ]
  },
  {
   "cell_type": "markdown",
   "id": "01ee9481",
   "metadata": {},
   "source": [
    "Las matrices de rotación también están definidas en las libreras de Sympy mediante el comando \n",
    "\n",
    "```python\n",
    "\n",
    "import sympy as sym # Establece la equivalencia entre sympy con sym\n",
    "\n",
    "#Rotacion sobre el eje x\n",
    "sym.rot_axis1(\"<variable>\")\n",
    "\n",
    "#Rotacion sobre el eje y\n",
    "sym.rot_axis2(\"<variable>\")\n",
    "\n",
    "#Rotacion sobre el eje z\n",
    "sym.rot_axis3(\"<variable>\")\n",
    "\n",
    "```\n",
    "\n",
    "Los comandos rot_axis1, rot_axis2 y rot_axis3 son los comandos definen la funcion de una matrix de rotacion al incluir sym. se puede implementar lenguaje simbolico en ellas. Se presenta el siguiente ejemplo:\n"
   ]
  },
  {
   "cell_type": "code",
   "execution_count": null,
   "id": "83535702",
   "metadata": {},
   "outputs": [],
   "source": [
    "import sympy as sym\n",
    "# Matriz de rotacion sobre el eje x\n",
    "gamma = symbols('gamma')\n",
    "R_x = sym.rot_axis1(gamma)\n",
    "R_x"
   ]
  },
  {
   "cell_type": "code",
   "execution_count": null,
   "id": "e24bc2b6",
   "metadata": {},
   "outputs": [],
   "source": [
    "#Matriz de rotacion sobre el eje y\n",
    "beta = symbols('beta')\n",
    "R_y = sym.rot_axis2(beta)\n",
    "R_y"
   ]
  },
  {
   "cell_type": "code",
   "execution_count": null,
   "id": "02a37943",
   "metadata": {},
   "outputs": [],
   "source": [
    "#Matriz de rotacion sobre el eje z\n",
    "alpha = symbols('alpha')\n",
    "R_z = sym.rot_axis3(alpha)\n",
    "R_z"
   ]
  },
  {
   "cell_type": "markdown",
   "id": "0c860f5b",
   "metadata": {},
   "source": [
    "## Nota\n",
    "\n",
    "Las rotaciones definidas con esta relación son rotaciones pasivas, es decir lo que gira es el eje y no el sistema de referencia. En el caso de la robótica se utilizan rotaciones activas, el sistema de referencia rota y el eje de rotación permanece fijo por lo que las rotaciones para este caso son:"
   ]
  },
  {
   "cell_type": "code",
   "execution_count": null,
   "id": "0f86526e",
   "metadata": {},
   "outputs": [],
   "source": [
    "R_z = Matrix([ [cos(alpha), -sin(alpha), 0], [sin(alpha), cos(alpha), 0],[0, 0, 1]])\n",
    "R_z"
   ]
  },
  {
   "cell_type": "code",
   "execution_count": null,
   "id": "ef3de972",
   "metadata": {},
   "outputs": [],
   "source": [
    "R_y = Matrix([ [cos(beta), 0, sin(beta)], [0, 1, 0],[-sin(beta), 0, cos(beta)]])\n",
    "R_y"
   ]
  },
  {
   "cell_type": "code",
   "execution_count": null,
   "id": "effee54f",
   "metadata": {},
   "outputs": [],
   "source": [
    "R_x = Matrix([ [1, 0, 0], [0, cos(gamma), -sin(gamma)],[0, sin(gamma), cos(gamma)]])\n",
    "R_x"
   ]
  },
  {
   "cell_type": "markdown",
   "id": "fd1272d9",
   "metadata": {},
   "source": [
    "## Rotación general\n",
    "\n",
    "Para descripción de la orientación entre dos sistemas de referencia se empleará la siguiente secuencia de orientación utilizando las matrices de rotación:\n",
    "\n",
    "$$\n",
    "\\mathbf{R}(\\alpha,\\beta,\\gamma) = \\mathbf{R}_{z}(\\alpha) \\mathbf{R}_{y}(\\beta) \\mathbf{R}_{x}(\\gamma)\n",
    "$$\n",
    "\n",
    "\n"
   ]
  },
  {
   "cell_type": "code",
   "execution_count": null,
   "id": "f499a95d",
   "metadata": {},
   "outputs": [],
   "source": [
    "R = R_z*R_y*R_x\n",
    "R"
   ]
  },
  {
   "cell_type": "markdown",
   "id": "31ff9b8e",
   "metadata": {},
   "source": [
    "# Definición de la matriz de transformación homogenea\n",
    "\n",
    "La matriz de tranformación homógenea es un arreglo el cual contiene las relaciones de posición y orientación, la cual se define:\n",
    "\n",
    "$$\n",
    "{}^{i}\\mathbf{T}_{j} = \\begin{equation}\n",
    "\\begin{pmatrix}\n",
    "{}^{i}\\mathbf{R}_{j} & {}^{i}\\mathbf{p}_{j}\\\\\n",
    "\\mathbf{0}^{T} & 1 \n",
    "\\end{pmatrix}\n",
    "\\end{equation} \n",
    "$$\n",
    "\n",
    "- ${}^{i}\\mathbf{R}_{j}$ es la matriz de rotación que describe la orientación de un sistema {j} con respecto a un sistema anterior {i}.\n",
    "\n",
    "- ${}^{i}\\mathbf{p}_{j}$ es el vector de posición del origen del sistema {j} con respecto al origen del sistema {i}.\n",
    "\n",
    "- $\\mathbf{0}^{T}$ es el vector de perspectiva, que para este caso se determina como nulo.\n",
    "\n",
    "- 1 es el factor de escala de la matriz, que para este caso se mantiene unitario. \n",
    "\n",
    "La definición de esta tranformación en Sympy es:"
   ]
  },
  {
   "cell_type": "code",
   "execution_count": null,
   "id": "972bbe94",
   "metadata": {},
   "outputs": [],
   "source": [
    "def trans_homo(x, y, z, gamma, beta, alpha):\n",
    "    T = Matrix([[cos(alpha)*cos(beta), -sin(alpha)*cos(gamma)+sin(beta)*sin(gamma)*cos(alpha), sin(alpha)*sin(gamma)+sin(beta)*cos(alpha)*cos(gamma), x],\n",
    "         [sin(alpha)*cos(beta), sin(alpha)*sin(beta)*sin(gamma)+cos(alpha)*cos(gamma), sin(alpha)*sin(beta)*cos(gamma)-sin(gamma)*cos(alpha), y],\n",
    "        [-sin(beta), sin(gamma)*cos(beta), cos(beta)*cos(gamma), z],[0, 0, 0, 1]])\n",
    "    return T   "
   ]
  },
  {
   "cell_type": "code",
   "execution_count": null,
   "id": "fb3c33c8",
   "metadata": {},
   "outputs": [],
   "source": [
    "# Comprobación de la matriz\n",
    "x, y, z, gamma, beta, alpha = symbols('x, y, z, gamma, beta, alpha')\n",
    "\n",
    "trans_homo(x, y, z, 0, 0, 0)"
   ]
  },
  {
   "cell_type": "code",
   "execution_count": null,
   "id": "fe8e182e",
   "metadata": {},
   "outputs": [],
   "source": [
    "trans_homo(0, 0, 0, gamma, 0, 0)"
   ]
  },
  {
   "cell_type": "code",
   "execution_count": null,
   "id": "91d90be5",
   "metadata": {},
   "outputs": [],
   "source": [
    "trans_homo(0, 0, 0, 0, beta, 0)"
   ]
  },
  {
   "cell_type": "code",
   "execution_count": null,
   "id": "9daeed14",
   "metadata": {},
   "outputs": [],
   "source": [
    "trans_homo(0, 0, 0, 0, 0, alpha)"
   ]
  },
  {
   "cell_type": "markdown",
   "id": "96c76783",
   "metadata": {},
   "source": [
    "# Ejemplo de aplicación\n",
    "\n",
    "Se propone cálcular el modelo cinemático directo de un robot tipo RRR sobre el plano xy, como se presenta en la siguiente figura:\n",
    "\n",
    "\n",
    "![RRR](imagenes/RRR_Robot.png)\n",
    "\n",
    "\n",
    "El modelo cinemático consiste en describir la pose, posición y orientación, del sistema de referencia {P} asociado al efector final del robot con respecto al sistema referencia inercial {O}. La pose del robot se describe mediante el vector de pose en función de las variables de postura del robot ${}^{O}\\mathbf{\\xi}_{P}(q)$\n",
    "\n",
    "\n",
    "$$\n",
    "{}^{O}\\mathbf{\\xi}_{P}(q) = \\begin{equation} \\begin{pmatrix}\n",
    "{}^{O}\\mathbf{p}_{P}(q) \\\\\n",
    "{}^{O}\\mathbf{\\theta}_{P}(q)\n",
    "\\end{pmatrix} \\end{equation} =\n",
    "$$\n",
    "\n",
    "\n",
    "$$\n",
    "= \\begin{equation} \\begin{pmatrix}\n",
    "{}^{O}x_{P}(q) \\\\ {}^{O}y_{P}(q) \\\\ {}^{O}z_{P}(q) \\\\ {}^{O}\\gamma_{P}(q) \\\\ {}^{O}\\beta_{P}(q) \\\\ {}^{O}\\alpha_{P}(q)\n",
    "\\end{pmatrix} \\end{equation}\n",
    "$$\n",
    "\n",
    "Para el cálculo del vector ${}^{O}\\mathbf{\\xi}_{P}$ es necesario cálcular la transformación homógenea ${}^{O}\\mathbf{T}_{P}$ siguendo el siguiente planteamiento:\n",
    "\n",
    "\n",
    "$$\n",
    "{}^{O}\\mathbf{T}_{P} = {}^{O}\\mathbf{T}_{1} \\, {}^{1}\\mathbf{T}_{2} \\, {}^{2}\\mathbf{T}_{3} \\, {}^{3}\\mathbf{T}_{p}\n",
    "$$\n",
    "\n",
    "A continuación, se presenta el cálculo de la transformación homogénea ${}^{O}\\mathbf{T}_{P}$ y del vector de postura del robot ${}^{O}\\mathbf{\\xi}_{P}(q)$:"
   ]
  },
  {
   "cell_type": "code",
   "execution_count": null,
   "id": "b6bd4704",
   "metadata": {},
   "outputs": [],
   "source": [
    "# Definicion de las variables para la primera transformacion\n",
    "theta_1, x_1, y_1 = symbols('theta_1, x_1, y_1')\n",
    "\n",
    "T_O_1 = trans_homo(x_1, y_1, 0, 0, 0, theta_1)\n",
    "T_O_1"
   ]
  },
  {
   "cell_type": "code",
   "execution_count": null,
   "id": "47822b3e",
   "metadata": {},
   "outputs": [],
   "source": [
    "# Definicion de las variables para la segunda transformacion\n",
    "L_1, theta_2 = symbols('L_1, theta_2')\n",
    "\n",
    "T_1_2 = trans_homo(L_1, 0, 0, 0, 0, theta_2)\n",
    "T_1_2"
   ]
  },
  {
   "cell_type": "code",
   "execution_count": null,
   "id": "7e5ab77b",
   "metadata": {},
   "outputs": [],
   "source": [
    "# Definicion de las variables para la tercera transformacion\n",
    "L_2, theta_3 = symbols('L_2, theta_3')\n",
    "\n",
    "T_2_3 = trans_homo(L_2, 0, 0, 0, 0, theta_3)\n",
    "T_2_3"
   ]
  },
  {
   "cell_type": "code",
   "execution_count": null,
   "id": "2da739bf",
   "metadata": {},
   "outputs": [],
   "source": [
    "# Definicion de las variables para la cuarta transformacion\n",
    "L_3 = symbols('L_3')\n",
    "\n",
    "T_3_P = trans_homo(L_3, 0, 0, 0, 0, 0)\n",
    "T_3_P"
   ]
  },
  {
   "cell_type": "markdown",
   "id": "679415de",
   "metadata": {},
   "source": [
    "Cálculando la matriz de transformación ${}^{O}\\mathbf{T}_{P}$"
   ]
  },
  {
   "cell_type": "code",
   "execution_count": null,
   "id": "153da328",
   "metadata": {},
   "outputs": [],
   "source": [
    "T_O_P = simplify(T_O_1*T_1_2*T_2_3*T_3_P) \n",
    "T_O_P"
   ]
  },
  {
   "cell_type": "markdown",
   "id": "8201bd1b-62b4-44af-9020-769bcc133ee8",
   "metadata": {},
   "source": [
    "## Vector de postura del robot\n",
    "\n",
    "El vector de postura del robot "
   ]
  },
  {
   "cell_type": "code",
   "execution_count": null,
   "id": "d447907b",
   "metadata": {},
   "outputs": [],
   "source": [
    "xi_O_P = symbols('xi_O_P')\n",
    "\n",
    "xi_O_P = Matrix([T_O_P[0,3], T_O_P[1,3], theta_1 + theta_2 + theta_3])\n",
    "xi_O_P"
   ]
  },
  {
   "cell_type": "markdown",
   "id": "f7adb514",
   "metadata": {},
   "source": [
    "### Posición del robot\n",
    "\n",
    "Calculando la posición del robot a partir de los datos de las juntas "
   ]
  },
  {
   "cell_type": "markdown",
   "id": "a8ea9666-0836-4f89-bd25-e11a33f726c2",
   "metadata": {},
   "source": [
    "Sustituyendo un valor a la vez:"
   ]
  },
  {
   "cell_type": "code",
   "execution_count": null,
   "id": "459429e6-ecfd-42fe-8d02-9a1f02e6aaad",
   "metadata": {},
   "outputs": [],
   "source": [
    "xi_O_P.subs(L_1, 1)"
   ]
  },
  {
   "cell_type": "markdown",
   "id": "f1948768-8290-424b-948c-d4b353fdd51d",
   "metadata": {},
   "source": [
    "Sustituyendo varios valores"
   ]
  },
  {
   "cell_type": "code",
   "execution_count": null,
   "id": "f5f3d0ca-363d-4b90-b48e-3cde70d5d511",
   "metadata": {},
   "outputs": [],
   "source": [
    "import math\n",
    "xi_O_P.subs([(x_1, 0), (y_1, 0), (L_1, 1), (L_2, 1), (L_3, 1), (theta_1, math.radians(45)), (theta_2, math.radians(-45)), (theta_3, math.radians(-45))])"
   ]
  },
  {
   "cell_type": "markdown",
   "id": "fb6c4788-a8b1-4469-80a8-61811588d338",
   "metadata": {},
   "source": [
    "Para obtener el ángulo en grados"
   ]
  },
  {
   "cell_type": "code",
   "execution_count": null,
   "id": "53ba444e-7b6b-46e1-80a9-d0efa93d67e3",
   "metadata": {},
   "outputs": [],
   "source": [
    "math.degrees(xi_O_P.subs([(x_1, 0), (y_1, 0), (L_1, 1), (L_2, 1), (L_3, 1), (theta_1, math.radians(45)), (theta_2, math.radians(-45)), (theta_3, math.radians(-45))])[2])"
   ]
  },
  {
   "cell_type": "code",
   "execution_count": null,
   "id": "044a87ae-95fa-4018-807a-3b29b8e3fa43",
   "metadata": {},
   "outputs": [],
   "source": []
  }
 ],
 "metadata": {
  "kernelspec": {
   "display_name": "Python 3 (ipykernel)",
   "language": "python",
   "name": "python3"
  },
  "language_info": {
   "codemirror_mode": {
    "name": "ipython",
    "version": 3
   },
   "file_extension": ".py",
   "mimetype": "text/x-python",
   "name": "python",
   "nbconvert_exporter": "python",
   "pygments_lexer": "ipython3",
   "version": "3.10.12"
  }
 },
 "nbformat": 4,
 "nbformat_minor": 5
}
