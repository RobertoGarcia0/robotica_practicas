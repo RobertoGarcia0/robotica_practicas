{
 "cells": [
  {
   "cell_type": "markdown",
   "id": "ba0be009",
   "metadata": {},
   "source": [
    "# Fundamentos \n",
    "\n",
    "## Resumen\n",
    "\n",
    "Se presenta la nomenclatura y su interpretación en python para el modelado de robots"
   ]
  },
  {
   "cell_type": "markdown",
   "id": "6df4b34d",
   "metadata": {},
   "source": [
    "### Uso básico de matrices\n",
    "\n",
    "Se presenta sympy"
   ]
  },
  {
   "cell_type": "code",
   "execution_count": 1,
   "id": "1c71529e",
   "metadata": {},
   "outputs": [
    {
     "data": {
      "text/latex": [
       "$\\displaystyle \\theta$"
      ],
      "text/plain": [
       "theta"
      ]
     },
     "execution_count": 1,
     "metadata": {},
     "output_type": "execute_result"
    }
   ],
   "source": [
    "#Encabezado para el uso de matrices y complificación de ecuaciones\n",
    "from sympy import *\n",
    "#Definicion de la variable theta\n",
    "theta = Symbol('theta')\n",
    "theta"
   ]
  },
  {
   "cell_type": "code",
   "execution_count": 2,
   "id": "00326e59",
   "metadata": {},
   "outputs": [
    {
     "data": {
      "text/latex": [
       "$\\displaystyle \\left[\\begin{matrix}\\cos{\\left(\\theta \\right)} & - \\sin{\\left(\\theta \\right)}\\\\\\sin{\\left(\\theta \\right)} & \\cos{\\left(\\theta \\right)}\\end{matrix}\\right]$"
      ],
      "text/plain": [
       "Matrix([\n",
       "[cos(theta), -sin(theta)],\n",
       "[sin(theta),  cos(theta)]])"
      ]
     },
     "execution_count": 2,
     "metadata": {},
     "output_type": "execute_result"
    }
   ],
   "source": [
    "#Definicion de la matriz de rotacion en 2D\n",
    "R = Matrix([ [cos(theta), -sin(theta)], [sin(theta), cos(theta)]])\n",
    "R"
   ]
  },
  {
   "cell_type": "markdown",
   "id": "bd2b1df6",
   "metadata": {},
   "source": [
    "Uso de operaciones con matrices"
   ]
  },
  {
   "cell_type": "code",
   "execution_count": 3,
   "id": "57b762ae",
   "metadata": {},
   "outputs": [
    {
     "data": {
      "text/latex": [
       "$\\displaystyle \\sin^{2}{\\left(\\theta \\right)} + \\cos^{2}{\\left(\\theta \\right)}$"
      ],
      "text/plain": [
       "sin(theta)**2 + cos(theta)**2"
      ]
     },
     "execution_count": 3,
     "metadata": {},
     "output_type": "execute_result"
    }
   ],
   "source": [
    "#Calculo del determinante de la matriz R\n",
    "R.det()"
   ]
  },
  {
   "cell_type": "markdown",
   "id": "2a81f764",
   "metadata": {},
   "source": [
    "Uso de la operación de simplifiación "
   ]
  },
  {
   "cell_type": "code",
   "execution_count": 4,
   "id": "8bba0a50",
   "metadata": {},
   "outputs": [
    {
     "data": {
      "text/latex": [
       "$\\displaystyle 1$"
      ],
      "text/plain": [
       "1"
      ]
     },
     "execution_count": 4,
     "metadata": {},
     "output_type": "execute_result"
    }
   ],
   "source": [
    "#Simplificacion del determinante de la matriz de rotacion\n",
    "R.det().simplify()"
   ]
  },
  {
   "cell_type": "markdown",
   "id": "91c87925",
   "metadata": {},
   "source": [
    "La matriz de rotacion en dos dimensiones se puede procesar como una función :"
   ]
  },
  {
   "cell_type": "code",
   "execution_count": 5,
   "id": "74417f5c",
   "metadata": {},
   "outputs": [],
   "source": [
    "#Definicion de la funcion de la matrix de rotacion\n",
    "def rot_2D(theta):\n",
    "    R = Matrix([ [cos(theta), -sin(theta), 0], [sin(theta), cos(theta), 0],[0, 0, 1]])\n",
    "    return R"
   ]
  },
  {
   "cell_type": "markdown",
   "id": "df80aa7a",
   "metadata": {},
   "source": [
    "Comprobación de la función"
   ]
  },
  {
   "cell_type": "code",
   "execution_count": 6,
   "id": "412cfcbe",
   "metadata": {},
   "outputs": [
    {
     "data": {
      "text/latex": [
       "$\\displaystyle \\theta_{1}$"
      ],
      "text/plain": [
       "theta_1"
      ]
     },
     "execution_count": 6,
     "metadata": {},
     "output_type": "execute_result"
    }
   ],
   "source": [
    "#Definición de los angulos de entrada\n",
    "theta_1, theta_2 = symbols('theta_1, theta_2')\n",
    "theta_1"
   ]
  },
  {
   "cell_type": "code",
   "execution_count": 7,
   "id": "1111742b",
   "metadata": {},
   "outputs": [
    {
     "data": {
      "text/latex": [
       "$\\displaystyle \\theta_{2}$"
      ],
      "text/plain": [
       "theta_2"
      ]
     },
     "execution_count": 7,
     "metadata": {},
     "output_type": "execute_result"
    }
   ],
   "source": [
    "theta_2"
   ]
  },
  {
   "cell_type": "markdown",
   "id": "370a849e",
   "metadata": {},
   "source": [
    "Matriz de rotación "
   ]
  },
  {
   "cell_type": "code",
   "execution_count": 8,
   "id": "bdf901d5",
   "metadata": {},
   "outputs": [
    {
     "data": {
      "text/latex": [
       "$\\displaystyle \\left[\\begin{matrix}\\cos{\\left(\\theta_{1} \\right)} & - \\sin{\\left(\\theta_{1} \\right)} & 0\\\\\\sin{\\left(\\theta_{1} \\right)} & \\cos{\\left(\\theta_{1} \\right)} & 0\\\\0 & 0 & 1\\end{matrix}\\right]$"
      ],
      "text/plain": [
       "Matrix([\n",
       "[cos(theta_1), -sin(theta_1), 0],\n",
       "[sin(theta_1),  cos(theta_1), 0],\n",
       "[           0,             0, 1]])"
      ]
     },
     "execution_count": 8,
     "metadata": {},
     "output_type": "execute_result"
    }
   ],
   "source": [
    "R_1 = rot_2D(theta_1)\n",
    "R_1"
   ]
  },
  {
   "cell_type": "code",
   "execution_count": 9,
   "id": "4edb1ae8",
   "metadata": {},
   "outputs": [
    {
     "data": {
      "text/latex": [
       "$\\displaystyle \\left[\\begin{matrix}\\cos{\\left(\\theta_{2} \\right)} & - \\sin{\\left(\\theta_{2} \\right)} & 0\\\\\\sin{\\left(\\theta_{2} \\right)} & \\cos{\\left(\\theta_{2} \\right)} & 0\\\\0 & 0 & 1\\end{matrix}\\right]$"
      ],
      "text/plain": [
       "Matrix([\n",
       "[cos(theta_2), -sin(theta_2), 0],\n",
       "[sin(theta_2),  cos(theta_2), 0],\n",
       "[           0,             0, 1]])"
      ]
     },
     "execution_count": 9,
     "metadata": {},
     "output_type": "execute_result"
    }
   ],
   "source": [
    "R_2 = rot_2D(theta_2)\n",
    "R_2"
   ]
  },
  {
   "cell_type": "markdown",
   "id": "8105da0b",
   "metadata": {},
   "source": [
    "Producto entre la matriz $\\mathbf{R}_1$ y la matriz $\\mathbf{R}_2$ \n",
    "\n",
    "$\\mathbf{R}_1 \\,\\mathbf{R}_2$"
   ]
  },
  {
   "cell_type": "code",
   "execution_count": 10,
   "id": "29825502",
   "metadata": {},
   "outputs": [
    {
     "data": {
      "text/latex": [
       "$\\displaystyle \\left[\\begin{matrix}- \\sin{\\left(\\theta_{1} \\right)} \\sin{\\left(\\theta_{2} \\right)} + \\cos{\\left(\\theta_{1} \\right)} \\cos{\\left(\\theta_{2} \\right)} & - \\sin{\\left(\\theta_{1} \\right)} \\cos{\\left(\\theta_{2} \\right)} - \\sin{\\left(\\theta_{2} \\right)} \\cos{\\left(\\theta_{1} \\right)} & 0\\\\\\sin{\\left(\\theta_{1} \\right)} \\cos{\\left(\\theta_{2} \\right)} + \\sin{\\left(\\theta_{2} \\right)} \\cos{\\left(\\theta_{1} \\right)} & - \\sin{\\left(\\theta_{1} \\right)} \\sin{\\left(\\theta_{2} \\right)} + \\cos{\\left(\\theta_{1} \\right)} \\cos{\\left(\\theta_{2} \\right)} & 0\\\\0 & 0 & 1\\end{matrix}\\right]$"
      ],
      "text/plain": [
       "Matrix([\n",
       "[-sin(theta_1)*sin(theta_2) + cos(theta_1)*cos(theta_2), -sin(theta_1)*cos(theta_2) - sin(theta_2)*cos(theta_1), 0],\n",
       "[ sin(theta_1)*cos(theta_2) + sin(theta_2)*cos(theta_1), -sin(theta_1)*sin(theta_2) + cos(theta_1)*cos(theta_2), 0],\n",
       "[                                                     0,                                                      0, 1]])"
      ]
     },
     "execution_count": 10,
     "metadata": {},
     "output_type": "execute_result"
    }
   ],
   "source": [
    "R_1*R_2"
   ]
  },
  {
   "cell_type": "markdown",
   "id": "43d33fec",
   "metadata": {},
   "source": [
    "Simplificando el producto entre las dos martrices"
   ]
  },
  {
   "cell_type": "code",
   "execution_count": 11,
   "id": "fe78afbf",
   "metadata": {},
   "outputs": [
    {
     "data": {
      "text/latex": [
       "$\\displaystyle \\left[\\begin{matrix}\\cos{\\left(\\theta_{1} + \\theta_{2} \\right)} & - \\sin{\\left(\\theta_{1} + \\theta_{2} \\right)} & 0\\\\\\sin{\\left(\\theta_{1} + \\theta_{2} \\right)} & \\cos{\\left(\\theta_{1} + \\theta_{2} \\right)} & 0\\\\0 & 0 & 1\\end{matrix}\\right]$"
      ],
      "text/plain": [
       "Matrix([\n",
       "[cos(theta_1 + theta_2), -sin(theta_1 + theta_2), 0],\n",
       "[sin(theta_1 + theta_2),  cos(theta_1 + theta_2), 0],\n",
       "[                     0,                       0, 1]])"
      ]
     },
     "execution_count": 11,
     "metadata": {},
     "output_type": "execute_result"
    }
   ],
   "source": [
    "R_1_2 = simplify(R_1*R_2) \n",
    "R_1_2"
   ]
  },
  {
   "cell_type": "markdown",
   "id": "01ee9481",
   "metadata": {},
   "source": [
    "Las matrices de rotación también están definidas en las libreras de Sympy mediante el comando \n",
    "\n",
    "```python\n",
    "\n",
    "import sympy as sym # Establece la equivalencia entre sympy con sym\n",
    "\n",
    "#Rotacion sobre el eje x\n",
    "sym.rot_axis1(\"<variable>\")\n",
    "\n",
    "#Rotacion sobre el eje y\n",
    "sym.rot_axis2(\"<variable>\")\n",
    "\n",
    "#Rotacion sobre el eje z\n",
    "sym.rot_axis3(\"<variable>\")\n",
    "\n",
    "```\n",
    "\n",
    "Los comandos rot_axis1, rot_axis2 y rot_axis3 son los comandos definen la funcion de una matrix de rotacion al incluir sym. se puede implementar lenguaje simbolico en ellas. Se presenta el siguiente ejemplo:\n"
   ]
  },
  {
   "cell_type": "code",
   "execution_count": 12,
   "id": "83535702",
   "metadata": {},
   "outputs": [
    {
     "data": {
      "text/latex": [
       "$\\displaystyle \\left[\\begin{matrix}1 & 0 & 0\\\\0 & \\cos{\\left(\\gamma \\right)} & \\sin{\\left(\\gamma \\right)}\\\\0 & - \\sin{\\left(\\gamma \\right)} & \\cos{\\left(\\gamma \\right)}\\end{matrix}\\right]$"
      ],
      "text/plain": [
       "Matrix([\n",
       "[1,           0,          0],\n",
       "[0,  cos(gamma), sin(gamma)],\n",
       "[0, -sin(gamma), cos(gamma)]])"
      ]
     },
     "execution_count": 12,
     "metadata": {},
     "output_type": "execute_result"
    }
   ],
   "source": [
    "import sympy as sym\n",
    "# Matriz de rotacion sobre el eje x\n",
    "gamma = symbols('gamma')\n",
    "R_x = sym.rot_axis1(gamma)\n",
    "R_x"
   ]
  },
  {
   "cell_type": "code",
   "execution_count": 13,
   "id": "e24bc2b6",
   "metadata": {},
   "outputs": [
    {
     "data": {
      "text/latex": [
       "$\\displaystyle \\left[\\begin{matrix}\\cos{\\left(\\beta \\right)} & 0 & - \\sin{\\left(\\beta \\right)}\\\\0 & 1 & 0\\\\\\sin{\\left(\\beta \\right)} & 0 & \\cos{\\left(\\beta \\right)}\\end{matrix}\\right]$"
      ],
      "text/plain": [
       "Matrix([\n",
       "[cos(beta), 0, -sin(beta)],\n",
       "[        0, 1,          0],\n",
       "[sin(beta), 0,  cos(beta)]])"
      ]
     },
     "execution_count": 13,
     "metadata": {},
     "output_type": "execute_result"
    }
   ],
   "source": [
    "#Matriz de rotacion sobre el eje y\n",
    "beta = symbols('beta')\n",
    "R_y = sym.rot_axis2(beta)\n",
    "R_y"
   ]
  },
  {
   "cell_type": "code",
   "execution_count": 14,
   "id": "02a37943",
   "metadata": {},
   "outputs": [
    {
     "data": {
      "text/latex": [
       "$\\displaystyle \\left[\\begin{matrix}\\cos{\\left(\\alpha \\right)} & \\sin{\\left(\\alpha \\right)} & 0\\\\- \\sin{\\left(\\alpha \\right)} & \\cos{\\left(\\alpha \\right)} & 0\\\\0 & 0 & 1\\end{matrix}\\right]$"
      ],
      "text/plain": [
       "Matrix([\n",
       "[ cos(alpha), sin(alpha), 0],\n",
       "[-sin(alpha), cos(alpha), 0],\n",
       "[          0,          0, 1]])"
      ]
     },
     "execution_count": 14,
     "metadata": {},
     "output_type": "execute_result"
    }
   ],
   "source": [
    "#Matriz de rotacion sobre el eje z\n",
    "alpha = symbols('alpha')\n",
    "R_z = sym.rot_axis3(alpha)\n",
    "R_z"
   ]
  },
  {
   "cell_type": "markdown",
   "id": "0c860f5b",
   "metadata": {},
   "source": [
    "## Nota\n",
    "\n",
    "Las rotaciones definidas con esta relación son rotaciones pasivas, es decir lo que gira es el eje y no el sistema de referencia. En el caso de la robótica se utilizan rotaciones activas, el sistema de referencia rota y el eje de rotación permanece fijo por lo que las rotaciones para este caso son:"
   ]
  },
  {
   "cell_type": "code",
   "execution_count": 15,
   "id": "0f86526e",
   "metadata": {},
   "outputs": [
    {
     "data": {
      "text/latex": [
       "$\\displaystyle \\left[\\begin{matrix}\\cos{\\left(\\alpha \\right)} & - \\sin{\\left(\\alpha \\right)} & 0\\\\\\sin{\\left(\\alpha \\right)} & \\cos{\\left(\\alpha \\right)} & 0\\\\0 & 0 & 1\\end{matrix}\\right]$"
      ],
      "text/plain": [
       "Matrix([\n",
       "[cos(alpha), -sin(alpha), 0],\n",
       "[sin(alpha),  cos(alpha), 0],\n",
       "[         0,           0, 1]])"
      ]
     },
     "execution_count": 15,
     "metadata": {},
     "output_type": "execute_result"
    }
   ],
   "source": [
    "R_z = Matrix([ [cos(alpha), -sin(alpha), 0], [sin(alpha), cos(alpha), 0],[0, 0, 1]])\n",
    "R_z"
   ]
  },
  {
   "cell_type": "code",
   "execution_count": 16,
   "id": "ef3de972",
   "metadata": {},
   "outputs": [
    {
     "data": {
      "text/latex": [
       "$\\displaystyle \\left[\\begin{matrix}\\cos{\\left(\\beta \\right)} & 0 & \\sin{\\left(\\beta \\right)}\\\\0 & 1 & 0\\\\- \\sin{\\left(\\beta \\right)} & 0 & \\cos{\\left(\\beta \\right)}\\end{matrix}\\right]$"
      ],
      "text/plain": [
       "Matrix([\n",
       "[ cos(beta), 0, sin(beta)],\n",
       "[         0, 1,         0],\n",
       "[-sin(beta), 0, cos(beta)]])"
      ]
     },
     "execution_count": 16,
     "metadata": {},
     "output_type": "execute_result"
    }
   ],
   "source": [
    "R_y = Matrix([ [cos(beta), 0, sin(beta)], [0, 1, 0],[-sin(beta), 0, cos(beta)]])\n",
    "R_y"
   ]
  },
  {
   "cell_type": "code",
   "execution_count": 17,
   "id": "effee54f",
   "metadata": {},
   "outputs": [
    {
     "data": {
      "text/latex": [
       "$\\displaystyle \\left[\\begin{matrix}1 & 0 & 0\\\\0 & \\cos{\\left(\\gamma \\right)} & - \\sin{\\left(\\gamma \\right)}\\\\0 & \\sin{\\left(\\gamma \\right)} & \\cos{\\left(\\gamma \\right)}\\end{matrix}\\right]$"
      ],
      "text/plain": [
       "Matrix([\n",
       "[1,          0,           0],\n",
       "[0, cos(gamma), -sin(gamma)],\n",
       "[0, sin(gamma),  cos(gamma)]])"
      ]
     },
     "execution_count": 17,
     "metadata": {},
     "output_type": "execute_result"
    }
   ],
   "source": [
    "R_x = Matrix([ [1, 0, 0], [0, cos(gamma), -sin(gamma)],[0, sin(gamma), cos(gamma)]])\n",
    "R_x"
   ]
  },
  {
   "cell_type": "markdown",
   "id": "fd1272d9",
   "metadata": {},
   "source": [
    "## Rotación general\n",
    "\n",
    "Para descripción de la orientación entre dos sistemas de referencia se empleará la siguiente secuencia de orientación utilizando las matrices de rotación:\n",
    "\n",
    "$$\n",
    "\\mathbf{R}(\\alpha,\\beta,\\gamma) = \\mathbf{R}_{z}(\\alpha) \\mathbf{R}_{y}(\\beta) \\mathbf{R}_{x}(\\gamma)\n",
    "$$\n",
    "\n",
    "\n"
   ]
  },
  {
   "cell_type": "code",
   "execution_count": 18,
   "id": "f499a95d",
   "metadata": {},
   "outputs": [
    {
     "data": {
      "text/latex": [
       "$\\displaystyle \\left[\\begin{matrix}\\cos{\\left(\\alpha \\right)} \\cos{\\left(\\beta \\right)} & - \\sin{\\left(\\alpha \\right)} \\cos{\\left(\\gamma \\right)} + \\sin{\\left(\\beta \\right)} \\sin{\\left(\\gamma \\right)} \\cos{\\left(\\alpha \\right)} & \\sin{\\left(\\alpha \\right)} \\sin{\\left(\\gamma \\right)} + \\sin{\\left(\\beta \\right)} \\cos{\\left(\\alpha \\right)} \\cos{\\left(\\gamma \\right)}\\\\\\sin{\\left(\\alpha \\right)} \\cos{\\left(\\beta \\right)} & \\sin{\\left(\\alpha \\right)} \\sin{\\left(\\beta \\right)} \\sin{\\left(\\gamma \\right)} + \\cos{\\left(\\alpha \\right)} \\cos{\\left(\\gamma \\right)} & \\sin{\\left(\\alpha \\right)} \\sin{\\left(\\beta \\right)} \\cos{\\left(\\gamma \\right)} - \\sin{\\left(\\gamma \\right)} \\cos{\\left(\\alpha \\right)}\\\\- \\sin{\\left(\\beta \\right)} & \\sin{\\left(\\gamma \\right)} \\cos{\\left(\\beta \\right)} & \\cos{\\left(\\beta \\right)} \\cos{\\left(\\gamma \\right)}\\end{matrix}\\right]$"
      ],
      "text/plain": [
       "Matrix([\n",
       "[cos(alpha)*cos(beta), -sin(alpha)*cos(gamma) + sin(beta)*sin(gamma)*cos(alpha), sin(alpha)*sin(gamma) + sin(beta)*cos(alpha)*cos(gamma)],\n",
       "[sin(alpha)*cos(beta),  sin(alpha)*sin(beta)*sin(gamma) + cos(alpha)*cos(gamma), sin(alpha)*sin(beta)*cos(gamma) - sin(gamma)*cos(alpha)],\n",
       "[          -sin(beta),                                     sin(gamma)*cos(beta),                                    cos(beta)*cos(gamma)]])"
      ]
     },
     "execution_count": 18,
     "metadata": {},
     "output_type": "execute_result"
    }
   ],
   "source": [
    "R = R_z*R_y*R_x\n",
    "R"
   ]
  },
  {
   "cell_type": "markdown",
   "id": "31ff9b8e",
   "metadata": {},
   "source": [
    "# Definición de la matriz de transformación homogenea\n",
    "\n",
    "La matriz de tranformación homógenea es un arreglo el cual contiene las relaciones de posición y orientación, la cual se define:\n",
    "\n",
    "$$\n",
    "{}^{i}\\mathbf{T}_{j} = \\begin{equation}\n",
    "\\begin{pmatrix}\n",
    "{}^{i}\\mathbf{R}_{j} & {}^{i}\\mathbf{p}_{j}\\\\\n",
    "\\mathbf{0}^{T} & 1 \n",
    "\\end{pmatrix}\n",
    "\\end{equation} \n",
    "$$\n",
    "\n",
    "- ${}^{i}\\mathbf{R}_{j}$ es la matriz de rotación que describe la orientación de un sistema {j} con respecto a un sistema anterior {i}.\n",
    "\n",
    "- ${}^{i}\\mathbf{p}_{j}$ es el vector de posición del origen del sistema {j} con respecto al origen del sistema {i}.\n",
    "\n",
    "- $\\mathbf{0}^{T}$ es el vector de perspectiva, que para este caso se determina como nulo.\n",
    "\n",
    "- 1 es el factor de escala de la matriz, que para este caso se mantiene unitario. \n",
    "\n",
    "La definición de esta tranformación en Sympy es:"
   ]
  },
  {
   "cell_type": "code",
   "execution_count": 19,
   "id": "972bbe94",
   "metadata": {},
   "outputs": [],
   "source": [
    "def trans_homo(x, y, z, gamma, beta, alpha):\n",
    "    T = Matrix([[cos(alpha)*cos(beta), -sin(alpha)*cos(gamma)+sin(beta)*sin(gamma)*cos(alpha), sin(alpha)*sin(gamma)+sin(beta)*cos(alpha)*cos(gamma), x],\n",
    "         [sin(alpha)*cos(beta), sin(alpha)*sin(beta)*sin(gamma)+cos(alpha)*cos(gamma), sin(alpha)*sin(beta)*cos(gamma)-sin(gamma)*cos(alpha), y],\n",
    "        [-sin(beta), sin(gamma)*cos(beta), cos(beta)*cos(gamma), z],[0, 0, 0, 1]])\n",
    "    return T   "
   ]
  },
  {
   "cell_type": "code",
   "execution_count": 20,
   "id": "fb3c33c8",
   "metadata": {},
   "outputs": [
    {
     "data": {
      "text/latex": [
       "$\\displaystyle \\left[\\begin{matrix}1 & 0 & 0 & x\\\\0 & 1 & 0 & y\\\\0 & 0 & 1 & z\\\\0 & 0 & 0 & 1\\end{matrix}\\right]$"
      ],
      "text/plain": [
       "Matrix([\n",
       "[1, 0, 0, x],\n",
       "[0, 1, 0, y],\n",
       "[0, 0, 1, z],\n",
       "[0, 0, 0, 1]])"
      ]
     },
     "execution_count": 20,
     "metadata": {},
     "output_type": "execute_result"
    }
   ],
   "source": [
    "# Comprobación de la matriz\n",
    "x, y, z, gamma, beta, alpha = symbols('x, y, z, gamma, beta, alpha')\n",
    "\n",
    "trans_homo(x, y, z, 0, 0, 0)"
   ]
  },
  {
   "cell_type": "code",
   "execution_count": 21,
   "id": "fe8e182e",
   "metadata": {},
   "outputs": [
    {
     "data": {
      "text/latex": [
       "$\\displaystyle \\left[\\begin{matrix}1 & 0 & 0 & 0\\\\0 & \\cos{\\left(\\gamma \\right)} & - \\sin{\\left(\\gamma \\right)} & 0\\\\0 & \\sin{\\left(\\gamma \\right)} & \\cos{\\left(\\gamma \\right)} & 0\\\\0 & 0 & 0 & 1\\end{matrix}\\right]$"
      ],
      "text/plain": [
       "Matrix([\n",
       "[1,          0,           0, 0],\n",
       "[0, cos(gamma), -sin(gamma), 0],\n",
       "[0, sin(gamma),  cos(gamma), 0],\n",
       "[0,          0,           0, 1]])"
      ]
     },
     "execution_count": 21,
     "metadata": {},
     "output_type": "execute_result"
    }
   ],
   "source": [
    "trans_homo(0, 0, 0, gamma, 0, 0)"
   ]
  },
  {
   "cell_type": "code",
   "execution_count": 22,
   "id": "91d90be5",
   "metadata": {},
   "outputs": [
    {
     "data": {
      "text/latex": [
       "$\\displaystyle \\left[\\begin{matrix}\\cos{\\left(\\beta \\right)} & 0 & \\sin{\\left(\\beta \\right)} & 0\\\\0 & 1 & 0 & 0\\\\- \\sin{\\left(\\beta \\right)} & 0 & \\cos{\\left(\\beta \\right)} & 0\\\\0 & 0 & 0 & 1\\end{matrix}\\right]$"
      ],
      "text/plain": [
       "Matrix([\n",
       "[ cos(beta), 0, sin(beta), 0],\n",
       "[         0, 1,         0, 0],\n",
       "[-sin(beta), 0, cos(beta), 0],\n",
       "[         0, 0,         0, 1]])"
      ]
     },
     "execution_count": 22,
     "metadata": {},
     "output_type": "execute_result"
    }
   ],
   "source": [
    "trans_homo(0, 0, 0, 0, beta, 0)"
   ]
  },
  {
   "cell_type": "code",
   "execution_count": 23,
   "id": "9daeed14",
   "metadata": {},
   "outputs": [
    {
     "data": {
      "text/latex": [
       "$\\displaystyle \\left[\\begin{matrix}\\cos{\\left(\\alpha \\right)} & - \\sin{\\left(\\alpha \\right)} & 0 & 0\\\\\\sin{\\left(\\alpha \\right)} & \\cos{\\left(\\alpha \\right)} & 0 & 0\\\\0 & 0 & 1 & 0\\\\0 & 0 & 0 & 1\\end{matrix}\\right]$"
      ],
      "text/plain": [
       "Matrix([\n",
       "[cos(alpha), -sin(alpha), 0, 0],\n",
       "[sin(alpha),  cos(alpha), 0, 0],\n",
       "[         0,           0, 1, 0],\n",
       "[         0,           0, 0, 1]])"
      ]
     },
     "execution_count": 23,
     "metadata": {},
     "output_type": "execute_result"
    }
   ],
   "source": [
    "trans_homo(0, 0, 0, 0, 0, alpha)"
   ]
  },
  {
   "cell_type": "markdown",
   "id": "96c76783",
   "metadata": {},
   "source": [
    "# Ejemplo de aplicación\n",
    "\n",
    "Se propone cálcular el modelo cinemático directo de un robot tipo RRR sobre el plano xy, como se presenta en la siguiente figura:\n",
    "\n",
    "\n",
    "![RRR](imagenes/RRR_Robot.png)\n",
    "\n",
    "\n",
    "El modelo cinemático consiste en describir la pose, posición y orientación, del sistema de referencia {P} asociado al efector final del robot con respecto al sistema referencia inercial {O}. La pose del robot se describe mediante el vector de pose en función de las variables de postura del robot ${}^{O}\\mathbf{\\xi}_{P}(q)$\n",
    "\n",
    "\n",
    "$$\n",
    "{}^{O}\\mathbf{\\xi}_{P}(q) = \\begin{equation} \\begin{pmatrix}\n",
    "{}^{O}\\mathbf{p}_{P}(q) \\\\\n",
    "{}^{O}\\mathbf{\\theta}_{P}(q)\n",
    "\\end{pmatrix} \\end{equation} =\n",
    "$$\n",
    "\n",
    "\n",
    "$$\n",
    "= \\begin{equation} \\begin{pmatrix}\n",
    "{}^{O}x_{P}(q) \\\\ {}^{O}y_{P}(q) \\\\ {}^{O}z_{P}(q) \\\\ {}^{O}\\gamma_{P}(q) \\\\ {}^{O}\\beta_{P}(q) \\\\ {}^{O}\\alpha_{P}(q)\n",
    "\\end{pmatrix} \\end{equation}\n",
    "$$\n",
    "\n",
    "Para el cálculo del vector ${}^{O}\\mathbf{\\xi}_{P}$ es necesario cálcular la transformación homógenea ${}^{O}\\mathbf{T}_{P}$ siguendo el siguiente planteamiento:\n",
    "\n",
    "\n",
    "$$\n",
    "{}^{O}\\mathbf{T}_{P} = {}^{O}\\mathbf{T}_{1} \\, {}^{1}\\mathbf{T}_{2} \\, {}^{2}\\mathbf{T}_{3} \\, {}^{3}\\mathbf{T}_{p}\n",
    "$$\n",
    "\n",
    "A continuación, se presenta el cálculo de la transformación homogénea ${}^{O}\\mathbf{T}_{P}$ y del vector de postura del robot ${}^{O}\\mathbf{\\xi}_{P}(q)$:"
   ]
  },
  {
   "cell_type": "code",
   "execution_count": 24,
   "id": "b6bd4704",
   "metadata": {},
   "outputs": [
    {
     "data": {
      "text/latex": [
       "$\\displaystyle \\left[\\begin{matrix}\\cos{\\left(\\theta_{1} \\right)} & - \\sin{\\left(\\theta_{1} \\right)} & 0 & x_{1}\\\\\\sin{\\left(\\theta_{1} \\right)} & \\cos{\\left(\\theta_{1} \\right)} & 0 & y_{1}\\\\0 & 0 & 1 & 0\\\\0 & 0 & 0 & 1\\end{matrix}\\right]$"
      ],
      "text/plain": [
       "Matrix([\n",
       "[cos(theta_1), -sin(theta_1), 0, x_1],\n",
       "[sin(theta_1),  cos(theta_1), 0, y_1],\n",
       "[           0,             0, 1,   0],\n",
       "[           0,             0, 0,   1]])"
      ]
     },
     "execution_count": 24,
     "metadata": {},
     "output_type": "execute_result"
    }
   ],
   "source": [
    "# Definicion de las variables para la primera transformacion\n",
    "theta_1, x_1, y_1 = symbols('theta_1, x_1, y_1')\n",
    "\n",
    "T_O_1 = trans_homo(x_1, y_1, 0, 0, 0, theta_1)\n",
    "T_O_1"
   ]
  },
  {
   "cell_type": "code",
   "execution_count": 25,
   "id": "47822b3e",
   "metadata": {},
   "outputs": [
    {
     "data": {
      "text/latex": [
       "$\\displaystyle \\left[\\begin{matrix}\\cos{\\left(\\theta_{2} \\right)} & - \\sin{\\left(\\theta_{2} \\right)} & 0 & L_{1}\\\\\\sin{\\left(\\theta_{2} \\right)} & \\cos{\\left(\\theta_{2} \\right)} & 0 & 0\\\\0 & 0 & 1 & 0\\\\0 & 0 & 0 & 1\\end{matrix}\\right]$"
      ],
      "text/plain": [
       "Matrix([\n",
       "[cos(theta_2), -sin(theta_2), 0, L_1],\n",
       "[sin(theta_2),  cos(theta_2), 0,   0],\n",
       "[           0,             0, 1,   0],\n",
       "[           0,             0, 0,   1]])"
      ]
     },
     "execution_count": 25,
     "metadata": {},
     "output_type": "execute_result"
    }
   ],
   "source": [
    "# Definicion de las variables para la segunda transformacion\n",
    "L_1, theta_2 = symbols('L_1, theta_2')\n",
    "\n",
    "T_1_2 = trans_homo(L_1, 0, 0, 0, 0, theta_2)\n",
    "T_1_2"
   ]
  },
  {
   "cell_type": "code",
   "execution_count": 26,
   "id": "7e5ab77b",
   "metadata": {},
   "outputs": [
    {
     "data": {
      "text/latex": [
       "$\\displaystyle \\left[\\begin{matrix}\\cos{\\left(\\theta_{3} \\right)} & - \\sin{\\left(\\theta_{3} \\right)} & 0 & L_{2}\\\\\\sin{\\left(\\theta_{3} \\right)} & \\cos{\\left(\\theta_{3} \\right)} & 0 & 0\\\\0 & 0 & 1 & 0\\\\0 & 0 & 0 & 1\\end{matrix}\\right]$"
      ],
      "text/plain": [
       "Matrix([\n",
       "[cos(theta_3), -sin(theta_3), 0, L_2],\n",
       "[sin(theta_3),  cos(theta_3), 0,   0],\n",
       "[           0,             0, 1,   0],\n",
       "[           0,             0, 0,   1]])"
      ]
     },
     "execution_count": 26,
     "metadata": {},
     "output_type": "execute_result"
    }
   ],
   "source": [
    "# Definicion de las variables para la tercera transformacion\n",
    "L_2, theta_3 = symbols('L_2, theta_3')\n",
    "\n",
    "T_2_3 = trans_homo(L_2, 0, 0, 0, 0, theta_3)\n",
    "T_2_3"
   ]
  },
  {
   "cell_type": "code",
   "execution_count": 27,
   "id": "2da739bf",
   "metadata": {},
   "outputs": [
    {
     "data": {
      "text/latex": [
       "$\\displaystyle \\left[\\begin{matrix}1 & 0 & 0 & L_{3}\\\\0 & 1 & 0 & 0\\\\0 & 0 & 1 & 0\\\\0 & 0 & 0 & 1\\end{matrix}\\right]$"
      ],
      "text/plain": [
       "Matrix([\n",
       "[1, 0, 0, L_3],\n",
       "[0, 1, 0,   0],\n",
       "[0, 0, 1,   0],\n",
       "[0, 0, 0,   1]])"
      ]
     },
     "execution_count": 27,
     "metadata": {},
     "output_type": "execute_result"
    }
   ],
   "source": [
    "# Definicion de las variables para la cuarta transformacion\n",
    "L_3 = symbols('L_3')\n",
    "\n",
    "T_3_P = trans_homo(L_3, 0, 0, 0, 0, 0)\n",
    "T_3_P"
   ]
  },
  {
   "cell_type": "markdown",
   "id": "679415de",
   "metadata": {},
   "source": [
    "Cálculando la matriz de transformación ${}^{O}\\mathbf{T}_{P}$"
   ]
  },
  {
   "cell_type": "code",
   "execution_count": 28,
   "id": "153da328",
   "metadata": {},
   "outputs": [
    {
     "data": {
      "text/latex": [
       "$\\displaystyle \\left[\\begin{matrix}\\cos{\\left(\\theta_{1} + \\theta_{2} + \\theta_{3} \\right)} & - \\sin{\\left(\\theta_{1} + \\theta_{2} + \\theta_{3} \\right)} & 0 & L_{1} \\cos{\\left(\\theta_{1} \\right)} + L_{2} \\cos{\\left(\\theta_{1} + \\theta_{2} \\right)} + L_{3} \\cos{\\left(\\theta_{1} + \\theta_{2} + \\theta_{3} \\right)} + x_{1}\\\\\\sin{\\left(\\theta_{1} + \\theta_{2} + \\theta_{3} \\right)} & \\cos{\\left(\\theta_{1} + \\theta_{2} + \\theta_{3} \\right)} & 0 & L_{1} \\sin{\\left(\\theta_{1} \\right)} + L_{2} \\sin{\\left(\\theta_{1} + \\theta_{2} \\right)} + L_{3} \\sin{\\left(\\theta_{1} + \\theta_{2} + \\theta_{3} \\right)} + y_{1}\\\\0 & 0 & 1 & 0\\\\0 & 0 & 0 & 1\\end{matrix}\\right]$"
      ],
      "text/plain": [
       "Matrix([\n",
       "[cos(theta_1 + theta_2 + theta_3), -sin(theta_1 + theta_2 + theta_3), 0, L_1*cos(theta_1) + L_2*cos(theta_1 + theta_2) + L_3*cos(theta_1 + theta_2 + theta_3) + x_1],\n",
       "[sin(theta_1 + theta_2 + theta_3),  cos(theta_1 + theta_2 + theta_3), 0, L_1*sin(theta_1) + L_2*sin(theta_1 + theta_2) + L_3*sin(theta_1 + theta_2 + theta_3) + y_1],\n",
       "[                               0,                                 0, 1,                                                                                          0],\n",
       "[                               0,                                 0, 0,                                                                                          1]])"
      ]
     },
     "execution_count": 28,
     "metadata": {},
     "output_type": "execute_result"
    }
   ],
   "source": [
    "T_O_P = simplify(T_O_1*T_1_2*T_2_3*T_3_P) \n",
    "T_O_P"
   ]
  },
  {
   "cell_type": "code",
   "execution_count": 29,
   "id": "e8506275-2ec7-4300-a29f-2df37a33028f",
   "metadata": {},
   "outputs": [],
   "source": [
    "T_O_3 = simplify(T_O_1*T_1_2*T_2_3) \n",
    "T_O_2 = simplify(T_O_1*T_1_2)"
   ]
  },
  {
   "cell_type": "markdown",
   "id": "8201bd1b-62b4-44af-9020-769bcc133ee8",
   "metadata": {},
   "source": [
    "## Vector de postura del robot\n",
    "\n",
    "El vector de postura del robot "
   ]
  },
  {
   "cell_type": "code",
   "execution_count": 30,
   "id": "d447907b",
   "metadata": {},
   "outputs": [
    {
     "data": {
      "text/latex": [
       "$\\displaystyle \\left[\\begin{matrix}L_{1} \\cos{\\left(\\theta_{1} \\right)} + L_{2} \\cos{\\left(\\theta_{1} + \\theta_{2} \\right)} + L_{3} \\cos{\\left(\\theta_{1} + \\theta_{2} + \\theta_{3} \\right)} + x_{1}\\\\L_{1} \\sin{\\left(\\theta_{1} \\right)} + L_{2} \\sin{\\left(\\theta_{1} + \\theta_{2} \\right)} + L_{3} \\sin{\\left(\\theta_{1} + \\theta_{2} + \\theta_{3} \\right)} + y_{1}\\\\\\theta_{1} + \\theta_{2} + \\theta_{3}\\end{matrix}\\right]$"
      ],
      "text/plain": [
       "Matrix([\n",
       "[L_1*cos(theta_1) + L_2*cos(theta_1 + theta_2) + L_3*cos(theta_1 + theta_2 + theta_3) + x_1],\n",
       "[L_1*sin(theta_1) + L_2*sin(theta_1 + theta_2) + L_3*sin(theta_1 + theta_2 + theta_3) + y_1],\n",
       "[                                                               theta_1 + theta_2 + theta_3]])"
      ]
     },
     "execution_count": 30,
     "metadata": {},
     "output_type": "execute_result"
    }
   ],
   "source": [
    "xi_O_P = symbols('xi_O_P')\n",
    "\n",
    "xi_O_P = Matrix([T_O_P[0,3], T_O_P[1,3], theta_1 + theta_2 + theta_3])\n",
    "xi_O_P"
   ]
  },
  {
   "cell_type": "markdown",
   "id": "f7adb514",
   "metadata": {},
   "source": [
    "### Posición del robot\n",
    "\n",
    "Calculando la posición del robot a partir de los datos de las juntas "
   ]
  },
  {
   "cell_type": "markdown",
   "id": "a8ea9666-0836-4f89-bd25-e11a33f726c2",
   "metadata": {},
   "source": [
    "Sustituyendo un valor a la vez:"
   ]
  },
  {
   "cell_type": "code",
   "execution_count": 31,
   "id": "459429e6-ecfd-42fe-8d02-9a1f02e6aaad",
   "metadata": {},
   "outputs": [
    {
     "data": {
      "text/latex": [
       "$\\displaystyle \\left[\\begin{matrix}L_{2} \\cos{\\left(\\theta_{1} + \\theta_{2} \\right)} + L_{3} \\cos{\\left(\\theta_{1} + \\theta_{2} + \\theta_{3} \\right)} + x_{1} + \\cos{\\left(\\theta_{1} \\right)}\\\\L_{2} \\sin{\\left(\\theta_{1} + \\theta_{2} \\right)} + L_{3} \\sin{\\left(\\theta_{1} + \\theta_{2} + \\theta_{3} \\right)} + y_{1} + \\sin{\\left(\\theta_{1} \\right)}\\\\\\theta_{1} + \\theta_{2} + \\theta_{3}\\end{matrix}\\right]$"
      ],
      "text/plain": [
       "Matrix([\n",
       "[L_2*cos(theta_1 + theta_2) + L_3*cos(theta_1 + theta_2 + theta_3) + x_1 + cos(theta_1)],\n",
       "[L_2*sin(theta_1 + theta_2) + L_3*sin(theta_1 + theta_2 + theta_3) + y_1 + sin(theta_1)],\n",
       "[                                                           theta_1 + theta_2 + theta_3]])"
      ]
     },
     "execution_count": 31,
     "metadata": {},
     "output_type": "execute_result"
    }
   ],
   "source": [
    "xi_O_P.subs(L_1, 1)"
   ]
  },
  {
   "cell_type": "markdown",
   "id": "f1948768-8290-424b-948c-d4b353fdd51d",
   "metadata": {},
   "source": [
    "Sustituyendo varios valores"
   ]
  },
  {
   "cell_type": "code",
   "execution_count": 32,
   "id": "f5f3d0ca-363d-4b90-b48e-3cde70d5d511",
   "metadata": {},
   "outputs": [
    {
     "data": {
      "text/latex": [
       "$\\displaystyle \\left[\\begin{matrix}2.41421356237309\\\\0\\\\-0.785398163397448\\end{matrix}\\right]$"
      ],
      "text/plain": [
       "Matrix([\n",
       "[  2.41421356237309],\n",
       "[                 0],\n",
       "[-0.785398163397448]])"
      ]
     },
     "execution_count": 32,
     "metadata": {},
     "output_type": "execute_result"
    }
   ],
   "source": [
    "import math\n",
    "xi_O_P.subs([(x_1, 0), (y_1, 0), (L_1, 1), (L_2, 1), (L_3, 1), (theta_1, math.radians(45)), (theta_2, math.radians(-45)), (theta_3, math.radians(-45))])"
   ]
  },
  {
   "cell_type": "markdown",
   "id": "fb6c4788-a8b1-4469-80a8-61811588d338",
   "metadata": {},
   "source": [
    "Para obtener el ángulo en grados"
   ]
  },
  {
   "cell_type": "code",
   "execution_count": 33,
   "id": "53ba444e-7b6b-46e1-80a9-d0efa93d67e3",
   "metadata": {},
   "outputs": [
    {
     "data": {
      "text/plain": [
       "-45.0"
      ]
     },
     "execution_count": 33,
     "metadata": {},
     "output_type": "execute_result"
    }
   ],
   "source": [
    "math.degrees(xi_O_P.subs([(x_1, 0), (y_1, 0), (L_1, 1), (L_2, 1), (L_3, 1), (theta_1, math.radians(45)), (theta_2, math.radians(-45)), (theta_3, math.radians(-45))])[2])"
   ]
  },
  {
   "cell_type": "markdown",
   "id": "2efbb75b-66a0-45bb-b7a5-f6938fb8177a",
   "metadata": {},
   "source": [
    "## Gráfica\n",
    "\n",
    "Ahora, importaremos librerías para poder graficar una posición del robot"
   ]
  },
  {
   "cell_type": "code",
   "execution_count": 34,
   "id": "044a87ae-95fa-4018-807a-3b29b8e3fa43",
   "metadata": {},
   "outputs": [],
   "source": [
    "import matplotlib\n",
    "import matplotlib.pyplot as plt\n",
    "import numpy as np"
   ]
  },
  {
   "cell_type": "markdown",
   "id": "346bc142-a886-4d8e-b23f-70ab4c1e4ee5",
   "metadata": {},
   "source": [
    "Tomaremos las matrices homogéneas para obtener las posiciones de cada sistema de referencia del robot, y en ellas sustituiremos un valor para las articulaciones"
   ]
  },
  {
   "cell_type": "code",
   "execution_count": 35,
   "id": "a1b09281-2330-41d7-844a-71cd40ee9af0",
   "metadata": {},
   "outputs": [],
   "source": [
    "#Posición del sistema 1\n",
    "px_1 = 1\n",
    "py_1 = 1\n",
    "#Valores del espacio de trabajo\n",
    "th_1 = math.radians(90)\n",
    "th_2 = math.radians(-45)\n",
    "th_3 = math.radians(0)\n",
    "t_O_P = T_O_P.subs([(x_1, px_1), (y_1, py_1), (L_1, 1), (L_2, 1), (L_3, 1), (theta_1, th_1), (theta_2, th_2), (theta_3, th_3)]) \n",
    "t_O_3 = T_O_3.subs([(x_1, px_1), (y_1, py_1), (L_1, 1), (L_2, 1), (L_3, 1), (theta_1, th_1), (theta_2, th_2), (theta_3, th_3)]) \n",
    "t_O_2 = T_O_2.subs([(x_1, px_1), (y_1, py_1), (L_1, 1), (L_2, 1), (L_3, 1), (theta_1, th_1), (theta_2, th_2), (theta_3, th_3)])\n",
    "t_O_1 = T_O_1.subs([(x_1, px_1), (y_1, py_1), (L_1, 1), (L_2, 1), (L_3, 1), (theta_1, th_1), (theta_2, th_2), (theta_3, th_3)])\n"
   ]
  },
  {
   "cell_type": "markdown",
   "id": "0df46555-8644-4a65-b6c6-6ff3a64c8041",
   "metadata": {},
   "source": [
    "Para finalmente generar la gráfica con la librería matplotlib"
   ]
  },
  {
   "cell_type": "code",
   "execution_count": 36,
   "id": "cc080144-14c2-4712-8718-a8ce94548924",
   "metadata": {},
   "outputs": [
    {
     "data": {
      "image/png": "[encoded data removed]",
      "text/plain": [
       "<Figure size 640x480 with 1 Axes>"
      ]
     },
     "metadata": {},
     "output_type": "display_data"
    }
   ],
   "source": [
    "x1 = [t_O_1[0,3], t_O_2[0,3]] \n",
    "y1 = [t_O_1[1,3], t_O_2[1,3]] \n",
    "x2 = [t_O_2[0,3], t_O_3[0,3]] \n",
    "y2 = [t_O_2[1,3], t_O_3[1,3]] \n",
    "x3 = [t_O_3[0,3], t_O_P[0,3]] \n",
    "y3 = [t_O_3[1,3], t_O_P[1,3]] \n",
    "plt.plot(x1, y1, linewidth = 20.0, color = \"RED\")\n",
    "plt.plot(x2, y2, linewidth = 20.0, color = \"green\")\n",
    "plt.plot(x3, y3, linewidth = 20.0, color = (0, 0, 1.0))\n",
    "plt.axis((0,4,0,4))\n",
    "plt.show()"
   ]
  },
  {
   "cell_type": "markdown",
   "id": "e34c70bb-eccd-4184-bdf1-deaa17a7ba5b",
   "metadata": {},
   "source": [
    "## Animación\n",
    "Utilizando matplotlib.animation, se puede crear una función que cree frames para cada posición y éstos se animen"
   ]
  },
  {
   "cell_type": "code",
   "execution_count": 37,
   "id": "c0f8c803-c4fb-472d-8b84-7ef5010c98ec",
   "metadata": {
    "scrolled": true
   },
   "outputs": [
    {
     "data": {
      "text/plain": [
       "<Figure size 640x480 with 0 Axes>"
      ]
     },
     "metadata": {},
     "output_type": "display_data"
    },
    {
     "data": {
      "image/png": "[encoded data removed]",
      "text/plain": [
       "<Figure size 640x480 with 1 Axes>"
      ]
     },
     "metadata": {},
     "output_type": "display_data"
    }
   ],
   "source": [
    "import matplotlib.animation as animation\n",
    "plt.clf()\n",
    "fig, ax = plt.subplots()\n",
    "b1 = ax.plot(0, 0, linewidth = 20.0, color = \"RED\")[0]\n",
    "b2 = ax.plot(0, 0, linewidth = 20.0, color = \"GREEN\")[0]\n",
    "b3 = ax.plot(0, 0, linewidth = 20.0, color = \"BLUE\")[0]\n",
    "ax.set(xlim = [0, 4], ylim = [0, 4])\n",
    "def animar(frame):\n",
    "  th_1 = math.radians(45)\n",
    "  th_2 = math.radians(-45)\n",
    "  th_3 = math.radians(frame)\n",
    "  t_O_P = T_O_P.subs([(x_1, px_1), (y_1, py_1), (L_1, 1), (L_2, 1), (L_3, 1), (theta_1, th_1), (theta_2, th_2), (theta_3, th_3)]) \n",
    "  t_O_3 = T_O_3.subs([(x_1, px_1), (y_1, py_1), (L_1, 1), (L_2, 1), (L_3, 1), (theta_1, th_1), (theta_2, th_2), (theta_3, th_3)]) \n",
    "  t_O_2 = T_O_2.subs([(x_1, px_1), (y_1, py_1), (L_1, 1), (L_2, 1), (L_3, 1), (theta_1, th_1), (theta_2, th_2), (theta_3, th_3)])\n",
    "  t_O_1 = T_O_1.subs([(x_1, px_1), (y_1, py_1), (L_1, 1), (L_2, 1), (L_3, 1), (theta_1, th_1), (theta_2, th_2), (theta_3, th_3)])\n",
    "  x1 = [t_O_1[0,3], t_O_2[0,3]] \n",
    "  y1 = [t_O_1[1,3], t_O_2[1,3]] \n",
    "  x2 = [t_O_2[0,3], t_O_3[0,3]] \n",
    "  y2 = [t_O_2[1,3], t_O_3[1,3]] \n",
    "  x3 = [t_O_3[0,3], t_O_P[0,3]] \n",
    "  y3 = [t_O_3[1,3], t_O_P[1,3]]\n",
    "  b1.set_xdata([t_O_1[0,3], t_O_2[0,3]])\n",
    "  b1.set_ydata([t_O_1[1,3], t_O_2[1,3]])\n",
    "  b2.set_xdata([t_O_2[0,3], t_O_3[0,3]])\n",
    "  b2.set_ydata([t_O_2[1,3], t_O_3[1,3]])\n",
    "  b3.set_xdata([t_O_3[0,3], t_O_P[0,3]])\n",
    "  b3.set_ydata([t_O_3[1,3], t_O_P[1,3]])\n",
    "  return\n",
    "anim = animation.FuncAnimation(fig=fig, func=animar, frames=180, interval=50)\n"
   ]
  },
  {
   "cell_type": "markdown",
   "id": "82faad0b-791d-405c-8fd3-d26fee171968",
   "metadata": {},
   "source": [
    "Finalmente, podemos crear una animación con estos frames: \n",
    "\n",
    "Es necesario instalar una extensión con\n",
    "\n",
    "$sudo apt-get install ffmpeg"
   ]
  },
  {
   "cell_type": "code",
   "execution_count": 38,
   "id": "840a36f5-9303-4a78-b233-0bdd8b7cf7fe",
   "metadata": {},
   "outputs": [
    {
     "data": {
      "text/html": [
       "<video width=\"640\" height=\"480\" controls autoplay loop>\n",
       "  <source type=\"video/mp4\" src=\"data:video/mp4;base64,AAAAIGZ0eXBNNFYgAAACAE00ViBpc29taXNvMmF2YzEAAAAIZnJlZQAAtBNtZGF0AAACrgYF//+q\n",
       "3EXpvebZSLeWLNgg2SPu73gyNjQgLSBjb3JlIDE2MyByMzA2MCA1ZGI2YWE2IC0gSC4yNjQvTVBF\n",
       "Ry00IEFWQyBjb2RlYyAtIENvcHlsZWZ0IDIwMDMtMjAyMSAtIGh0dHA6Ly93d3cudmlkZW9sYW4u\n",
       "b3JnL3gyNjQuaHRtbCAtIG9wdGlvbnM6IGNhYmFjPTEgcmVmPTMgZGVibG9jaz0xOjA6MCBhbmFs\n",
       "eXNlPTB4MzoweDExMyBtZT1oZXggc3VibWU9NyBwc3k9MSBwc3lfcmQ9MS4wMDowLjAwIG1peGVk\n",
       "X3JlZj0xIG1lX3JhbmdlPTE2IGNocm9tYV9tZT0xIHRyZWxsaXM9MSA4eDhkY3Q9MSBjcW09MCBk\n",
       "ZWFkem9uZT0yMSwxMSBmYXN0X3Bza2lwPTEgY2hyb21hX3FwX29mZnNldD0tMiB0aHJlYWRzPTMg\n",
       "bG9va2FoZWFkX3RocmVhZHM9MSBzbGljZWRfdGhyZWFkcz0wIG5yPTAgZGVjaW1hdGU9MSBpbnRl\n",
       "cmxhY2VkPTAgYmx1cmF5X2NvbXBhdD0wIGNvbnN0cmFpbmVkX2ludHJhPTAgYmZyYW1lcz0zIGJf\n",
       "cHlyYW1pZD0yIGJfYWRhcHQ9MSBiX2JpYXM9MCBkaXJlY3Q9MSB3ZWlnaHRiPTEgb3Blbl9nb3A9\n",
       "MCB3ZWlnaHRwPTIga2V5aW50PTI1MCBrZXlpbnRfbWluPTIwIHNjZW5lY3V0PTQwIGludHJhX3Jl\n",
       "ZnJlc2g9MCByY19sb29rYWhlYWQ9NDAgcmM9Y3JmIG1idHJlZT0xIGNyZj0yMy4wIHFjb21wPTAu\n",
       "NjAgcXBtaW49MCBxcG1heD02OSBxcHN0ZXA9NCBpcF9yYXRpbz0xLjQwIGFxPTE6MS4wMACAAAAV\n",
       "h2WIhAA///73aJ8Cm1pDeoDklcUl20+B/6tncHyP6QMAAAMAAAMAAAQwI4/0JP4fmpMAAAMARAAL\n",
       "4fNomJ0keJwAEXZwFnyJAAfoGpVM6lvLE2jpJ983KXMfa5OGErz8FmAV1aBTFogfqYMWNLy90GR0\n",
       "eSOo39+iea7VXBCBZwhhbGjsyTJ4ATI4h3Ixe89i4Q1+CNBYd2ljYdX+ng3Cev8tEQqXoTb9FMcJ\n",
       "jgFuWixBsvL8SHPLk69/+i7A77wHmmoC9fykeSwNVD1yzTDqtPQl65ilPsfZGhvl3k/Ro8yjVuh/\n",
       "3ddxcWzbLyFDlbNPMoNzu7bPSvnRMtwgLJkGKUCOE0LxM2S/oAagwzLH2A+n2j4GQr2tRuh0cbRL\n",
       "PPUyeZdHyVOwlhc/cAAgC9vm7Ir5aKwDVJ5oT0MDYICUyS+w4t7EugzGHNhao7qYs93iSnC+KhVk\n",
       "R5IEfVp46CgnUUqS8U4LAR9tyYCTxKjsH6jsm8JkZmSC7X5h4zqaVSysJRk3yhzrcPP6PR2M2vDY\n",
       "6MOACkkIv2EXlFCDZpYnyTMkIfdIjflhAPSQIkQIe5J4SmTPNCEpgGDFv1ka7tsh2anW5Mi6xqpr\n",
       "hX664/bsPvBmpR+1OhrSLtGUDCzfvz1wpmoxkgDTK4ecRyRZI0ktT6YNY0VBFWk23jBT9ZsffVHY\n",
       "ZuzNTAMTAhBiIkO5ONCrDuAVIbIQOzmHc3nrOsIZDcyRTFcGcsRuGEocBwcIsZ6i3guTGUS2xAdz\n",
       "POBQdGL9gplPA5KChO881/IoXIYUMXjLBQF40aszThNz469t35mWnyHDOdTmj2klEYSqGYxo0pt3\n",
       "Fm2nvaPmtP93q8nyoRI4jqPXJtrQj1/vkh+PjPQ63T5ej/WvuY1LMfNpOu0waIrQmiYI2c6nwQ9G\n",
       "LomIykQBbAM16dprh0WwBthylK1dq7sRr6YhV0kSO1TM9P46GkaEvRLsm0acb1HyatSHE6U1KW0z\n",
       "7PLZmVEitcxqR6Bl4GlNp4zXI7YmdIoY590Bm79ztAxmW0iEM92GbXBvge7UNhxv1R3qEMHLKUmD\n",
       "gTpRVVc5hcthgo4mmJkDIFFNSsFI3M/Oyd7lJ+lEoqbFJG16BTksOSKF1FTaSndSjskRk1GQ8RJw\n",
       "F194PahUzHnZQrq48JE/0iEQuFz4BsAA4vaRkAU2j/ZBQXaqPiXFVgEux5s4/04uvHE6K/xkKCvv\n",
       "2BX+xv4fqLFKtpbeEIyswUgvEr5Y6ISH0kjiUeVztb5qbAaMkEVq3RX0uY7J1UYlj2RN/Oi2f5MK\n",
       "7hbyBvamHduu9C5z/FpEI5FxaDAxL0K1OYT/Ft8h8kc17Tsmz6t5zE5GqThVK9YIa0O+bshncEN0\n",
       "bWbJ1ypiXNkZ66wuh/brJkAGXsezWE7WmMJyoRNP4cVFU6k6APNkESCt2ccJjn6BYrZAOPeDrSVW\n",
       "sbv4RYM7//hsvDhykE0FYbJQ99LMvUwfQ9YeBROOml7y0dE//+9uKw7tLaaulGPtFlGbkekeW2mX\n",
       "niEgUEGYKhyS77IEMjlIWUtINPPiuEtfuhNBKAwa5NVDE102EChSzcFwIEgsW4dkSdomSFi1XWBt\n",
       "IlLhA2l0Tcy9/uha6vulAY7YiiuZ2QF4dvUtVLSI6LCs/Eon+q5ZSOdPWzWwACZS/nKEXe5JRZmf\n",
       "jBUZcZ9i60b7dISYgIyb4qY7H4jDEWs/0MVzXvzIHAW32CHuAfyUZxca1Y5/AAAY8C44PJgzGyy6\n",
       "M3Dgp4n5eN/+H+sFfXAVOYy2S0xmpQ7Bzd28DAc1SdS04dyn0qvqFi1syNa2kvNeoeYC/vSrQACx\n",
       "wIO6TQzEJWvTwET1By76Ip5hrqQtLli9Zad9SxvUCWUAQ+n3Bf4cGhEjUWEp1ZqLaXbDbpxQKTju\n",
       "nuIKuKvqSHLoufPPTOyy//8GygFt2qyPwl20bUW+GJ/X/5EkuVsG75bKTrK6Li6/1a4dHwnka6Hs\n",
       "4KuSn39rrUplnEhPOvt8ts5cYezwffrHORpPyrXCBW1h9+V1PGczYR6cRPAhtczqjl80t0bpeG9r\n",
       "BgTQiMMD0m7ZjL56VObgp2jVXji6Z1wTlKxYr2+yAESmHDcIj3Al2KYcznw8yRtp/2Vx6YqAN0JR\n",
       "5SCxzlG2ZdvxyAoFGjiQnw3fOemmIlAuIocm/IT6Xa+unGKUyprb9ULa8lCIfoJLAkKQaKq7TUDL\n",
       "JdPz6vs7xCTbmaU7lk/JuXmq25/7ErbxUv2e+A8GNwB/IldWMYVwlVZoODbcGr2rl2adm+G837eY\n",
       "YFCva4n49nSDOYgj0sO4KBjIpjQNdRUgwjYHsKG0NtyKMdfzr215kBhAHamc9xBeWaSzHrDn8c0M\n",
       "vy2IOu2/cRmgITYm6tm0+vs7J/lMnz+LOf1T0AZIVh2/85ySbdhsJengrVEnb5c+9sXRL+T2alCF\n",
       "ufNuAC3pDLaBruKicYO/bp6ZyrHQJm34JbXvLFIoEDVslU9fUt0GNqSQvv7iMezzvAwhkieaaIBc\n",
       "lcY/BgWyNiQsUF7hGEoB0liHvI/nX0ms/4iS2kjT3oeVuajcTmFEzgG83lX2kwZ030hlvBZvlpcN\n",
       "y9nxR4nz8C8yWLTVTO8XeDPHKhSumehN3vN/bLPI095+bXQUgQZL0nUHLuvXULqKms22U8zMHJoh\n",
       "tgiVxxZ8Tbc1bvZY4032EKBBOAB+KqSA9mgnheARBWoBtctQXd+g9k0NX4QDGYTKBf2jExW1o9NV\n",
       "fiW56bHJaoN4iJ3YPPYpzFUChJdfWv3vz+wXqINZMqitR45u0ulj+IKoxNAn/NwdNywPdLLTnx9T\n",
       "1ig6FMdehd61am0uD1hJNf2Awf2wa6sNGtK/n+btpgMUTSsWJvMFpdmE6wqXrHLq3ObG3WcRWV8E\n",
       "9SO1lIHb5rpTshsl+P24WnRZj8F4JtQEjpEBteCYnu4Q25u196eNoNWokSRqtkjzn9ozVZ8xFZ2t\n",
       "JD5VB2NhaOjBVL1SYc5s8CXNG0fgBXu5XCi40knZZmEEncEtN5HgeQO8Hl2RF+8wE+QJW40joPFQ\n",
       "mrSpiqsqySb8TVPQ93Xpp/XWd3ylt8/Sx4jCw4IKjfaxJxPDLga8TkK1nxgR0nJ7z/xRL2oiIns3\n",
       "7o/mAHvKbComABYbTHSDUgTLT2EMInWQM62UBXbcC9Ppnn8mzjoUkPz+qa0XVq6UpqinPNOlixkx\n",
       "A89mU7uSsxFn1HelINm7iVfmMpwGEfGpn8LHQeEHMX0RXxaDSt8kWxBFOndt+f0/51gRNNfHsnQD\n",
       "vwDRKia3SMoqGCtN4Xz3G9YXrf2ZVmMRnESEwhcA63sLVxHkn5ZWzjPgpCpUNNw/0Y57gNDCHoHT\n",
       "a7+b3WrvQMlpdPC4es47yqp1IE7JkqpmJSNqGrDgHwc/nkiW4YOgp6E+DKWLC85XuLwGLldPopHE\n",
       "Subb+cTgGxmx0/nytDvPJ9z1FajhK7GgGbVATGpiJhbRmuR3KaNhO0x04e5ZotfGIy+PoKa/Oz1T\n",
       "yYqYl1+vyQj/dLiR6oymxwyd5O2GtrfsN7F1vS9Rnu1EN5B5pNIkO8FkwG8wAP0ygUHVroAopQMX\n",
       "ypO13yIWaIaYf211Zs6aWTr/5NrAkKRtc7+sR6BjPolN0XzXghWfF1hUB5dTKYiIBDFLLt2MmgWN\n",
       "ZtnygD7n1tzK8zB3sVVfZ/0hLhVDAVWQibegqo/orN0wguM8PF3m4eWo8q4COV9QJGZD1FeJQ8MQ\n",
       "sK/oQRN3nzVApc4reWrZGdMBbvFzptN/SsZ4bPf+lJ/XwThLJ23r7EPlqUsdZmacMw3xwzJ9Tr2a\n",
       "MaaZIVp8z1qHRDCFAGIZ+D9Hi4Lc82kZezgdGXSFHxXSVHuFx5tG9s7+TZlUbVyz4d4VqTJkiQe+\n",
       "hjq6/o+FQvf0yPdAmZjV+K2SVIifFpznjDRY1xoAtWZKSSfzHemjcXcZSBQcNx6VpcRFsYAPwfCm\n",
       "IWx9/2GZgpAjTufDQFvAjCDHdUfh+Ql64biFKO2JB61h9By7Dwg/YrhktGhJmKbvgXwq/lHivvGi\n",
       "NaL0Ralb2YKH5ttNJ6QM7SacnLxqdU0zwsKJhvuLQ8vCIfdFxOprUtG+jAxNAACeTOulyIyib0iU\n",
       "88Noq+UK8zFU8jurNuC5CzeJxL6Ghne3V93r+3lC+BYauxMInfEjDYAJ9Kz9IUxI3YAEUS2TWEup\n",
       "BOvbca9qszqCGyA/VxObPXutQu+NVTTN6VgXd4CJNq/Vz78ZTBbyDvt8hsm2S/k/wMrjUIdMDvGg\n",
       "T+F9xEuyQkv4teiOOCsV8T/pPxLg6grNURbetK1B/RxH3SX9/lfR1Etm/iQdPjGtLx4D2fkGxUl0\n",
       "b4PkxxPLhfZ3nl4TvlFdYmHsP1m9tTCyFDLzquQEYt3CPqF1/eIawQyklpy2+9SzMLKFOgRA61il\n",
       "IUrwqJkRKyBWyxiNzZsPNcSUNXHrxdzeSuHCiDqo4xrx3Up9/qEfI1a8qYFCNgpnUDjHx5AvtFdZ\n",
       "veE1ucdMSSdp6olVvxaxkmnzPWeMroRod6PZMILr4TLZkjZMIcQveN9Rgv5+g8AAGbC4qpvsw91B\n",
       "GXQx2ha1byLNl2smuAlkVAgwu1BQ2Hlsyxh++XjlkM9ksi3yS/pqaKAiigtd3tiO7KPIKBL2zU54\n",
       "JBgPHA58fM/u9+urRRlteT0o/4OZrsvhVEw3HEnULrBpkV8V9XS/D/x6givok6/J/d09DUkWYhlq\n",
       "5+IQExYhtHa8bS55Fi/LMA82B6D/svwgZZDso5Xlxs9wQFtP4syDmj169IJ2QD4Qr36izrwAUbof\n",
       "Z8HOfs46PfywA3+tGqbKrfP/6sNXo3s5Dy4eLB+mqDPER1ZH1VzaxsrKXJhPwC81R0+rHv1CA5bc\n",
       "fUJ07pIqgBQdgAzwceA92zqebwEBi4L9Y9Z1eyvJ7TAZDKJC1YCiWpectHHNiBzG9/552suMcXoo\n",
       "GO6itCe3Hfu9OTE+D95PgQ3YJgHULAlDpQteImLPgbNYN/EhDGbI+KQZG+kYQhCzzcAICjEei4mT\n",
       "yUl9jV6drTEI2y0VLtsr4t5c0T0/bOpG2Akwn3UtdyBKsFL8CuF94BTam0HorgfZLV7DlOAq4e0K\n",
       "K6nFN3MHOixOh533fYHW/C1QAnEMyXwwmgZGHo7sclQrnxSOp3gaL+/3sFKpClQ71UHBBxbTK0ZM\n",
       "VCHgSHrZTP4TvDtUH9Ek4wAKzcN06SSKTtr8GCVCy4g6Wh+lIccPrCGbPqR+ZVCk09MFFn747gWy\n",
       "XAkO3Smh/BNsJxVqSbsCVgSFaC6uA++zHWRPvZI6d6AUUWwBgAuw+bn3pt+c33X1E7j6FP0Gr1Nt\n",
       "ip89ACNAl9FFcWn0CP+IOTALnUfiugEHH227oDTm4h/c3cgqFNNi8HLWvRu0HR0iV/tXKEM+n+lf\n",
       "BjglFc36qsv7twn7Vr+UhrqB5tl3VNdXCIGhQ4hSs9XkLzVifZMRGjMERUs4cdKa9rRbIOXZegjD\n",
       "KqaNxA0/DcRWtc0Y2Ydfy0bw4LSF5sOze2FXtlPUDu5P+VlhxcMHY///UITfcVvqrGGeSP5w8ZwP\n",
       "rvY1Pamr3R57K+sHExp9wFbefnb2nMMLBPFXihHPvANsq8ogU9k+eICGEI+9DU0wTN94CISEbpOq\n",
       "wuaIju4Cl37DBcTHCh/Xw+3km164LCeTl7Y/W6jWdkN7kF4XIPOdUqh376L1d7k/E11I3UQgXVb1\n",
       "HvOGTIoy1CsTeul3A+mLaXjkpFZXrGYSc4jQAdPEr93NfwxqY018tHx5ndKloyN3uQhNH1UCSEky\n",
       "FGbl0Dcv/xj7FyrNqEyBJE8HzNL6al8YaUBf1E3UVCcnkOYkIUN+9haRsBM64DdWrRR2fFdf9Jgi\n",
       "fN6+lN/HEW6grCS+UYMs5hCMBmj70Atq5ZbFErOlChTrT5gS1YnuZIDc83/DWhxrLzBSUi0Au8co\n",
       "Ej1ubTlwe6pEOZioNplnY6e9Oi7DrlqCgfSktCFIMc1d1kLcSuGWPYUzdCl3GrBwlkmOCBc65elv\n",
       "cA3ZiISkhaNN/Ot8WHlPB1kOwOaCcBah7BqnJagsz4TbzfiOp8ANBvzQwpOimk+9fK+vpU1AIQwH\n",
       "fTjKAOf/TX+/PELlDzpqJn1VGCpxiZgY+7vQelCGshb0s68KssxeLZCTADedZSAUfwFCV/0afMD1\n",
       "xdNiOm+pJ+IOjyv0+9PCA4ePvQlC/etT+aaoJD924gWhct+IBKNWXdzr5YBc2M4yiH0KNkrRFsXs\n",
       "//ff2wPQYKB+gte9QbB87tYJX/SOzA6/I7uMZlKVjPmbMgD8IS/wcR9/q0qhg9dDO0dxuKXdXYtk\n",
       "Lj/p/5MEO53Ce55caQvl9iXX6A3KvuM3yBeFi03H2WRMIRxjanSDPJgEGGoOGpynpk30FbEhL+FL\n",
       "pkXzsLCmYTqMzWBUlhxdj7byvWlkj6qixPakqes8N23nU9otBGb0+ntkQi22uEo2We4jOShyGqaa\n",
       "WApGL1n48HIRLyof/Ue7ltX8vRJVQKX7NG6j2LKo/XrSL96PVCZ9p78YZjNnLdd+fO8cScdFrKGE\n",
       "wTfm5fwoLeF9VU+uFwomG4rPjFxPiDSLz8+y7Rf1vcY+jqsdzMJd+pbvUtR60O8jdzjua4U0UecV\n",
       "/cVu5dvupAe/CNLhzMr0dnops623w3h3vBlQTpxO533ZYR5L39nZ5UAvxC1p7D69dtsWOMfweokT\n",
       "U7AJiGmXgw6pArOPO6EulJLLbX30WDiLXzQeZXMNz6/eeo1P0t53t0pgu9/I4Q839SuSGFplUNPg\n",
       "TGKFr+6WJvaVHTwZBLPljA4LFOiRmGR4UerjTZ5wO94BjNNaU7SejotMRof2+xSQmhXEEZl9JWLf\n",
       "AiBqcWM5kdudKwTA7kG2EBpe3MZ5zXratKGuEYOHHbBxlDwImjozzpyTbAgh4Rb/W+pRY/qtCBje\n",
       "yC0LyZqzj99C23CbtENp4hjU5z175ZWX7lo7TAJCPPQ9PrlVJi9IpGvkOT4KmksYDsfdpdAQHsyu\n",
       "ZPvn0iFV903SS0SK4F5LupB7dhDibPyecmlJydfYv5wpzgW6KNFbuiou+Ol7m27HpLaLSgGkPXK9\n",
       "1cvCMvb8TVu5ZuI9NNze6Ae47FjevnL21s5VjC/sO2fZUqEd0bgtZVhbJDMn0p8W01xOYamlIf8Q\n",
       "uG/29XYi1bfT5NcwBCkK2uT+hHOTTgENuQF/JENRH5xW3mQpCtZu3OrNiCzu2WjW+jrnodD/nYLD\n",
       "8x1LydOr0ga8ah/Htr1sBkDk/GKg21hlofAB4kH+mzx43C0Wn4btQXNzqACKGzcSZ1oG99px2hi9\n",
       "lgafrh/bl0YGAq4VoSHQzc/Q+9Gblg9cMS7XsSCprWunboXYAAAQ0QAAAilBmiRsQ//+qZYAAd14\n",
       "wZACugNzdj+iEyGml54jPh9x6eMWwE1edlwoUEhrzgQyTSNCOkYaDXfmAEP2K5WSf7qj8njI1LV5\n",
       "jln1n3apFsbGvp7bS34gakdwvPeLHovDAn2WYfBRZ697fx7k6QTivHGjetiSYo+zIXZtbQuR10Ff\n",
       "45+VQEJzshTN3zfuTzpJJ/drPS5XsNpVjPkWYh9JliGvcbyn1+jPCDWy9JvEYLdqKd2v5s3i/t1g\n",
       "9aq+//JdhiBtHFDwg5eU2OjI5Pf2PTuUPMYdPM8vM54sLL2J/7DdxgSTa7gT+5SnLI/2mrfGGVmH\n",
       "vvqxC9D5aiFp+cZpHIoKvLQWjinxjxrXl28AlrAwm9BGUatXivvAo4riDfUOIP63My11hHfy4BkU\n",
       "LCDzkOo1eer9OVqZhFLPAGo57UJUaziqAw8g3bzYB+red8oJGK4wG3zm+AXgetFQbqxbYx1m9O6o\n",
       "wUzi+kX795ilvrzUwC31JTZec/D3Rr2/9dPSDX6L35UWCbqSNh59j/sIsPoCH/YAmpqC+kbvWq+f\n",
       "pfAgg7IwNBJgm2rIHZfkQt4UCZCLw+T2ShzAsv1g7PZfFiJwBzHzjLzJHFyodzFj2SF6OeqHIs6U\n",
       "GjiQRy/j6oCCi6BFLYVmnMQwd3bUMbMWS6GqlwCBtVIKaqdl3LP+zbnHEWcKocBJkCCrljAuhs3E\n",
       "p5waf59MXuC2myKL9VBuSned57TKhbjIP5UwAAAAjEGeQniGfwABpfi1AJa9/qR9J2+zXDAuK2W0\n",
       "J6Cw1Cp3IybfSdiYU9oANoCKP6ebi+tK85uDcVK4bU2S3hJGbkLt8v2kR433xwUm9unDRIy06pEP\n",
       "PUni1XFcYDHraM8j60bOYESJMeCYmt3NbMeKeSsy7dBi6U6w1em4CJZXVDJz5cKueqTSCC0zh5sx\n",
       "AAAAgQGeYXRCvwAAAwAKzaLWf0AJas9/5OpJk4KXpHZYSrWKcN1Kdc4E9Hs0DW2E+EvD1zua4iF5\n",
       "0/SZaMsEiBmvPicW+MNRDZk9Pl2KBSt6IHQGPFdGeFpVu5mSQiniA7hOJk4Dl31A0lliEcuI1lSn\n",
       "L7L7+rTUmGKgM2kjUCN5Gog9gAAAAFcBnmNqQr8AAAMACskGMRcpu5JdtLFnUN1XkJMQU4NHHqj2\n",
       "eMNggcHlDzZE6bcijSwV0Cg8FHIMpD8iCzPN+XIALqQCeFQ2fNtOIdsqJoUZgyDxI57hv1sAAAIi\n",
       "QZpoSahBaJlMCH///qmWAAADAA7pm7itimCwJsFdsG5LOnDhT+1ozCF9ALHkX05wMzxOWS75fK+P\n",
       "kERTgeiDPqVBr0TDwBnjfe+nr75PU4bhnMk981JGEYGYpiTO9t0zYZoahh/h70EoJpRDcis6xLRW\n",
       "UeEPF+o190ytynA6tj3opE2QHHU27ob8O9tu8eKiCSpw2WNeKhwO9kcTVY/5UVYatjJISxs6inxo\n",
       "VkjMLpt2pOm3f6v/bEqcNVwCIuKaR9rutslNg2W4ELd3k/Cky9v9wlrALv56z/x4vT/11GzFl/zq\n",
       "SXOI2EKAJs4KU8oL/0EwkrEXGfgmjaH3XbHnwPYNTfoouM6LBSFV/ffe8DssW+cxOzrws6E1WFNI\n",
       "fXg5k9zRLT624GB3c9sIN9DG2owuwkhOK++8NqkXni+n1blBl8wHMb5gBOujhPpiZn4KIPygzzqp\n",
       "E0ElR/bTlyQNDwMxsuWfyfVHUJbIN6VhffB8FgcxExJ1oCl32a0TvAcgCip4Wza9ZKq8unwMvWMB\n",
       "+/b0lFWaZO7bodCT684r2OYtWGYvVphOHOB+zLw4RHWTygiC1PQXFUdOG3Ia5vgk7xdbm/7Bpi1g\n",
       "BnQQnV0SCKnAQ/HDTMeHLm1NHc0RTqlOZCRNmDlw5YcObJeeyWXbBAoHcA7wD2nsUuDHwdOMrho/\n",
       "QJ2tJnKtC/u23rgfd0TZ+mGjzK2lJ0tIg0WHCGzsfa2TAAAAkEGehkURLDP/AAADAA4pY825RI4j\n",
       "A/empzW5diaIcpT3KABoBCMiC/ilNjAfDDDHB2LKJK0e3WC5zrQdnwUTKk1NeW3J7jhsGY+JqV7q\n",
       "qREupznaWcMnQA7cRAFjpEZ2/KZnN0vlknZQ9yzFgGCnoc9dC7yHo4p9O4cBrG2iXKAwuEuImeBm\n",
       "OW2IwB+vx+CFgQAAAEwBnqV0Qr8AAAMACoDz6MNmzL7nllSPsqMkcK0RtGveh0rYmwHRuWzF8EBp\n",
       "p5PcLdaVKh+ek58aw+XCq0l+sXgSYvBVSUIGwgLesCspAAAAXwGep2pCvwAAAwAaZ1b7zTleEZYN\n",
       "dN4wv3jouYt6HmrcUyp+IK4xsxkLLE3lBXU3CA5KMjKA99i29EMDgrracBwSiwCSxjaS7TiWvmUH\n",
       "jxG6vaJcUQNZu8fwj5Ucl3WVAAACHUGarEmoQWyZTAh///6plgAAAwAQBZHj+hbV2XHeDu1jz/ln\n",
       "55JiboGrMkFzZATrIKgZFaHAG2j0yfmTKMM99YQrOQ7Tzp9e2VVyuaE98xJ00i8nA4Gizu6uLn6u\n",
       "920VN7fdDnHdxU4ogMMGVYgLBwqPq/0fC4znBDGeXCCFef9/PDgaRq0Y0zGX75gx6k7e4VVMyM9S\n",
       "hB5nvqnRbxAh6PvLuO3RoagHxLNMNgOd5Mu7G1KinmURUGQTB4bqGFyXHKpTcjT7Yi58vyNnB9t0\n",
       "n89tc2nR/JIb3nIAEdXpqBcfyWDZQIIIN99iVMdPPvntdzmE/kn/ksmxkVbbuiESM3h6awRCBBoP\n",
       "H9gYZJwHm1UbLs+yfAh9yKAuz1UnoMCAZRN3MOs92CE+mHnff6cq1mvM3cv832bPxSAeYfMEsbnT\n",
       "4DsyvNSWMLKwIZKxVhci7DrT5QaTFlfeI3Kluny2QAu3nCAQlTDxdh+FruqVrMzfw4sRvQwyITLK\n",
       "ooqbiRXsrmryhRFTWzWsIpz8zcbzjkwTUb1BV/CvuZuxiaRrwsskHdqX0hhp4Z29Bmq+wo6eHqlr\n",
       "wF1z6BW6P2nwvr0BsZshwaGBkPNVQ/DmWPfiIX0F0Cnmdcuq4WPGeZD/m+qXgv9a8dJHQQc7Mcl1\n",
       "oLxp+nWUJQ5vE7w15Lffi3tVBkbW8uQKq4jSXVkfIKNpI16xPgBOitMtUd57fay3XHAAAACeQZ7K\n",
       "RRUsM/8AAAMADoMECD07PBfYlwVKlQEmqH6gBGZR9FXqiaw6sZmE5PCDEYcckoHRrHBmQyR1jEfb\n",
       "0MAxGqeUatKVclL13hNMGz5kggS+JQAT1+ikKc+llZKDpjpwUSkYgCe5r0N/e7L5l/HfWSOuyhTQ\n",
       "kLg+0550m2ZFh2rHh6mNKNboY7eGrOGTu2UBODESoJ25Dmr+MlzV8EEAAABjAZ7pdEK/AAADABoc\n",
       "71da0HdQN0AG0ep1T/wHJfNODcuz50QPJwAVtCPMhnDhkniAsfgL6/rVYhnPGRXAAbT7N5I8IFbu\n",
       "+7WRggKpHgpxBxhf3u+1L5fMYPni5L4TXweIvyPgAAAAVwGe62pCvwAAAwAaHO9KGGw2ZtZNC4YJ\n",
       "7US8kAT3cYLH8B3xCmgP1y92C0WCuU5MqYZuIy/WZaIibHNmo9RTV0izO5c1PFCgGrxWtHVb81rc\n",
       "TyExR+kz4AAAAglBmvBJqEFsmUwIf//+qZYAAAMAEQOzY6Vn6GFk9nSpZfQDUcwChBBdzb8mOJAo\n",
       "a5oKHgR/mR4BC0rRHt4pyKbRaegovURJl/MKtgykElIkQWnRyqKzeOvpZszI6YcxgdHZDJK7KI69\n",
       "c85oRxAVJ9jL4fNprunQOM24KPJFyMbj049HXBqqDxYVQwXgDIrvA1wOAZa/pbmwZp31+r2lruoB\n",
       "t/R+mrq8VB1Ygm16crGVBrVj4KZynus0yY+V9TKPVv0x6WtFpdvz7Ifv9fR0n29JfTeWGCCC/+Rc\n",
       "6Rx6puwXQ6Ek59ty3b6a8//lqvOF+QBTpnb0LbWKvCSKYXHIt/wOe3S+7UmRzAhbBwkSBHvqnyEB\n",
       "ZGNjfCFSG0+ZZxeUwov3YL8/mWDJ8oqTptjDUqIfuXGN74odKhwuQk0RGVhUiNyE7GSpKtvR6aTN\n",
       "ssHCsBINLoic5t+ctr08prkA+ht5HNPdWf+eg91ZA9ahidWBtdPe+QV0qz+Ek8IHeFTwm28R09+Z\n",
       "1ZhAT8RS0dZrn6khxgbSqxIPFefaA6cCR8lSMODgPdv4nu4/zrWfVvJE3Ywg9DcoVbOYmX0Lq9jk\n",
       "ayzY+bKQVtTocQIjhZcUTYh+isSlI8vNGRldqnvlYT9Po8COcKI8l7E0NeBdz1MVd5C1RWf2OIe2\n",
       "P83sDjGeMb1TWNzhdfkTNE4ykQAAAI5Bnw5FFSwz/wAAAwAktxYBbhJfmJl5oPOT1scd0/LbK4wA\n",
       "WILiKiJ6tFsJL2/zACCmFf5pWMOjOulkJnpLoMOPTXAx0cBWjVLfwt2r7zQYickIUSbfjFXptKHU\n",
       "j+jl182juHrdEbai7n14gPq6egEmAUi6+B+9HYU0gJ6xl7i7hTUSO8dEqCrqWhV5CwdNAAAAWgGf\n",
       "LXRCvwAAAwAaU8G6gy1rDEImY3L6AyW2FLwAeJnZEuMACXxZZ15IJdH9eCBDPiLq3XLcPEK4L6Dl\n",
       "i3vC2uTkWHMtuegrmvEBvJXIC2kcX822OPVES7gCPwAAAE8Bny9qQr8AAAMAQ3X+uaorKPp9LkIk\n",
       "BlBuIlGJektC9kj90BR1pAEfLtzStEO6Mz73wax+mG8Av88C3rxZj20h2yRUmKhTvgC6lnbe5fmA\n",
       "AAACFkGbNEmoQWyZTAh///6plgAAAwAsnObHTEPIcJJN2V6UZYaSRXRu+dYR29gZwoKJMx8oARiq\n",
       "HResVNnP/J6TYrAy1105SRoACjKz2vQr9E8Zk327ChV4UZCdWLGX4SKhC3BAvtIHjxBHJpwg6tqd\n",
       "yLkWFS4B9gi0q3WNsA2yy+qCX2rFlS0xaqmZDNpGBVnUCaLaFeQVjsYEaBNS2uoht2gkk2GY4cWQ\n",
       "R7V9kbEotbkSOrjXsJ1o539bkFJllrBkcn50S/XW6ZCZTNJkdBi+1pwkJIqTuWNpGdXaSejSlTR1\n",
       "MSga52Lslq2YyI5bsJlLBmVzOnGoBApm3ajEhpTQcOtdM6X53bxt6sLgI8Xet6V5jHh/tOl0xGSX\n",
       "l9kNVuy4GG9Mg2sgYjsi3f20cEk+xmKUR5j7+dhc7c6cyKA0UquX9wqUQdN9o9VVLv8o6pCFAgKi\n",
       "nXjznRiTD8p79uMI+GMLgENhlt2bYvMRXBWZCw8XiCu9gkGQIARo2YTq/x3qYJwQFneNKt7Cx9wA\n",
       "iwhiIovqzxdTCYH/nvKdlRPS+raCOZOonROtgL9O65xz8vRsrjix92I9hlpi+iGpwrufIZeFG1SO\n",
       "4DDskiURtJhk2e/4DcPCLwVy0BCOOO1RSDsTG6mMTVhPCQXjMTmapDUFA5vn91d5dUifMtMIKR+7\n",
       "MKPZAkJjqtmZQ74E34rttxYtRRtCRVAqYAAAAJ9Bn1JFFSwz/wAAAwAmtxAYUbXCxEzMgmwq+QJ3\n",
       "E2HVSgsIG4W1ntP/ci8Wv/gPqVeKZLvQYJRIteTzBsC1YYCCusn76T7fyvkjJdnRNEq04YclQEd3\n",
       "sXXHX7s0HmAJYRNHdP/WTvUur2T/PQxe3gKTRZC7ZtK35acg3KEQuG94K9eUtm8OvwZc/uAhU2ow\n",
       "jYr5UtLZCK9srh8IoD7WUXEAAABdAZ9xdEK/AAADAENdDiW4TZIYay3AKDYNfay5K7uh0yADyvz+\n",
       "WP9aRJ1gzIrOkBmRLih1hsK4TAbMOCgBFunRA+suAsbfh6FdXlLxvewPiKYsxgi/ohBjQHgrRma0\n",
       "AAAAWgGfc2pCvwAAAwBHdbnIoMp4AiJH+NLGur4QwVE4ZtMDywPDp7S23ER2gDxjlnBvd6e063Gu\n",
       "FEKpWHhEfL5RQyJU6VnZPiiclVTgGSrZ6zytfYJh+3TYOVM04AAAAflBm3hJqEFsmUwIf//+qZYA\n",
       "AAMALcwmVK3AE1iWCbI3WWACi2VmeEutgfB8OlzuFzDlGmDgieAKIY2bu4hKlrYZeiD5FxuJun4Y\n",
       "zlaaZ1UuaNW7pRkCqGNrYasOpvBkbcvU1+Vrtduva0ebvc6fHcBd6sN2XEdJRkpXI2L4jz6r9zcC\n",
       "w0QD4YMFDeiSSAb+cmobYoNcAcJw0mzi+fnKyNMaNxYgRvNZqgzi5ErCcOymvQP6f4v5dfsPtGHj\n",
       "lE8MybjsDmGgDXi+rhzc2K75usknvozpoMwldsPD5GIy3+F+h3VFggE8doM4o//ChB45JSwGp+xM\n",
       "nyAVykd4tB4ly1pi7auKeqcl5PDRbJ277ANxYosO8o1Fbv6jrwWHlg/aeHuDGs0FikAYGb2wcMqs\n",
       "g/cEkgwsZGREZeyct6rnLPXsL/RNuLc7bjPRLM+vhBMLZw1a62G7Cf+5TqzPvJP/JfyXjgCEVbQo\n",
       "xzdib1gaa9KvujcXH1Rf9v+q+kjz5oBxC/K20ovR4XPu6G1TH/11ljoSL9gjf2nP0Xd6fQGNiCPz\n",
       "MHjTpBedxF0HtuM1FhKtfwYfme8ApK93czNJVw8NGgV/6Xj5SUobnYDPas8+/sTOwXwBxwnhG/CJ\n",
       "LzHmCdf3MULrfquJqJrLAuxWDXyBHRCTk0s6e4ky6QYxAAAAi0GflkUVLDP/AAADACjwE8TYv9pg\n",
       "Bf2A5FeFCGVapKIQryNt5Pyy8qw7JfXhZsH8oTtUoRYDT84ew2fcl0LuMRkWaPTHN15Io6gKYAGx\n",
       "UwL587jSinvaaYbjczj+D8K2bf45TtakTqcHhR47Hxe8YZOr+XJd07gRoPKULFQ2gkLOyWAiRGUx\n",
       "sfAIRkAAAABVAZ+1dEK/AAADAEd4QDBudtSQoAEAeVRhBf/LIRSQ8A2EOVST6ar22ECvklIe9ow5\n",
       "XjeU185ZyjuSfDBngp1kbs+XfGnmLfNxFXXt/Y7+DZg1MMAI+QAAAFoBn7dqQr8AAAMAS3XclWd9\n",
       "TLLEUedjOU8ROjvnyh0hKBBiz65e+1RWgBWkesBpKAu1DdZy1gXicf1g7Qk+jibjeC/gXUGJwatF\n",
       "dTa84hl3g9gGnJlIbkdZGoEAAAIQQZu8SahBbJlMCH///qmWAAADAHf/l6njLFYv1VW268zJgIVD\n",
       "C1z4jmQthAlT1aK/PyZ9NtFVhICdt1kv0fzGQAfkKzn+R4kh89CCCvYtNsg/XTX7WH/E+/jq0r1n\n",
       "tTFnKElbOrivx8YwA66HTsndWPXSxAnVXuRzcWpAlsRQGhAKiKD9lGQCZ84xzHc9HWl952xRxMTH\n",
       "PX6UO5pB8W3iCUrpnJVzvStrkURknIlvfZg4gDenm2smtgCvt7wzBwhajn7FV1+XFRCzA9VIeMAL\n",
       "yaVejX1f65txMwmD80Eonb49/pjZFIDzEUkravbNgZ638HqXCldcuBFiYPIT9gKZlPmDZzFjLhrC\n",
       "OFuJ3PHQOOQ9Ol08g/TMArIxJiNDTHcII59eRl6LgJkQ5PLEl+UINO5VKsivSIROpCGW50ix93q4\n",
       "Qw7MLw5flsy+DGp2Z/oNNmJDCmHFSf6SKdtqzxErY0/gmXS3xkoLkVmm+yO1VGaeRBYg1dq31/Vv\n",
       "eU+z/Q1FqB5jMKEHT3LUYLaUhTJh/jj6I/8gG7933P3M0AespDA8vv6Mromtb4Ka+Oq5TbDoKFLV\n",
       "XTdlia5gjhaFURnwWtDJ/joL91U7hx0BVvFJmvKqm0gd3J3yI+H/BEvdg321Y5n1b009jUvQB3in\n",
       "1+e0fYafbBM3A6aAAH1KAOzd8xjSKKmfNCNFyokR7wyctRHAAAAAgEGf2kUVLDP/AAADACj00ADe\n",
       "BrwzaMD2BfFVrNO+mcTGrS9ZosUnoB3sGIc1kmp8GgASVi3I8nujrpBq2DFZRixEAlcnz4AWjDar\n",
       "MOJdAV8mNk1OsQLFevmxlliwNxtfwfuO9tnqZM4peZZKRggdy11HxnNAmfE2hYjhYQL7Tm6BAAAA\n",
       "UQGf+XRCvwAAAwBLXOnJNh7b//y/H3n2XhsIOa+mtn4wWwhI1d8zFrMYARgJwjmZkNsz7IVTU3sK\n",
       "SoAAjWp7QqA7MlZEPP8B3xBQFE4eyUObMAAAAFoBn/tqQr8AAAMAS3XIVzD3SRtaynz39U2JfTOB\n",
       "WXaCyzoVJbr/DYOfVBW7sikekIAP5DExC7EqL2UxNZirQbC8R+HWycnz0pEhDaloeBGqcwWNxhip\n",
       "8gCzgb0AAAG2QZv/SahBbJlMCH///qmWAAADAHn535XLeWgAN2Q9lW+uso6a915lnQVmOodrSlgu\n",
       "OiBEINFkPEr/+1dKEYRDEfAqrQXGxN0MVV/yogaBys/8u4/X4qHGy2T9FN492zuktAcmUDDt26M3\n",
       "OKz6JCsYJ6wQk8MixZgn8EzQs4oB71Qv90/zfuaY5qdDSKQVBA2bZjg+zHO3ZA4ESisCKHSCd5MY\n",
       "Meeha76En8jfTN3xCQ19Xi1YNe15AMZiUgqclDZIMN9xWwwIBrRk3uYH8xQ/LO0fqT6TDlRzbJ6Y\n",
       "J1FrZP3M4C11K5T8e7tR2yRkq0SwEKQVxoxp8u+px20E2vKz1c8IOKT8V2N7d6HnIjedisC/tefO\n",
       "tFL8TAP99LHuPP2ZuQExMccsClg9pMaodmyTokNYw7FO4yLoweM51QF1HuqrsYTUi73ClIma/rmo\n",
       "cZsTmHNUFxKSW+mV6Hj3oXjeqVUBjeyHm6rTUgkAV30N2xBx2Ogj3QKnXWrGMNX6kmIuRZ988Cmo\n",
       "9mGMtmiYrciRQ7tB5GrDBL05WGSL8+SWWZLJhWoQ6aEcDKYXqSCcMepTeIfWkTCrAAAAX0GeHUUV\n",
       "LC//AAADAJL6B3Oejdy0Z0uNpdyX7MgrRERz0IzGitnoydVL9Pb1GVRgGrpuIAOOY0Z2ZXTyNuLG\n",
       "wg3CU5cDMbECVcFhbHfkoXSgcnmZVF4HumudWSF0ziroAAAARQGePmpCvwAAAwDIn24uodtJzPMK\n",
       "MwHNkVXJjJr/ehQ8fYMQCEgXmBYpbQiCFIr//sofP10TJ7a9TOEoHayI9EHzytABJwAAAi5BmiNJ\n",
       "qEFsmUwIf//+qZYAAAMAfPEG3hdMQArR69KIzDn7uEvJmA1v11MraKkJEPboXox4P/Xd4h9HzY/g\n",
       "vL+3X93In2pAYNu2CO3IdAXzPlLPcqNFlkqWTDtNP/OVRVm4kDy6oJafhfg60LK7BjImrquamZyr\n",
       "Er6nvIf/VFG8tvg+2CrFLa5YIh809tTthLJ2+0T4eN7nyQ/HCWgV1uafwqYTD+V2ldN+YuOXzz8w\n",
       "gTO+tH6X3EV2sRs4Ceptx9RCzbBqZsDwl4IUfgNh7BpC2GhTR7QdrmUM/l75/j+6IHnCmGdWJKWH\n",
       "0i2SKkhPdPeC3bdgBkrzb8WyOY9iAd5V/cAB2+jLxpyZUGz2yzzLzO+zLnjiDbCSJQdtqnALS3Kr\n",
       "sTvja5xOeCWez2nENit32ESCRjnKtzegxO0RWRTAgUdexSwSOK+NbL+MbVwPV0NGu9caXBiCylU8\n",
       "s17u5NrNz5i5MGpWu+C8BMUKDj2gP3JeIKAMMgwRIAmjqO8WBUfyyYZOrU9qhCa5ID6+EUyEM5JD\n",
       "rvRz0L2W/AYdF3ylVO8hbRfMwL9xeiUUNSsV0zJupeem5LCyOXCMZhQGXKSF00KncTB0P72WqcaN\n",
       "G5FP1m+38HZWtjpsc+auNDhwkSUryFC1OCWPXIjPi47xcw8W5Vutr8y1h5XnvfsLZ8P2w9+wBIrq\n",
       "pJvdw4RsyW9TzRtTNCoBsEasdE/k/o1K1RYWYBx6o/QX2WSBbHEiRf8AAABuQZ5BRRUsM/8AAAMA\n",
       "bnkSWbJ9PbKi6DzKmKs0vm7cV5z1dCPQ9UpiVUvj1zTWsd7/rWifAVVjVZthX69UOmKjmNCKhO8m\n",
       "/y0D7UEuIJ5BPUZFouPKyuGKL+EMLRKbXZL0wOm5V/18N9O4Y6oFR1wAAABJAZ5gdEK/AAADAMvn\n",
       "d7VBPiPYY8SkK1XJNXGDj3Oj2cpN09wqGU+pKp+PfOZ3WJX+Rc9TQfiAo9uE7ZL1YUALMDoXpeWx\n",
       "eEAZ8QAAAE0BnmJqQr8AAAMAzgDnEXdFXxwhABy5k6ZTwEokFtYkBZ03nGjU646lf69nai3hPtyV\n",
       "EW3RhgTxH29FNGGu3HqB5NbihB7P3LskD4AYsAAAAgRBmmdJqEFsmUwIf//+qZYAAAMAgBlXxmZQ\n",
       "AjFAvtenF2f4NJOgb382ZYzN1QuipdgnUWWACUK2CY6BXHdWOOvXT3iAlpkB/ziW2mz7GHliYVJ5\n",
       "m+CDw+mbyjkCvq4056j5rSN5sqk7Dwh/NLLQZA+2YmCuV34aRo130o8bBzTUI93TK/CHITibCNZP\n",
       "EeLCNbPvjxqbO170FzxyaRAxf/bp+ljl1ARFmjyuJlSFeuxXcP2khVm6vLtehcDenMMpEFR89ZsZ\n",
       "Vk/gNHqUDD2z5gDsNhL0YpMMkhsz4VxtcB8MsfBVbWj4RYnhkmW4RvYjVmepFnPpzrB8Kqji/lbJ\n",
       "i8f+JKAp0xKXfpchKOYH+3jN4IqFQmP91XSBeGPJlOol0gPQN2bnxSjXg+ZK9dML13SHTx7dpodU\n",
       "OIqLDmI6JJXXObFxNyaK+auyb6sY2l0e6JGuJyWt9sghWmwdrrI3xGyMDkPIquqZiTHN5KPj7aT3\n",
       "ibFq8Cpzmmvhp46z+SYamgXmV/LBvrAy++PNSn7tiwdDVvY24b1atTv6dMNUpGiIlUvF0vFGWP3c\n",
       "VbjS8iNGGcdn12eK6zzKnpgRfriy2e34Gy8kK1pWKLBm2bMu/aOV4tk7uwm9IDLuChirJuEiE8I0\n",
       "d5QGURw/LMwd7uuR1kmDEnfEb9p7QgWsN47GRirFU46YxJ0AAACXQZ6FRRUsM/8AAAMAcUsvs5xv\n",
       "+WmueM2b0+JnCRO8RFR6iZEap7xFguAgQBAcC08DZ0PrNfP6OT/UUGXyLIudTZSmAl+d2A7VS6zq\n",
       "Zk8RBECUxDjaKeUbeebx+l8pWGKnj6shLgDz/UptPCpSh/mhMeEJI/ffuGbZmzlfwmqphPVw0Dvb\n",
       "wGJEU0gjuhY+TP+CH5CbN3pPgQAAAFcBnqR0Qr8AAAMAzgvh9+2QSsQwAHC+AYMkav0YLwBf0gOh\n",
       "gfQ0t6/CIN5+fHNGrCYaGwK/Uj5rP5QSqc7io3udLJiVA3qay/xKAANsV+ocIuKc+AZJUAsAAABZ\n",
       "AZ6makK/AAADANL0sU7wNPf1Bc9tPpZQJ5fycBMppO/lHtGwK/j0UwwAK8DFct2gyxZrYZpihxHc\n",
       "A/3FPHyPPTwjT79/BInyf/98oyu1AJVkg8oR8Dy9yFEAAAItQZqrSahBbJlMCHf//qmWAAADAWUE\n",
       "Ch6JlMAJQ4ncYXsOZRmI0XDugC3WjqmSHfIBGgrKD/xgZcyQvWFNH2WEIHRCdjsdeU/y/H4M075j\n",
       "ft52WO8+AmoeETff6397I1BgsGeOyPKw3YzJSP2zk9g8vAaDM01Tp2oP8prAgACQpIAaCRoNWmpv\n",
       "JXFyFs7lJj5bDBrd1sspJL9QFidRNMM0g6lM3FtMBPLCbuBTig2CrzfL+A8poInrljXMBwdOJaEp\n",
       "8owfreUoyXnpEK2pXr79c1RJUgv6F95iTCMBxsu28WwIzIYYPk8zYBOKX5LQap/lxaSXZjsLFtak\n",
       "LqH+eYzjXAQmjL0nHpvFN6w7sUvIY48dG8QHD3HZBnoZsnoVV8apIRDC2q+g/igz2CjfCvqWP6Ut\n",
       "62fjXttzkrLsG57DhRO7Zqzm095ZirWogN9pwtTncb0ghl6tItd32wBHwnlAp3bNAGZMdlGgtk9i\n",
       "D85UL6XEwY065clx2jEQ9l8sP3wQk1eiK4rp1vFp7GpAw2P1p5dDRTjQ0dikF/BAJnDBOBH7mGv1\n",
       "EEa+juVhVnE+QoQlC7Grr0VEJ6g5jjLlIIKjUuKpeKHMpq6TBjgJ/v230g5K/CnIYu7LSU/+U2Vt\n",
       "LJqmpWrkO78nKXe3kWHOL1AXTg5ASUGRsPoELCNZG2mJX5u5s80BnoXToPkahySQPGwyA//WLNoH\n",
       "oSqGf9FME3/i7ICgE3rQsqpjR7wiB+kAAACnQZ7JRRUsM/8AAAMBNXwvCj68kS2wALnEz8yBWwsF\n",
       "KU05Qew06Z4eIFN542041iq6oTExGoXk7gy2tt7fpPUGeUE0FlDSsiYOdGbKBL7KoVF2YZLAosM8\n",
       "2ZygxlF8UNF6UkxCIUH6IHjQ18nD23othSRuY0cVheHmX+TBqwSYNmJ8kEFyrobwLuPXgmn2ZSRF\n",
       "kG4n0YkXrKVlW3ZG14aa8HXdZ8eMw8AAAABlAZ7odEK/AAADAjvfllBL15a1UczCz90WX4NhQAX0\n",
       "oyFzhOd/Dvdz5empD3imXmIUD1QbFJbRP/5PSy+Xu6gk6ai+/hIjJGu+EWZg37g8EgaM3QJmmPlJ\n",
       "vod6JVoVBiqVWVmaCZ8AAABWAZ7qakK/AAADAjwR3sJXGxGDyFYVuTrR6i2mhMiJjrCjbNAF33Yo\n",
       "W+am9j0DS9UJbk4FjVMwAZ3pzrQpKJaCrt3DE/CQjDH9Gvy1M8LViQAyMo/O9QQAAAIFQZrvSahB\n",
       "bJlMCHf//qmWAAADAW86n2u4JoAcY/oOUsvlIOtwKxPqYJ//UysNhCaSi2eWxcPwNz2MyS6kwa4Z\n",
       "OzGbB+tWCs+IEEL/s0oXhPaow+xRlTbpSLww1mvt1K4gwCgYOIq0mFaWtUoPGq35tKALGf7uTx/A\n",
       "VZe+fIH3Y1PTtVpciy30vMnfyAbjMyfjq885gMOz/9a9t7NfO0pytEUCwdJK7AIEpusp7j6yzYIy\n",
       "FxsHG0PG7Mhh0dEGI+pqxRSZxLxtqmJfBBIKbfCJauYzOL8NEuqCyCiWoNWBpZappq8eDEauXxh8\n",
       "53oOCu5ThAIkyzHHrL8wajX/WHLmNj5JVqkaMra4UYqn/qeHhS718qFz5wNovYtFe01UI4kZx9kc\n",
       "aDITxdaPYn3oKmPzKOLsRQdrwGg67AFgw9xA2Z2zwS691MoJ0auf20Y3AFjQYnrHuHEMjfnCnFuU\n",
       "Aw60uX5BEgqyttxB2epAQ0PPbURR7SWYqpWT+Sh9LkZCcwL8oy0ry+DPkK9n+s8zIBwEblRrNYvD\n",
       "swY6EtucbuHVf/R3F3v/J2Rh0TY9aW0uIzbF++xer1yNweukOgX0eDVWnaKZWTXLd5AAv5VQq0Qs\n",
       "c2LbTtS7xMAPj6cVIIHD+nnojhmV3bixXF9Y+DRAtsKftCPkrnyeHZIiMsNG98BMXUgNXQbUyAAA\n",
       "AJpBnw1FFSwz/wAAAwE+gg6ftS7f8tNc8ZuKYlmPDtQ8+8Awi3pwOODwAw1AU3zBdOsiJpSw8LNR\n",
       "pIp2r9y1bOwvtcD/eaXZ5ODB6T4vOxAvpTDM13qGrMlF4ZBP4rDn9tEBjop92jwPgsEe+F5QCojt\n",
       "CELExCgzkvlwkm8JDoVEXdseiGqM2+TXOBE8IFCfVuJ/6MalWGjEalJfAAAAYwGfLHRCvwAAAwJL\n",
       "2isVQBjCCNgeNh9zcvifkAjiiUSFEnpBOdA2gvlqJ9eOy0sfAFE6L2k7jRk5WH6ARNrJoaYwW/oO\n",
       "ARUPovDzXm21gTkk6osKR6L0X0d7zSu++jxkL3TKdQAAAFkBny5qQr8AAAMCSuqrqAJxrsraIN07\n",
       "rh9UHBaOYsUAAhw0/GmD6sCt/oZ33F6Bca7Xz52c6bq5chpQ2m4ydF5xbtCzLoiZ41+urRP/VRlj\n",
       "vu2fCvUSH7DZUQAAAilBmzNJqEFsmUwId//+qZYAAAMBduME+boBfcGx8vhE8X57IF1QF4UOIqnm\n",
       "LdsTqAgs34kJguX6r1F28p6lcTLLiQs8NcLEePQj/wf9vkX2TOXf8/F1iYGDoEP9myrdMeoocO3v\n",
       "MJxKZCxfV1beX6aKTgFnIa6CMwXiAZNW0WFUearFNeVoXNkpAO42GAvsB4oMEd2sRi9GZ5cJ5GhI\n",
       "sOHkaOiWuSxLtdHbwbNSfR2on0is35LtQVQLOb/3+UM2ChXKeXvCATRpoILXr28qBeh+bQM2oniK\n",
       "c9iu3hY9zXiC9IoC/7LB7uh0q3ZwCvuCHiUIh/yvnuHNtKf8ka7rw3ZzEKo3rOtINDEJorqLvoko\n",
       "56vU3Zeo3JCgRFIyohnXGwzk/nCPva0IeBRUtw7ySlKwA0VKlFV89CfrMA9YXTrWv20ZhIsNp5aG\n",
       "Tf9F2yz48ejgXUHbkTNXJ4jWK+Bju54r3M2QS/YwUNj5cUY0K5/TlSa1wgmPS5+I0olB34s+720S\n",
       "zPLoUsUa/9+JDzukOJA1JGW4eTyOP/eMx+2SDqnNJTk+Ac/Xev2SRlMgwaKquxeCCNupEoiLSzCr\n",
       "ZumFpQFMlM3TuR6RwskEjVD6Y093/mCH9+1hXSa90SQPdnovYy4KRzMNWcoz95+qt8RUBrWFST7R\n",
       "LdMPvmahq0jl6I29SV08aotQdrRvNBk7L8DER65qaZTZfMJMkliZL8tvUmlvbQByM/6DXjMgAAAA\n",
       "qEGfUUUVLDP/AAADA3RrxKbg84DEtGN/IdCCMNxUpY2wJ4lJImocL/DIDl8CH79XrBrIaCyA9MT9\n",
       "5Cz0oRLrwWdgNcU53+ZvnvogPZAmVr8B7gaawmZzekQJfx+qROLzCzFxkva3sH29cyYCwB25L24I\n",
       "ugGlS8vnVwiL6c6L2GSEh19T8XN94hZn8/MD/uJduh6uxDe4OSC7yCbCKv4lwzU30LkQ8+mjoAAA\n",
       "AGkBn3B0Qr8AAAMCSRbYeSUJ3sHq/BkdkPceoZM7l9egjk3aTwPGLVQAa2TmAABVN7mPaqc2VCx9\n",
       "oLHfhlkU/mqDfUSHp86yWbrBFtKQJMMH9QGt9oHn5b4ptXOr2VZxlYwSoxP7PFVgJ2EAAABjAZ9y\n",
       "akK/AAAGcdLcNyOYG44Gnz2wappCDo/+Ns4Cy2iBaZ84PDATcpPS6eii7n6utZc0eAz4s5Qi63S5\n",
       "l5bKAuW+uNUqV66Swu/fqADZxFdqEAPCT2yK//O3GRismQXTmuPYAAABzEGbdUmoQWyZTBRMN//+\n",
       "p4QAAAfBNvzUONLg7c8lfi+aoLzxYEeZ+Q3c5vWcln80hMGBjRv7b16A6NswfY1aCJy7AbByvQiP\n",
       "MyMBmXzxbK/h5yeCyvj49iua4bqTuK1m+mHrum2dH1RiS+1Z2n4Xw9cW6ytL+MLsP6afFSZwqI5Q\n",
       "Ja8WZ94tjyu0ZKe17fR7RRY+213/OKc4plFaPl6VB+kzB3qtB/MWCzsTJFpwHr+ecv43qGMqnDbE\n",
       "UqdAGsc19id9cNW6yAdlr4888Kk66slwnyZD9OIFHWJwgACNUSSQwM657KEXIUqZCnjUBxpYGMsm\n",
       "hGIR/eGnWjBo3QWuDfRDbyL1R4SnqWLxAv7A7D6BDo0fe6XH4k+swY9wisI2BpY4mAT+1Qt5hRKm\n",
       "eJLKNLjQ2JqicAPLIFHrO64bRK68jKnQyuZySOw793WH7wRSqiqYXCPpILm4trImIllYsBgHmB0k\n",
       "ybdJWI8ASOZasVhCa/Ak2/6FM/w9Y0VR4xeZesDlrif4Glw1ZzF+UCKfMGl6YPgZXUcudYEHUKx3\n",
       "+yJ2VtpTe5R2yc+c7k036UkfLiUwCeka4OP3LSCht0ivwnvkJWQopSxhVFZdxHQAAABdAZ+UakK/\n",
       "AAAGcsMw06qNHTwr7CnRNKEss3vXfguYdlVuShr2SGWLbbJIBvUHrtmUSD9DzMMecMkij4fJ/kXO\n",
       "BchL2gzQ4PNYaYj/wml9HJ1T7f2mgW3h5ehsnUOBAAABh0GblknhClJlMCHf/qmWAAADA+YzfaHn\n",
       "gFrlKAaufxY0bHPRaqb50kdzZY6RsWf3o16wEFzEMWpku/+5tWWdGZD9gXPf2PID5tw8q/dkbJUI\n",
       "R/wlXQfbVWSjKFgqUlzkwK5Ejq32PwAXyiuJEWZ0jdgpAlwz0NYWu9O3r2JPgepD1LBtz8Wyr9dU\n",
       "57dG47nbObGCtOswY5wh3Oy5TFCsgs1QmhC5jCGrklxgm5cWCFsMMUp9nZxcfQJKchWVfMYYu/Pq\n",
       "YQlbWGG46En+TQbNJzGdswBnJvlkk0YDxtgl7DbWIgWJhRL0PUr8feJ4o7FSKCK63sl5zaqVF/I5\n",
       "5iGONNoW1QkM0QAAAwHFMucZq5HewCMolEcAsxfiRqp4ce9EljJN/q1tdKjHzD3pGhZuGKzGwuvf\n",
       "x2MZjqK2BnX83j3M93JuZDE5tUkPtVpSZ9oMLXVpZjkxnIxcw41YQlQUUPTtt81JqiNkZnmSXc+y\n",
       "XduogFzikQGowlybuSctvl9/yid2VND63rgAAAF6QZu4SeEOiZTBTRMO//6plgAAAwPmN3cP/6AC\n",
       "ctyP3vyxpr9jKE0L+5zSS5W1iQksCoVaJ0JDieD/cstpFf0u+ZcZF9S1vL04AjUeM0tSWHPGnu/7\n",
       "ZgreKZ4dxy5HLQaBIhem49CYz6mjduilBiFadSuM1iXOU8jRs3fOdMPP3qPhs04zY/m7GO5ZRixJ\n",
       "m2/ORFfLX/wt8Uof83WbDFyMO1bVA4citln7ebg0oXkoU7qrnuANGrx99KBxjKeuhogqwN10hnKS\n",
       "Xz6PPD6NDt/Ojq74xK79+lGcKe5JPO/WADQWBenKiZM7vsmkuV0NvP22yi/fZG7d5wQGUSd5aYdW\n",
       "OpxX2Zp9rGcm6LB4tqF3QMCScLimtikhlpFWD15Stqt6jnX9op+Q6vSmV14wcEe49pGZV0wLrcYG\n",
       "Wa8ediiDwhJW31oNDMPZzkbBiYIeODYzU+a7evAD6GXzctWSSueH7TYhgh1ph2zSpx1fzZg/mlpp\n",
       "262H3qq5Rs7BAAAAUgGf12pCvwAABmzgBlyocuJWuCcKEm+oPoUmF/mi2Uf+Bcq1nArlGMTKdY90\n",
       "JWphjKSPILjaB+Ty525NrdH1dQJUOZM6cocswedadlcUjyRj+l0AAAHzQZvbSeEPJlMCHf/+qZYA\n",
       "AAQCfkg3b1ABcmwn+QD9d6I4hH59ibwIUeqPV/ZxTnX4Q6CiS12afo2rUgeb80JQUjUTDereI3JP\n",
       "rVGjVEn/+okNMjf4xZ/qXfvMEOnU7Vf16kKWDVA8BIfzEjuB7l3u3w8lCNceX883fAyyQ3L3RteB\n",
       "aHc9arj3gYwbsn3XAWCT/1kRuR6yD0q9+HaK2fn2JSFkG3xeIvT6DD6Ut+OC/rL5MlkfaOh1A6Kt\n",
       "ZoP7HrNJZZUKqL/6CFd01DP8ppty2yiy01e2qpy1eTrU+ekhe8GHPORvB0uCVyi7lwdWZOLXDl2I\n",
       "q1tH3V5F5FC0t68YU/uU1n/G+ocJWyizIw92fmpQJwWoglHkUlZDZ2zKq6UTPrMMTcrd2L3P/C0Z\n",
       "DXXUuI0Z8gW4h9C6dkZA+V4JjUOp6Ty8Amd6c4BBUQsWXT8Lo610l/fJDOGFi3lUfOk5/WXBaN8B\n",
       "fgL57zt32xLKMWF2+HQ24yVIWqQu+SV0pwZHDz/k9QEYLLkoQzVvK9E7vb1UdIfOr+1yEcLQkMdI\n",
       "twiL5GpVWOxSB3z89C1FffIoNL1G3+ij8OARqmbzbQ2wxW01w6Ky2r+nZlD9J7ZvX+AYbmzG0LbD\n",
       "35URQSiAKygsgOBLPXQU94zg+ulqc+xL9DL2wgAAAG5Bn/lFETwv/wAABNYw+GB19bORJmKrksiL\n",
       "o48G9MzeLg7C3PsmgAlYVA7/1tjfrdwc/JCMXqsdB6ck0+mwNiXxbWr1yEqzg0IZt1oUm2vRKINz\n",
       "2FNAtgQzeJ8CdE/HwVpTq1Ye5sf3CW3FPaAkfQAAAFcBnhpqQr8AAAaYHjROi5uCccIqTJ/M5QJR\n",
       "vLb6JxwhD0H45Qc4jMAfbLuUhiYhQg/eUnlTZ+z7aPfNfwkkrgXJUqTI0yXM+5X4vQLEByWCtpjB\n",
       "J8S0g4AAAAEPQZocSahBaJlMCHf//qmWAAAEAlBzOSWb0AEmcWQGJWwgnuPgiqeq7Z5iW5ClYY2f\n",
       "1HHR/Bnd94Pxa5JhTuwAkFenr0gv5VgfOcoxoSBXeKN7xJ5BDXUU2ToacED+tWjj98+e7TM0vFeB\n",
       "oaBAoNf9ZAxjxQ1hmmFu0nR07gC9zFz2mBy49zfOYIN2cg6Xr5xMBIvcVQt4xRcYRicMp7a2gisa\n",
       "40WYiGDdZGDrc7OSvPdYklwyrV7kcTMidG+EZ0Ze04CY4Y33keUWL5yUkpm6PlJX+rF7ZmqGQ2nV\n",
       "tbIRwkUeB++emuFjCZtVu0tRkFGbuMpcIjaRK83BDArHSw3WIBhxJkf/61jlFx+8bdtwtQAAAb5B\n",
       "mj9J4QpSZTAh3/6plgAABCChN2a3Td7HwpABeEI+/biWhnJxeYt/m/KYlF1EJAFIUUqh/p6h255v\n",
       "CO8/zN0M69rXXnaFrRjJTe+GSBnTlJeEmAQoNb6eRrgZk88HXJrWvl5CxeQD0CHzu1AIxzz+o8GI\n",
       "bX39lUMzZo3llNOvcdX0kPcoas96zYPu2pCzq+SjeWKT6b1Np9G+yXnPEX2qVuDVkuGAZKzo2DH8\n",
       "yUeSWO4zoVVSFn4am6zvlTXGMx8VfGXXibgDpGyxOVUfvndiGgwBWZYl4vHyhhuA39eKD2xH3PiI\n",
       "drui6caCkfvByXkVLyrtHLzzGwJutKlR84+Dlz1JSA5irjhSj+pTTcXCMN1vQUPc9XNdPlG4O5g9\n",
       "NrnQLfORv7i7XYO13JO+/n14y7oSDssyyg5jZ2xR1jPPMsYKKxi/J370jLqTgzOLW1nqS7lq8KJL\n",
       "2mph+npeUWSciGjeriG/OxWiQM5K+g7U7oqvEsxM7K4KzApVfS9BJMF6q69CXWUbkaDlVALm9srn\n",
       "fNniFSZSaUizdy80rEPFBa5CD34X7yxsHz3Y4bZ+PWjtmyuVusHHNMCAPQLTpwAAAHBBnl1FNEwv\n",
       "/wAABPp3H6D9cjcCQO6ylyHLgAgFzoLtsv3cP+Yg7FPErTEZxD1hrsSAGNBSwegxzA1aT4YmPyZT\n",
       "WHYxARNB74U/2rY6soO7C2CYzajJb3I4zQQppap7amoewK98aSK/hJZXaNf4Gqd0AAAAUwGefmpC\n",
       "vwAABsHO7QQEVod65cq0khB3NuwK4sQoqOFx1Bct9XGcrd231ys2rTPDcoZWIWC9xuxUvOZAUnuX\n",
       "ip0aL+ZhP5oWGH3kIcipNtDZWQj4AAABNUGaYEmoQWiZTAh///6plgAABCE00coANu6zjy2eammk\n",
       "55i/phdctobxs4V9pIImNjJ/TRS4dNU8NrENVkGm0ywcjHrT43x3z86YbnJae3CF3zWx8E3Ty26A\n",
       "DiM/zHziR48UNB/4JJSlKC1On0zO3VSIjYHRIpNM3UkpVNuL7jbw6MzrXn5QUJvl9s449AjDkvJY\n",
       "oGPD6rMLb6KP//+8wnLPeZp3FqmNFohruE7jmhKF7UnMUkour689PLyxjb3/XFAFVoICOXR3Dsck\n",
       "tPZ/wn9EXruQbryqnOSXJLmM8dNsCKQMi/LFsxfk/p5WJkJWKJ9xacrgNuxLxu1A61wZ9vUEenSM\n",
       "Udin0dIvVUquScunE+QqCx/KG+EOVIi2Pde1wZJqxmFkHLtwq1t1Zht3CKKqdBaGYQAAAiFBmoRJ\n",
       "4QpSZTAh//6plgAABCDGgCDg8AGXeq/hTJDtVP/Tb6Q5HuW1OxBEmH91xFxnnzdUwxWUq6gc3aPk\n",
       "RZGUsVpZiVF0YLO5WcNQQbWJt/ctbuZuYYRGlEIr3CPjpl3xBrTfP9tESLBfrKwdERwfnFIU5ZEf\n",
       "sj4s2mwh0dr63LVp8WhBpYxKo6y3heZXJh+qjDN98PfXcyBAjR4d4wyGrgsvmR2khYSLLGp+ViP5\n",
       "TGeBIMMddCIMSrjG74R41X7/AS9pD2uOBiCRyjFKNenI24A3BHz5MgxX6AFMdX4k2s9c4h8M5q88\n",
       "CQsw7Sm0SLlGLxWNodGpviiPhS5DSNgU1+XhGVoJ+r44scQL4j9QRtHDtQ2oNBeTIMTIyQ/Z8xEn\n",
       "rLRKRMiHqF5Upg7Kbo/R6XYx2M02Gr9QuXCKHpiJkC340c/vgEZFRmMzV7Yt5AVXdneDp2PlJf+r\n",
       "bg9DXfVqcmygZ2ZlH038Ws16637xf+pD5cY3wTj/M5s+qRrCuhcLY2LAvar+yU1Jt15zYAZ+E0Dz\n",
       "qAgsjW59UQ/7c6a7pVJSjZ27+fXmenGVixn46b25eCAflg7tJPD6gn07KcQkXMFzkVLMvtTS0W9V\n",
       "SVllYWVPwaKpOR0T+EjXLLNJkZfgLYJWeeICjhaHI1+Dcr9h0u1UYwTE7MqJUahzZzBYxt9kQtjp\n",
       "ZA4AeYVUYf85u+MU1PCr3bxc9jDVDBVpOBOI0AAAAJZBnqJFNEwz/wAAAwOfSySJIsCvlABe0aWj\n",
       "wyubTrV301GACTfSIr2daqnmT1ieYLtdCvO24+CYSRBansH5TEF7NBQQyt3Pb9zvJZ8PS0amtL0f\n",
       "kY/KNuc0vlI6tR9D0uXtCkcOouTEv+ACM6xJaEVSGk2Z47DEyzCNGaghgcyp/RwfP71TP1rpIIvL\n",
       "A7Tve1yBqBgdiXkAAAB0AZ7BdEK/AAAGwseIxHRK8ytE0pRKkN5Y4WADPWd3HvdD9MiAhqGqXWlE\n",
       "JrS+FUXxqmAB2xurX4Tcukevh7Y3KKrSw6eTEsWVXYzAx7E//PeEijLDXT+Us7XjAu8KK1uppkq7\n",
       "UtxojGK4iLPyPooPdXHX484AAABmAZ7DakK/AAAGv/v/tKQ9+FPpxCG2mK+1je2lOglMu3y4qOWi\n",
       "spxD2Ia+h9zADRNPJMIIST66NXGz7JZT5ia2tJFI07JSFh839ZtCl6h1IsWPOVcmx1CVeZpIOXaw\n",
       "e26tyTHxGsKhAAACK0GayEmoQWiZTAh///6plgAABEJ+2DlQoHwAfVMOhBGAEygMaLJ5tT6Kk87J\n",
       "LVJvO2QsqH/M0ivNfXZS7sfp6Ni9xlP09QewCksSc8877c97XyEdM0YvN9UDJD1Mq9ApPctEoiic\n",
       "Uk8Q+m2L+NxzWWxy4I4y8fg+BhAA5dB5YJdeZByaPi9BMWTB/7+8/rkEglG78CP3+UpodsVGLykc\n",
       "wI5Pw9UZ/JhFItyWR9kli84YOI7Zp1m+AABQkFB6Gdwnwl0peAQD2/vwsfFRbhMJgwDtncr9pb34\n",
       "7Na1e9lTVtkxH5VjAu30cagdApvs7KL4x1nKguv0uruPI/vOcL9d8uOY299Y5QR38YNh+q7eKmoO\n",
       "K+KNP33fxVls+F/pXZpBwZINaLRDN56YcHLlIlj1NUAWPwNuO0rM4bCHr9dXXwD036k6Q7mGnLnD\n",
       "lNo1SxTGf6ZAK/awHlNoaLmVL+kUjswOPd0jqs2+R72q0XsBBlKMyLtiDCksRqKGQ4gQqAn0mN9E\n",
       "5pqIeIKEsXLiazjQLoo/ul4JccczNmVwluRbxE8zUcMaCYrU/k0bFAXEI1QoKw6Yh9T0xh73FTAy\n",
       "u3zrOyrdPLps/pnS89w7gnU/gH1/yba0RTzQ3hJZyaQTf6LFOSd5OtK51EhRA+9kVrV5vaflMCPE\n",
       "HRo4DwV7NP9OFkBmDvMUWTK85rfn43dflJ6+n5jQ+xajipmdDxgbNz1jWhWnFebAl2qzIBAN6QAA\n",
       "ALFBnuZFESwz/wAAAwO1CiUB5hLxOD/J6AgA3kM56a/LLyI8knndz/s9Tm1wiEoHtK65B3y5i6ys\n",
       "5GD/a+8Z1otnnEaJsTl+GHTMh04NobLGZjjmRTKpWB++NbvCm3WjB3AMGU4OojsAWMqvyHOBx4r6\n",
       "JspRZR4R9vP73375VyaWEHHwhaqrpL3Yq8PLfcmirgenPmeT4ozyAh9KqTtXNpgWnqpZE+cA6BNY\n",
       "OxE6BKKM1HUAAABcAZ8FdEK/AAAS3xJjDKodDlC3K77aNmdLDo/TM9BoP7fxHVx61CIhxp0FZ0wH\n",
       "TXEC0y2GaGC9D7qlSyEbwZmEZ516NgXieXXJNlA/RwmD16NZjlHUbhmC0YYAOaEAAABYAZ8HakK/\n",
       "AAAS4MzC1kC6WP1IL0fTybSVYAHZDWIRoni/jebOEuzObXFQc25qkPB/ddZHTGCuCincQJKbGBi/\n",
       "xFJPGdIpnQJahS3WHmQZQlnytkGG+/AE3AAAAglBmwxJqEFsmUwId//+qZYAAARARi8M4OVAeSeB\n",
       "IANk2A7Ic2LsnznwoeqjnrSMf6vOT/oipT1CgjDiAg1vlQMcVgixq8bE8DZCQ7x3FIx4F+VuhRfd\n",
       "FVcsBpw2JPOw99Ad7wnYhA2KYI8DDsVcmAqTiCpbcOPWj6rrv+LaRX7ei28Z2AJhgaPePMP52Kcz\n",
       "T3BZ2L32Zumnl8wmSVUQg7PfAYtmQce/iXmCiqPE3bjGpvsNTdb3dVYqeMBdqu/t5faxhlinfx6U\n",
       "43BZjbbAIl5eOfZbgbk2f2mN7MolpA71curEYMrh5BuCwBerV7AANfz60eF3y4TetvNOlMlcIus8\n",
       "496IJrcMrr813ztorpzuockNLivgr4kfwLdfvM0ELsaejmgFMNLA2s/5Vv+zZfugFFIyv3kEyQCj\n",
       "nn0C3qhB1+8bG1SEjmTh8/oDMS3tQKIGHzFskSwjWmYij98RpBz2jlxG2UgJ3MliAh/TSsmnm7uo\n",
       "tP/tyqLRlu3Ykv55ccN28G9T7JCzFNHSiZt9LTHqes7Nud/5jdsI86TAydkmdXeFsnN4x5dOSqrQ\n",
       "/l+qcIFfqtoH6NKDLq8V8uTFWW4+jyyT3R/4bAJRD8GkLw1U/SXiv75b0VVnKofUhJk+QzHtnTfW\n",
       "wig1wILeW1dIhUaG7Kt+MGN/4ok1fU+LEzPuprlFfjE5oINThAAAALpBnypFFSwz/wAACjytr8YZ\n",
       "V26tk7F/5BdzlkLTDABB2GpU4XX4t07JQmGoxi5zd6mLTpEPMkV7+pbF8bTqb3oCcjdivywXMETC\n",
       "0Q/3QxXS2VZZqDjcalEqxUEOEBAuSrK412d/ym0ou3ozS6HyCxcrMFd/L6jfFhnTkhhCMQkurdjq\n",
       "u+zXxMdEwc9Rb7p5z3XXj5g82UvhfjO7bfqNC9skPbBL3Wapnbp4KLvOAyBVWglXu+xJqpKLfcEA\n",
       "AABvAZ9JdEK/AAAG5ouN+fr3gANixnb/61dBiV3znlywv15E/GBHox5WkXLdgaG5a1BUs7BguW7l\n",
       "znok2kv9r6NDZOTYfdOpA714g6wgeS2b1Mi6eqz0q3iYeymPeq+bvP0V/BGAbo0qEhBWa9ejJKVA\n",
       "AAAAXQGfS2pCvwAABxWP9hMsqYjtGgOMd2Rh4/jsHUjZF1LAj8H5d+XmB7rV80CfbL0F06fRaucM\n",
       "uTSmA48mlurBQSdCVuOiJE8LK21/xwjTBH4ZCImoYJl9gBAOmQGVKgAAAcRBm1BJqEFsmUwId//+\n",
       "qZYAAARlVKfvv6IAmACVgmevB9ex6i+XCiTn+jZ8UtKLvjM8PP0BYMgt3bQsJpZUm1kWNyHCwagO\n",
       "vDyrX+yujWvgd9/7w6wi23lhwF9WeCQ0hCoA3cBt+Aei4c3WErQ4GzwyjuDBunzasPqRGgblPTr+\n",
       "T7Wc2Xla82uDmjrvtNIHDb2d8i6By/wQd2FWjIKBAj8ljdFHY0xDwof1dYTuO79pgSMc9GfsMcro\n",
       "i8D66bEK0DfPro+Zg8rvr6gWAu1ij8aPC3Bpeic/y4A5klDh/3lRFhZpHhwOQfnTUPfxh/DqSrub\n",
       "+kDA2dbuQCVUsxbuAGlGFPYJfQNQSp+usg7ImWhCecN0p2MhWG7i4OJkInZ8ZUc3DREJcXiqKFwV\n",
       "nk5n6wg1V83eeeGVAbxGB/UW77ENpv9ctNte8qC9dm0HrR8PpPFUljE9A70Y0V6tR4RZgElgB3Sd\n",
       "AuyZ7MKt0Ru+zpBPR2587CCbhkh/i7uISPih0zu3y4Prl2ZrjtMDXLLsg0+j2Oyz8DGTTERDWct8\n",
       "kNwbkjU2nNTZ4w4yy1afoSfCE1t66Ei9KKACuPgMCCRulw2g2qPKoQAAANRBn25FFSwz/wAACswF\n",
       "Sw91Vkrhn1gtiiVZ/+tcNmANluHLD0HkytXkAcADk/2TbaxpZGhNeCuW54JE24bvix5p5cY5fK+A\n",
       "Pos9M+XORtfximH24o7Vsfi4RSyZtMhPKjoD3Z+TFT4RZx6n8OFmMPQdgczLWFjx4gRPwhlPrbKA\n",
       "stLlKu+5UgZkzRYm4kwaOCOukfMgSXZ+lBgt0EdruI/CIoaSORV98uQo83HqI0QDXmltoQ8LqjDz\n",
       "cEaeLSEWb/ikWvBT607yYQSKbKjY1zLGluFnOQAAAGEBn410Qr8AAAcSWRfk3ugVgKdqF2Bbt9Q8\n",
       "aiXpruPvC3/a7Z2ERXyqQbP0vk94A6D92lRGxQl5ZCMFmmDXFXdulbLFAtKtZtIz9O8XPwB4RinT\n",
       "CMpANB40l++brQkmkw59AAAAYQGfj2pCvwAAE+r3LshIurDMyAAQ9gAAHGWM3ZWePZDP1+bhMcfj\n",
       "lv5GlUvHMwGQ3Yu2wR5Ji8zs5u58wKqj7HqfnZIVZaVMN3KTMYxRWRYXkNyKLjpzIN+kSCegnp+O\n",
       "b6AAAAEyQZuSSahBbJlMFEw7//6plgAADBe2g87yHAxNO/2gA2AfrzUiwt8DM6vMqfk9ULIev0la\n",
       "mmFtnOt/8Cb9ZQ+C8RZ6v8bzbXxB9OSbBlnYQ59Y9qhgxQX/QfpEcSJa2ouiyKqEDUe/LvsiMCjE\n",
       "cGBx8wt6gyJ4Ku8O4WqH3BoNVIAD39yzd9n02EFydPr0AICGD+5WAuzR6MtEPm1UAE4CH9syrqjv\n",
       "iKXKGU0USqL1E3gKCvWS89KOdsWCKM05W/HAgGhim8ZZFicl8RxV9evImRtoFreK/6mx3HL87V9+\n",
       "CMhyVTLmBrMWldmVUT3gwEHMcwjj5oW0NhX7yERcL5LJoe3UAfa+S77Cy8/297qEW/9p7nhh2eAA\n",
       "3bqGyw1lOh6q2NtqrntChTu9hGshDdMYsgFXAAAAbwGfsWpCvwAAE+5JmfKTZYY2Eqw1iSA5xRBH\n",
       "92aAEkqivItz40qorzhPios0G9hv1vmmpxveFoAfRGmdQPFuEG6zMH0GjkR8fVSBvntW6CKS0JGy\n",
       "cqKhpPKOOl95erQlHxvMoz6tgTIoDO9AiGWCcQAAARpBm7RJ4QpSZTBSw7/+qZYAAASFh6YUUaAQ\n",
       "RBvimmf3nBoOXO5abAf0j+Oc8sjQONNlS61WjEsoalO9dINVCpuJsZaeebzSqCDKNP8+CzhCBq7w\n",
       "S/6AzXmiqzGsstVyKl1QbIovc8owTXWyyVFyvytEejbOVq9UEauK9opnD1M7cqSrq1c51QHSsGal\n",
       "rOxgLZpgzcKqr/oLBzqfXuQ5kRjlDTWrt10ePVnNWDB74S6zEqdUDVS/KOU17YoJqomcNZ1LxJxV\n",
       "RLoioZz4BMVD4S6bqX8gBcFWc55oCnmoqRyOahxXS0YAysApi+LyYNRq8I9Blyi3bGG/YtWamMnj\n",
       "FbKjWaTDwN7hcDobZIuNRRjkvwc/I9A9rXaAGBAAAABlAZ/TakK/AAATqzHIf33pNmcCVVwAfA4/\n",
       "YRMg7Lp0lPKnUGG3EH+hQiTpSLbjdrhJcLCWIGWso+VApLjZQ4H2aNgkCH4lQNMPkNOlDd6JI7u0\n",
       "+lLtzkMVaCICbBsbPkDmNtK8MMAAAAGKQZvYSeEOiZTAh3/+qZYAAAxntoPNvkTmQBvh8wSADaoo\n",
       "YZKZfoUeYV505IqCTGrfYlVHvIf+DCFYZ8dsZwIhEd2jDwFo72KXmYyyHlawjOLrLHv3nl/g0068\n",
       "KIjUkxH1kMRGQv29eTwYF5nYjcF5kvp13PPp3YdN5GTKl4NBYurw1yZPp1EL3rCbs60dgEF4fsTx\n",
       "8Q+iTizfoee6vM2APb+bASnjw5NYMTfrStxDowvLG+wM1nTCLfekqR0a2G2oTk7rdEU5B1W7Q78d\n",
       "GZS6u+AQ+x9/eZOpPU29OWkSM8jN5pzNzoMZoAuBykBwavRpHSm3v9+MdcfAjmucn27QjBO3K5ip\n",
       "Ljl0CmazYbZoF06xOUjx+/08CeT2UhJ6ogL+gj6v4gugj8got5H7yE0yVjTpqFsSDTFlz4ygtNZx\n",
       "arswiHGIy4J10lY9Ev2eL83p/QToz0Z4PfigMWYHDO3nd+NF3PVmugQ6Mu+b8JorYUvOujeXDiAP\n",
       "Oa0zCmDk73Y2UTszZKH4wGgFXQAAAKJBn/ZFFTwz/wAACxQEbfNmGdQwBrWagAWk5Xzkm30e8V4q\n",
       "6lX4xb5Vi29gArPMge5y5i1ZHoP0DvhiFjsLPD0OtNIIAZ/K/p542tsyDrmsptxGHWylWCCBB5gw\n",
       "8JXmFuiuv2tjITiop9cmATTGIVdQ77ydN7QD5W1fp0vQ2uKZVwep9c1IkHRbzZ4IfyowO7FYaT3S\n",
       "vCEgOr6ac7cbE04thIYAAABzAZ4VdEK/AAAT6LNE/Gr2wgbbaVA38OTE2fGRWoP8ZBG7qhSBc6f6\n",
       "sntv1yTyYEePU83Bc/p4GA2XtSuKDEPDfS4q7DqADjhr1x5+1Gp3B6qn/vxZ4csN7ZyI++az7dC/\n",
       "fGXVldkbKHBui7iNkvWb65ABTQAAAGkBnhdqQr8AABR69Hs35/wOAfDgA64GszAR9toz2WF04SFc\n",
       "EUI8pOHxPcO5ED8Jim2Ws5HPWN1ruTZXVpiapDNS0KDjsaL6o87Idtk0XQbosPo73eJZQynzLFa5\n",
       "HiiE7BI3xw/EsLIANSEAAAERQZoaSahBaJlMFPDv/qmWAAAEhVJFdRPEXYALsl2Yj249RUg/Xq/I\n",
       "BrjiCIk8PgEW00IyuBKgu9qnRBxj1GPdlWVsoT+MTk8DRiAtgqKp9py00NCI+kdAx3ANf+Jng+T1\n",
       "b+7msNi6LQZVCw9B6SFz65qIWcTi9c5clfNfkpEbLXn6ey1rf6HHPmx/GhecbtWeDzaE9f4NpkHN\n",
       "wY44pptVpGuDGb6GS/MZljvgv71Vsh8r63Pv6vVupd0CxAVLhg8DrlgDPs0H5twNrrBoF58h2sk7\n",
       "70KKYIFlTP/8Ks+6posekS2hsea59RkAWWGAFkHRBn7W/cgRpX5WRNpTxGzgyS2BLpMfidECQbSn\n",
       "QQI5FAE3AAAAWQGeOWpCvwAAFH5QMw3TDlezuBWtwMKXJBRXeaNGNU9h1osABtBuBfpDBMLzFV1b\n",
       "U3Wh9rG+kB9J4mWhRkr53E15C9k3eqeMNhae4qVwQvX8D/nIAYgTvPTBAAAB5UGaPknhClJlMCHf\n",
       "/qmWAAAEo1EGNrWEAH1o0P+2AkCFburadgcFKB7KmDIlPU/Xf2XiM7z81fyDuDtstz8/r6qBoNv6\n",
       "/OwnkmM0r8ZSC3UEiXAEDLP932vzRzQIJfbG7dQe/z37Ns9mn5z6Tny+rzyPVnmbqq+HSyxsrf4S\n",
       "cgZd+GwfoEri3nXHkLbWmu+WeqeTm41O8D7eUAqoxTeYOG8VH62reovNQfSeCWgGyLKhygRP0QXs\n",
       "E65sTaJdst+BUYJK6UCqRJnGEG048h0r26dBWTWEfAATw/kj6zLVNNayvtIUIaXgkFHPXOwa41Y8\n",
       "OB/Woea0CD3vrsuYPN5Ca21k0q3s79kE5z2jh46dHQ91K9MDUE2YkYwxsQR0NjOAahhLMeCuFmSf\n",
       "WotEbq3PPpF82jWsF/VupdGnb6meGFp20Yaa0bYreSAdSRSXp5DTDaVPJn8yBvSu62mFfjT18sXY\n",
       "NOJh4L8I+LLRNWJyQxuJArzp1v1tL4hH15LqAGZ888rB6kG7pv7431gqLk3YuxUlmQVKdLmPg6nR\n",
       "UcZbMhWQXskgsh2RfT829JEyJyget187/LLZNH1ilVieNKAq3FnCPtnfrSrTtdjbXVNuS5AzkBsl\n",
       "rHz2CDm2SyM4j4LRKEtzVAD/AAAAokGeXEU0TDP/AAALFK1QkRkc6uroOhaAEKaP82y2O37kWkfC\n",
       "3dvd205TC6BPwXGRIp4bUWWqEth9PtItoLPVRzmd25u7zNPEI90SD25ZnsytXd+Pk6vqJ289yBgu\n",
       "vSi+2d95z1e9srHX7jOta/oOYZuADEn3PVH/1UjmpV7RvEOYdmWD4eIgFJM4PB6C4cHk1GuVTAp1\n",
       "imBN2H0P3KTUDo0z4QAAAGUBnnt0Qr8AABUMWB5m2O6K2ozAEUsFVKv0BLIRDHVbbrq763WNAZxn\n",
       "GtfSboNimION/MOUOjO8QQFliUzD3K1rMp3Hc90QO2zyOOFUKzxZz8wEui7W9sp3JLTJ32isd7QJ\n",
       "jVVzgQAAAHgBnn1qQr8AABUGWmdRm/wOBmUwAbB32dSMqzY/v756GWnGm1qFbn8PjiTuTPZoUarJ\n",
       "PjFG6SzU0QElRM53s1kFSNG9VL106ayfb22iRJzBfFcTErGtx96iaazf8PH6QAxruIl1AeMrYwjR\n",
       "uTI+2OYYcwZD9nplRvQAAAHDQZphSahBaJlMCHf//qmWAAAMt7aDzjyN1DHbrAkAGz7v+aAzs+OV\n",
       "/eADg1Ne90OH841pKgCy1O77AJJBKb57NdSfRVHbG1N5OvQEFjrsYkX5tQPGD5qaOBLhZPC6dtH+\n",
       "3K2JTaIcpyHQuC9N9fB0uxsotiQfgVPHOb/wuazc07ttAsyi9g76gVxAwXKTOOhRYKroeh80jfoK\n",
       "ngQbEo9ZnXMwNf8s7E8maSQb+h/CPlhfEDIGJs6hOtEhRrQtajpyNNxd+yBEJjXzMV6m8mXhom4w\n",
       "LgubJVKPrJU2+GMZg2ZgXZekcHkWFBdLLKH55QoA1OkVFrHY3oWvqUALv2Zgp6sOZwqb6eFgxVLw\n",
       "DqyzKPq1WviJY+Gzqrdd6eMWNg0ec8DhMjDmNcGzQRDWAf5ECPEZ/OMqM0UFnc7OHoD64zKBj16K\n",
       "0GQidNmDXUIqXLHlYnDqno/EhJAfjZqWc01apjoJDSU1Se7hsvLOEKwUOZ91t2cQGURmNva3rOIc\n",
       "fPJBf3LVHCeU377+O+6vfe5/3gYFGl0aV9aTpITEsYSEU8dKolOIwYInz/BKnhz8BrPyApYIzexU\n",
       "wsNDw0XN4vx8qaAKCAAAAH1Bnp9FESwv/wAADrNd8+aV3CdKm/MD0ADogPpHiWRALKHeRYUNyDlh\n",
       "KJclVrB4U4JzuY86UUjC1P//IG+g8720FA+YrJySDvGUZDXVaxcetKtqZZdPlbTUgPc8SiRlpYq/\n",
       "n2wqVsiwpvYlH3k9da0eL+dvo8TQD5NSYktLwQAAAGIBnqBqQr8AABOrMjtR/fzk1S4ZmQANokVx\n",
       "V3e7wTjS9UBFaNcIZQICIJtwR5SLGh2EGCRwRm8eR4Qi5YQ9oupFMDIEwGHzto/UN0Yqr8UHhAk/\n",
       "Dq11OjtYWfoUEgVAMlr0rAAAAX1BmqNJqEFsmUwUTDv//qmWAAAExVJRnWcBkyAEqfvliuXTnxZ2\n",
       "3efjXsTSecnwA6/vibrqX3RF4UJmAzl22qniL2A2zclNifNjvqfJSf2vTFTTAcUKICIzgKyoZcnA\n",
       "5gSaw1tl/L+dx4XjNC2oPo3CuN+FJAeUlxytQ04aoiBpaEMWcQi+enDoiMRFAcHXAppCKqcHfv5N\n",
       "KsgE3UjUBZEXAAbtdo8WUkxKMQSGEfHr6rDZd0ne8aRF/MeacXDZCkiEmga8t2XlUyohCrj7m5Rt\n",
       "Ge7bkhwB9moMJIc0FIBPsdXiJm35OPpWsF4sG7J4zzANiiCtlVvKyi9bRL+ukJoweqTb75T4SDvk\n",
       "WzaTRrlj51eimenf2DYRrRXlQ+Pld3eGSOVx3QCBiNQYBT4uoraCE/WeZddoedWLQSoYehFK+Nf1\n",
       "VgBu46ukHLO+FPIQYvdMhSETuohLoqVu4bPyTqrO6U3EH1JlMZNg7V7g7/3tdhPGmJPgIOinzqn6\n",
       "ASMAAABTAZ7CakK/AAATqzI8lIHF6QdKLMmGQBrWvCJSNvkhuXQ93s4k13NjWSYnBoJ8IBuErsuv\n",
       "Vbp6GtHGYvcZUWgZMUXfwS5fNWslOFH0KG2Exo4e+3AAAAG5QZrGSeEKUmUwId/+qZYAAATFEHKR\n",
       "7REACIHn6CyPLqJcff2Eq64tBCc8VrfNP5m9NiLEIvioIGw1WKmPrTGlSA1LSDVHWkwxmlxSRm8S\n",
       "b6fIBovQ8IRNp8ttAvvylvXI3Yql0nPQ00ohY0YxUfKBYEiiSkphygZSzW5hSevNPfdmZ+Zi7grN\n",
       "Eq32kEfiBm3V2JKW+XpKrLGzw4F6a06I7YtmsFGVBpdXDL9T+ZX4lmHICItG8Xe5KUGa+k0d9Zrj\n",
       "+HgtoJp1iYQxe89elHoWXzfYs3UmMyye9GjhCb4bZew+BVMrpBrl8sgcae/610mHgZ2vqfQ0IKOx\n",
       "yewVAQVhAXPcw3VhYu4F2RFoeyuzDWy/yhkl0Rnkpsmaxubxjjrh4nRFjJ7EwaC3KVBQXVgPQ8pD\n",
       "KGWnVn6bE9aSrCQTgI9FQOaHxaZp4pJpn4Op/KDU8fZjmwCF5QaMrDWcBRqPl9k4UeZPcGScIPB7\n",
       "Ja4+nCxwKoXMv69cta+0oBgaMY9bSbD9cAA59K6lDARzD7tq7wzK5JWW7Oyr38+Q/jpIN8FkiyK7\n",
       "Fu1UuEGpmvdnNAsw/xJNpxQsAK2BAAAAlkGe5EU0TC//AAAPNESM4K84nGlaiwABnjukZxmTQ/QN\n",
       "tDPqZcc8gNuMNv4fiW5V/qZOugGoC8M3m689v2o2TkeJH/VQDKx33Z7YqWJmkRkoAy/qH5PLxSLp\n",
       "PJ8jZ7zyIEcNeR2Ekzwub6gHlaYEwv/3Mi3gs6PJkjkCI/tcAvekJiD4F+d35HaV3ArGPsuNhExo\n",
       "bi5YYQAAAFcBnwVqQr8AABR2jqpt8TPvEZG+2mXj8iUrKYN008kTuXK1yk4fX8Zn60ZmyGgRR3Ra\n",
       "YqBSJ88cytzkljkyiKYgsfelAB8qdoB+ZH5gVCgwqLWYAGgABbUAAAFfQZsISahBaJlMFPDv/qmW\n",
       "AAAEwkB2cBkhUuAEB2x8TCf0g0J2yOSCDseaxV9N/beL2ksAuvdv6+umoei8bMvf1izgppM9cnl3\n",
       "xeGgu9nV0J+7/adeuqkUfRvsCc5Fo6egCXK0/yzHUwnWmhkcoJEuLF7Ak+JPaBqyVAtWZ9RJEqQm\n",
       "fRvJC46Q5oiRN3smOMxO9MJSGDpq1bSLm3azimWYLUrevOvtFjEI2ZaJX3BNbu+afsV7bE4A4ckq\n",
       "x8d4kGzuGYgHCr8kwk9EAQ5eYuDMPNFZAtuho1NhyKzs0X3eH1igZLjNFfPtmlh9Ddc5IImV3Sen\n",
       "PlDofXXIE0DDIMAmQx1/lpxElaI5njrh+UeqWsgHwo+imd+FPKsUK/ceKorhJSUlXGwdb4W+qfMm\n",
       "n4k7pg/+PUDEX9NTArpeiPtgcGgIxaTOPYbZBuuAs/uUSZJbqEq7iN+uTCDISzPhTgIfAAAAWgGf\n",
       "J2pCvwAAFMsy2Ol5O5TKcUuUjxJjrzANRQxwfNSEQwR/G8YWGMJM1m2UMA8I/3ncS1MFn3Aneg81\n",
       "ayIs4j1PcQssO2ENXUXlOMcgqnAybBqR0IgmGsauTAAAAiFBmyxJ4QpSZTAh3/6plgAABOJDRMJ3\n",
       "VNNZgBKf4rHF34w7aRCNMkF8pV9PvIRcT/+mKfjdOF5GwvaBRA2VcFIv0f6FrAclLQUgxVQtxKzY\n",
       "7PmCA0NRO6deW18MupE7JunB1PA26bI+jTMvWHer/24PgC/3aN0OdtVLgHeU30I/lr3SruJ2tnzt\n",
       "IrnMA6tkc+7vKd17K6w8IKm5bvAIwjdIkISnW+KgiWbC8DfyX1sxAfd+BqKnQ0K5MiJfKL3mIBQU\n",
       "9ZPnCY7B5iXsxV0J3Rig/+Qjbq+je6gC2Fnz+Yi73I0eThKFXTBQpVZsMSVF5zvWFUXPCAhyn1cF\n",
       "Sf973WKEeovOlNH/Fer5WZoizzTxZXNLpbf2XmB1JjYuUVWTsTQyDklnmMha3PCJ7JlXylJFOFoh\n",
       "UEW9HDggEZ0YsOomCNqcFEieDtbyrRQAYHdJMN6pRyK+NLaAZqivkMgzab21Ryk/IHJK3JKlHlrw\n",
       "EUQ/HCvjfB8fbdu+AhnPNXxuKt9i3j3zfOvjoC/uOFg48P+Kh4OAep3Fe8L5pWmWF8YF17SjqgUu\n",
       "Qgdr7zxS50RqVNg2AUfv/GKR6iOGq126OWsr8XLDOPvbYS/I/TbuN5/UeA9457PZitttvfgJ7WPF\n",
       "rHhO58vuKgiOp47WvItnBZWCVoZ5itJXg3lt4DYGeDpROQV47WcK4J/7b3ypDqL8QhnYXAyzxG7V\n",
       "Dy6LZWmwC+nszgAAAMBBn0pFNEwz/wAACz0qPCmu+G0QsHPACF1CT5jP5MvVqIXRQ7TJFsTWFbVb\n",
       "6JmmyuiHijfqyQDeuC2CmwgoqgN7BfsSoKhVmDb3sOrBe63A0mpp5HFwiZJMOgxeCOpEcsDwimGG\n",
       "IAWAxcKiwjnAc6iV/6KEEFfqVvkrnNM06kaw4QzoeHBYQhkzZo3fQ1L5Qa7ZbBiKWBk12oUsH4OW\n",
       "ld9ysDl3yTiYWKjTbDo3/vpqboFuhxadNqhoT7Kjf1liE3EAAABcAZ9pdEK/AAAT5MNy1nlyUAHF\n",
       "0lC7TIIFS9Iy4oBEcY4sJ3ZJX15y1JJAqz0ztqKF2Q89co+kLcsvOQkjbvbJWGb6VKuqQp9PnNHu\n",
       "2EutncjjMagZl8aO2WPu8YAAAABwAZ9rakK/AAAUyvvZMcA4LCLwl+4wAeAxJLqYwPMZYZl4lPhK\n",
       "nubVaLt2K48u5kkau8T+Gc86Zd/d4hI4OP8HbdQ4HWfrKNlckxYT0mltrTmBkXdhLzAMhJDrR34B\n",
       "cJn4tYOaLk04Es4DAc5c2sZI2AAAAepBm29JqEFomUwId//+qZYAAA1XtwP9XvVFy96d3aQEYUJP\n",
       "dF4DNQIItzlsYR3LyRllReFhw65lQKehMbYb8PdcMKXQ2CMGfqgqCfCveSZ5jAUqjlECqh+S6M75\n",
       "Pgf6xLKkLknyO/OUjdTuYO/7yF196tLBuVUWLME1ZvkMMtXou9R0MRThXkhI8fu72Ge4VUuueXjd\n",
       "5w1vjuoAl9Ly6Eo8Sz2ry2YfZemUbxMRd/6tpw25gu8s9RFpnIvHOJRZMV/CROksRmOpOSj8j5Lp\n",
       "3D7ZoeBDwhRcaGLL5kwZD0TZyLGdIO0pQAiTTXAcB8ujq3p5wxe5iJKjKJj8+HUG3FhgvY86nQts\n",
       "BMu1PkUuvLH6428LrzjGTh5kyfk+1SBS1S2PK9YJ9CIOAADBSJhNY3Akrd64gd/KBN7n9qAnh7NB\n",
       "RKZqLHUAyPPYeDeNRSBv35g5jtAfKjsnSYmloY1KzRUls9LGaqikel+kWNDNznXk2TnuF2Wb56Em\n",
       "M2ZMGyz2iu7qAwzUQz4eOiUBRdq/ZNEECtyRqK2mispbe+gPpsyYmHGqXShHeTSngL6qATJ6swOy\n",
       "IwWmXCnW4lCrShqNSvwdB314SsF1UT1KmJha/C8XBOvhJxbtPRHqXXcS31P1yHCZ7lxMkhsQVa+B\n",
       "AAAAhUGfjUURLC//AAAPC16ZTxov8Z9pL/u1DJReuE5i+7xrTjUoFhwRkQNf8pp6ecNzVmL1MSst\n",
       "kWKqfk7Bg8yWgipWENE4x4APp+H/NGIk05pDyHJZ/m3np/KriUC/kg54KYHzyFepBaw6BUnhP3kU\n",
       "npBR7Ut0m1ZtFb9srCekAxDZIPrg+YEAAABjAZ+uakK/AAAVCwr78CWECEQ4hyqCNdCfl3deQj+F\n",
       "Fl5AS5UDYw5PhWj8+76hFMl2sCZ2maPdV9W1qjA3sxu4+5iK+lqmBF8EpP3yQKKi1rT9b2F9JOto\n",
       "bPET1ZchcTo6KOBBAAABuUGbsUmoQWyZTBRMO//+qZYAAAUEJB7//AtVR+Nkx3c9AVxw4vZwfYBR\n",
       "w1DU/P2QlP14GpYs+kRgkbj4sQJcJ/EVXpbnAthGbDIpXizmXTXZY9xQKedQAQ3s5PfvbpX+ZSDO\n",
       "eWXSymBVXch88RylAvknmfZCWBtuVkMUAaWEsQ5jMGDWOFyu/cNc21xgDAljckHBG4ASCW4o+Ion\n",
       "yq7zcsGJ8bKNunJfWbCX4EdIbiMkSYkOy4F1RTCguG0LTGPsCOblAAmDzW8PdLpoMlYmKrLVLQnN\n",
       "cLLidZF7hKi6KAOdCx3oHoLV1z+P96t0uc8W0PbkoqqYL0C0KMyW13h93GiMI2JbtYSiRg4ildf8\n",
       "2okJ5vueyVaxP7cAoXGDyBHmmJdDzpadHdPrKIsVCxwMtOBWdp9eHBJh9iYEN4lcYPQ1ixWM3F/a\n",
       "07/Uf+vjIeW6Eqccux88+i1gJHmmgvUOYymARQy30WpboZ3LXlAv2fB3TP2zB2AWsnIu1yrhxCQx\n",
       "CBy0Uo2svpJb3CbiIJdhOMoMkl5CUnYKezXwUQJfZSpJluwXuDcHPqFD4LIUlJ23oprI7j601dak\n",
       "wAAAAGcBn9BqQr8AABUOUDtvSD1ojh0cYEhkMMLAsQSIDYA+f6yTJpCWxxjsZKrpBCaHap1irteD\n",
       "YvhmeiWCjL4PaAEDGi75gRelwkorTEoFypIy0vUfx2oCdzvpudWmGmyWEUzzwP0szzHaAAABuUGb\n",
       "00nhClJlMFLDv/6plgAADVcX6NtJGLXcHoADaM1N1BNpJI55672+LqYqA1Hv0knDXZ8XzdlPzfnt\n",
       "2BWhPvEDgXWTY42j5PoUkI3PcMPUrrwLvObvZkRRVtNu2+tWwkHfcCREzVHRIzQPwaUuprGdqjcI\n",
       "CehwEqH6km6pwoT/onBSq+G8zAV1P3cUktnRdYZUjwFEjL25SCR2U05/zGJ5KpsbnLnXpmv9ZVfG\n",
       "AfPQ/NbqCnnj75cUOnb9+Erby7qmsM2kW6dPzIWhy6HsrghfbDa1tO7+aoAfL75TPfeNn1EWshy5\n",
       "OaviF4YWU/VRJBzQ9A6c93YrnpPwyiSNfQQfWdCxZOGurx4x2wi/rk47j1a8+5rtrvI38lPBJ4Xp\n",
       "wfcIjhWJEmFjCjvoQphN3b0UMkBvBG4BfN4X+a7h0zvl2OyXDoiJIh//rEC7UvH69OJbjEEhVa0O\n",
       "vnGnOiS2wxjXlzQJLaQqKqvcBE5EmtH/GzeFX9fVTu5Z3fjXOKpXKe7ZonHXehh30wlcR/68qXAl\n",
       "vK8OEBa1qdfVXagL41yh/E1aGGSkEH9L7OBt4+Ch+51c4VgcsgDAgQAAAF4Bn/JqQr8AABWWnw7l\n",
       "ryWTSho6HfBQEGCqHjintGG253FKtazlYtEKi4TFORc/fHDcjoy8bbTx3jcpR7uNwWot5A7Zfa8D\n",
       "elx/62mO4u8Q5igcQTDNw1w70hJOCdePAAAB00Gb9UnhDomUwUTDv/6plgAABQWtMOUu0LUbKDGn\n",
       "gIOGzBLhrgfARgIsRhX2pgpFS050TWrEwf9on1bQEpzNICmYe6IDg3+DcKM9UX98HgHRJC0slyDi\n",
       "ukNgUqf97qnEelXnje+GPM0iljksjWVsRdl2xKvgrFCoThEsWEi1nA43pnG8oSlZ/3PSKPFQuP5N\n",
       "AuYdarNJOi1oZ1dfvcPpX/EXQq4cArt7n7oOALArLgl6CV38XnATLeaqDrgFF7G5U2n1oa0eGdPs\n",
       "pbyNYooR+6PW4mqM/I61O0vvvnjnxtzkjk8T/yty3q+TsQwepe/nno2HKtNAh7nNp4y1NRGNkYva\n",
       "dpCihC7tbTqhmkRoUNHO+RoNpnB8vOXU+EFpaAsc5H1kDCA+tboktggpUyAtN/2YJYI/fTKU/pZ0\n",
       "HP/ync9xt5LifKbCN77dtzubM1/sDeE0W1StTRpWIQUcmwNfrDkSMJA/Z7KBOumZOwGsS1QCC90O\n",
       "3wMOz1E93eAR7U1e8RIEVsDaDRW/T8Z0wle95q6MXDO8N8DITiqZ1n/nud7hoLNMbnWIqmtTJ0Z7\n",
       "uGcte9g8n0KVvOL+IPcuA2zLJAZ+6C3+lGASeA9AB7YWhxoqyAMCAAAAUAGeFGpCvwAAB/K6KuPs\n",
       "YGrvl7VP9ge7yMvINWIn9KGTF/n9dOr6Z+mRF70/ybsC/7TeM1K2d+JkvYOJiF2YTPZy2APKnU1c\n",
       "UimcLCeqaQPbAAABd0GaF0nhDyZTBTw7//6plgAABQNNX7QCEZPIjPzM2sRc7k9vaJFsbW/LXMus\n",
       "P+fI/aPp8+bL+DY7CdyeinCXA1jWtZOnYZpRgornb64svU234WBKzCk5ZSNA8DsZyOrDaOsADh9A\n",
       "fO5TX1l1lPAF52nYDf4UuJ2Qhk03Mol8NzFMcTTEudxtR58+gS+b/dZab9Z6q+/lIq8AlsX/bRcm\n",
       "6v1vAipOyG/6sZ9CtMJgJ0yGHwy2/R8uwNyOLt6PnpdsOPxVOIL15x1P2IhB1IvFMxhl1XbcaGl/\n",
       "jfERVV7dyY/Oek9g+wq4Ua86rUqZsdDtWfBwTavIxTq2vh2HsCSy3I4JGsOxU58enwz3ki4WDViY\n",
       "dp+ddMUnyamtS/jfUJm9IvuLLoUrb4fTyPrOwF3wNRyxc+ck8ZMQdLQ1VGjlH9Oz8Iyf1odLDUI/\n",
       "CK022UhdA0DmoYBEGj54jrGFv8BuG9iZao+1Is38ATNvlpKEITqJTQAlZCAMCAAAAFIBnjZqQr8A\n",
       "AAfvudH3cbuhx60U11+yQjsgM3TYVNLuTxBRQezL5drUYJQgjxbLLhx0zLL8SH3wJTI95L7XrdPz\n",
       "uzjZI7X0prSrsSa6QEgWIag5AAABzUGaOUnhDyZTBTw///6plgAABQN1XjQAXVc6GEYq4D4+Lnmh\n",
       "9tSFdx0+s4UBDUBZHkCIXPEDwvGU4lOzlT1XIRfqlyEON0ZXqITkqb61IOtKQU40SXEXKdGc0+7B\n",
       "gJ+DJajLXg1ZP8RnM8hbqcF6pND+aXY93oh13b48GHK1ZchwicF9VL+yzgQtqNFwOM2xkCTLOFWO\n",
       "eGXwmP29qzsGNye7O0c+VRm0F98WvDVaodCgmP/eZxThxYz1lUZm1CJh4FD0D6DqI09vK6zo6nZ8\n",
       "tcp4RLGqkHwjvUKfCFrviOWK7D004h05MBi9+/TNs83zamesJLiym8lfQhIVZHksvl0mvaY+cZbU\n",
       "U7JAM2/P5pEoB5CZ/bFeOclN7xhzjwuBOn3ZbcTOmETqHsT8MqA+w2bgB54Fmuv/4cpx++Z3r9ts\n",
       "rJaiX8Wt+VbVcPaRWctp/UdbvnRG42bb7PCI/rX/S3lSloUuM7oJbq1be2cRWyjkBFpC43h8+R2Y\n",
       "KFKD2vd2QEgkwnSi+kgy0lNKEK6iZ99tPjOT5m56jl4Z666aJJQPXX9SeoBkWhT7TpM7MwgcGtfR\n",
       "NVTDKmgmYtNsAuA/YWersQFMh3plohL8QEPBAAAAXwGeWGpCvwAAB/Fo63ha+3fAZVx+XVEq71GA\n",
       "nHhDzZjFYBQRq3QAzQfSRUKpkxYdjmhnduEYVuKArg/riWNuwIgDr2LYsKkWBaEmUAJbOAdDfaOf\n",
       "5+rhGOenwHPReGqaAAACbUGaXUnhDyZTAh///qmWAAAFBBGUCmFQAGmbxdDEmHOr5oSgsDMPsoxU\n",
       "Aw+13tHFJpf9XMcDJS4Tm+z4AiRhxawuYLkCPpGMmr++/lXv9njHEBWVviRojwJq+VCtbWlJ9Iw6\n",
       "y0d+JDZO1TFEtHf+cVZUfwYZ0idwq8GzEzW1+PMYzk/vHxKMBlc2mIgnGvHVYJOiiPLY7SHOsjuD\n",
       "H7zd0usAMA1mFG7zltCfNBSdM7IvZnxijsaQdhxqwmXxksCAPfbuYg3xkSlZzGUUTVfHrSojdNll\n",
       "/ZkBaC8IvOeQzEyqHoWfYb89weF+uIJsxucmKjtQ883Hd5RUqqLSIdrbVPRhV2gpWQ600l6LkmpG\n",
       "tPk3zwncLW5ol++t/KtFbM9wQQ2AAZHW6MljIhJvt+qF+PL47n/nN9aBkHfBHmOMEaI2zEG6adyJ\n",
       "EFHZz1xq76rgL2yjs/pXAbcP21ilG2q3bvXlq4llPpiGwyZapppo3RYBmLMG731Vh3AZdi7Ptq5n\n",
       "GuENfr7ZoJTOCNKk3kjtAIJR7kUz0iY51BdNq7LCcqtEwE2YPMDcS/cE86BSyM2qowycW4309+UH\n",
       "7LfOCyKpJ6ZCGckUWQx5u4cWyKNjHJQ7WsizoOQTDy/PNS/VBpY+nBNTacMppgmP7zHWWCQ8v9SQ\n",
       "fpgNQwExFhYGbd4DGN8K9B6zPVAFdvg/aumQ5rRJuGxzno0U08xMQoRcgZOHruyM2Z7BvW9XsQDl\n",
       "KPbgD/WwQ3UuuLb9C7QJB3ihxNFaMTrelnqx1OGRJTx3KEU/w6L5VKzDRy7WoCsf2T2hwsOMix7s\n",
       "EIZsyil07glt8QAAALFBnntFETwz/wAABFFqUcvc6IbKAYtAoLal5UOZoY4JdZDwHJS7SmhKwvz2\n",
       "3ElQf/MlfEjgsaZIdkm5vc/Rw0dfdJBNfGhckqeY5wOAOyEN8VOA8edU/YXUytr/ewMzTAYhizcy\n",
       "xX/uXn+Oq4NHGygU+NjUNJKOY7tPwEQqd735/Y51H/W7kCKi8oq5zoFQtoWYFSpFXi98DoJW8e7j\n",
       "X9DNqlKRfo47Bhy5k81xSKuhw8AAAABJAZ6adEK/AAAH8cn1+uTLaFx7empcnVUc1Zh0NVavJ6uA\n",
       "4EwF638SiHimBxCs5zACHWgp+5eoUUb8nYyiSXTsO12qnQfy2AAy4QAAAFYBnpxqQr8AAAfr9Q+O\n",
       "K2/S1hDkfSNzQCOCBwwq4eHV/gVUIL3JxHTaVFAJYsKcMvu1lzLyvAOWb0ahtTZgf3s80/cfGig4\n",
       "j94JlH+ACrdtYFeMQABSQQAAAohBmoFJqEFomUwIf//+qZYAAAULnnll/XMQc/Z6WLx3PhwAF4Wy\n",
       "MegPTp1j4Rh2N2eFxqNfHglffEPqSrrY3tyEskzQp1FXzAaL7qgU8xxuopzEeS6C30v7sZ+Ln0Ja\n",
       "sWk9HqRmibzcdQv2+3HoKb8xdG8FQWe4Rczw9sbuaq8DLTzY4/eGaXoH4dTrkWHHTc51miIfI084\n",
       "oobpbAjqx0UBs3VlXo6ZNE3FLtwA/DEI9G5eSOyTjqJ1KJtA2o+PJPLZ32q4/5w1iw6EkvgcXMeC\n",
       "JRwhoyLINkr5/0fPLNm/U6EUZ5Qzk9XkEBRXKyLfiWreynRmz/thMu5EIaioEfBbini2UxvtHTuA\n",
       "k1HDfVjQVadwSy3j6PTtSEWa8CXkJJqTyeO2Cbv3Jr5w6z0dReeKDOB0LoFPriULD+ioeqNGo1Wn\n",
       "v+o37iR5N8rJMl4sYlF7QvYH6ixmLZMUUu81QwWWvm8/Y2tGhLoiio0y0v23phtIYBoXE/M7Pxr+\n",
       "X6oYWPNwOdnL3komNq4EA6Cbf1scd22DXgctN900pPlHzzYzXUZ2dRKjYF2uQlCOS0bhPM+s0/ta\n",
       "Q/d3+miyM7z4AQJ94UbryNwycGGjziEMKloFfjEGk1V4ig12weDFlo+QYJ2hLhrOjYkpwthWx8/r\n",
       "PhLMJM2u9mBSsaeI8ye/sAG4WBfmmRcjPGbEpWk66mlVlpRG2OND00OT5x3gmQLo0lxwaKhrXU+Z\n",
       "+vk59zw3Wx1/yccdLftJZpqjAGOGRXvcPAl+g/h4kBGSAErBKCXZZUc450MXPBHf5gU9oBNJ0031\n",
       "/RZijZ2zPj1rEeR96vDgPncHzMv3jziLT0vLf6DMzlETPBD6iP2fUvAAAACRQZ6/RREsM/8AAARK\n",
       "Djjytu3q529AVSxRL+nPPoJRVSrE3HELO0RgAuEKKZI8OuuiqFh5NuKAIw6eJOUPVeKj+aVSEdsm\n",
       "PkCQ4GbAr79Nnl48o7aDRFv+mZoviPxzD7QiH0Q+ecpfE63g7A/htkO2zkAxoW4iwXKzyOue+haK\n",
       "LbdKJJLNZwjS5ppSIAyJ8u6tgAAAAFsBnt50Qr8AAAfs1n7+Fby0xwZxLL9DHrhMCW01Ke6GRGUp\n",
       "AH69bYaeATcC9Bn9jTmDMrcqA7w2lwAW8OZPIIDichbN1azYjmyj33zuixAugAbbIbv4UnoQTKNb\n",
       "AAAAVQGewGpCvwAAB/GUy8TAyf884vKj9BylT7rUOnTUAGiSoWlYaKYeQ+WoH8irDBCauZxsCLip\n",
       "7u1X1Brd6rifRA8quMlkx5GCXIsjBocgP3n2BWhs/IAAAAJQQZrFSahBbJlMCH///qmWAAADAd1c\n",
       "3hmb/F/DaYfOWmaAC6asJUphy/5rCeiNF5MzLcHfd6dUH6pQad4/yEkM1wl5pWYAwNQKOycP8WdS\n",
       "nhDAuPvguLwjYarG3157bz1hGUACUV1/GraBwSaGlRAASSzXR+5+VzhDRzv53+cTGeB7ds0AYD6K\n",
       "bVJUQiUJ9vUYA54h15BvnkgLn8MX6JyLPgQ2naZYos9qwkKA+aQK2FR3wmw6e7eliW43h8MxcxT/\n",
       "uAX6Jl+ZBzAGE1KKogJRlo2Vpgam1xUPaBXKekRGcM/JkgMO9Vanda0Mlz9+uKtKyb0hFtb2TEMo\n",
       "kzAy5Nz9CAeLOeLF6/BjtnrIP/fAA/3bfW3dzZ2sGXgHnlDfpbZd5Il2GPzhx7k3Bl7bbcLgw3Tl\n",
       "8F7fwqzj8a/zL9J3ifOuRpNRtM5ZWih51zSdQEZRkV2MWCrkBpE/E0m8FBrCMpgKTbTVlH3PwT3C\n",
       "27NWLeJ3cRMfYN2Ny35XAzwxuBKt5cNDy9CgRJ00b+TqiYEltQPQHH9Orl6vdS7jIYhHVwT9BV84\n",
       "Sh2U0vTPMYbgyuVxVQrFZdlwC4Aemb9aro98WT6kEiu9+OCvS4hi2R7oQPur6kzmKsd+mq9LjWbv\n",
       "qvS2NRtcNWXjO/ZH9evwi+h3QSO7Gx7OhtODT4feHo3lYzhy8mYNAOewhTQhvO6057AHO3cDeIMK\n",
       "GLFVZLmQ3Mba+1bCuO0phfQuZ3PWZyuolKEnKCIbdfJbKJ5qfuNfNVXvTYzVqDTJ6mBApfmDvYP7\n",
       "rwAAAHRBnuNFFSwz/wAABFdd4vdkWMQqjZKQps03xlhGyB/pcMADyQHoJpvdC7kAHMovKQmfAaQQ\n",
       "Kxl4m/mErnsZAuILOOLplGvjSXa/Yr01Go/ISqYbiVPCnjRvn1YIt+IDNDqKxnBhnFTwig7AVQ+F\n",
       "F7N/SgDjgAAAAFABnwJ0Qr8AAAfvgMtIqD1vqL6MT6lqIc+blxUx7v95XX/Uw63m5AqYz1KcTt28\n",
       "HiNkONAN41/DbbzaE91MGWrF030GSdGsW2VRjwhELxph4QAAAF8BnwRqQr8AAAfxlMvDs33uNbIp\n",
       "3e4/9uUOQSNB0AGngAAAEs0uetp0CM985x14sBlrobiM9qZDuarNdkME50QpfU/qF7I+p2w/fa+e\n",
       "f37Ug6+z7qVcO4cUYE9p99pdQQAAAihBmwlJqEFsmUwIf//+qZYAAAMB3UydHc/sJgtABSdq7U8T\n",
       "4yMZof3qwEoPBbvYdg0tLvwZYVATphj6B0WttsWe6TeF1ds/RWP06thu3LNlz/Fpj1LhbzoE7AL6\n",
       "xepLYhYZE+azT1b/y2e6JWaAtB8YxzBEbC6crd876k1wLrgx3lpCnPPf7hZleuJIho46i0dvY5Nc\n",
       "RIJraUZG8Dhw4GyVgoNRWPuOsygavsGboIIYGBHBxM2CK36jXkkZxtKtaGhj221hdPTribPFnCGg\n",
       "fqpL767nnDSWsZfaWqAmMQDVpFYGKls7/0YoR7irupXK9z10E9jZx8uD3xFYFB5k9gRgz1EcMrRc\n",
       "zPZ8I8TuQlRIcEXevn9g6yCil+BcpN9WT1nk9755T7wbS40g3oOJC1daL264F0juaNQ9SWq/+j4/\n",
       "DUIRsyzegwC2p2laBm8dof82/3lFl5XxsQouuXjU3Bfe5LbsLufhiYUQVgmNCIbtKjoh35LmJcfR\n",
       "3Pp8H/ge9L819G41u8gLblOrglTJkMnwoCzb1Xym+gD2ae2kUojaCrepMbtkgLctot7382Jsw9Z1\n",
       "GNgv7DBj3DlHAjPeTBB7ez+THkKXYMoWNg/zUMmCBzPTas923RvpLu37PUFJ61QrVPaOBU5NMcQL\n",
       "LMEKjjje+n+NIBMh+fpM11NdHcIIWx1QAt96xVkCQUO08R+9PI3L/Hi8rHO4pwwEzeTtcjIhrDxZ\n",
       "z/+V2eEAAAC8QZ8nRRUsM/8AAARXXeL3O0KKO1qe7pVTuwACGHEgcyH3gdm9j/uKnUTmGCxx5hyC\n",
       "w6CnEOXWyySRHeHWxNaRWz1A3FGyJwnGjVJhOHG7Kq6kCWCzhSeQMaZInEOmHOM+plx1zOKR3fLJ\n",
       "xR9PMzJOIgXMajWFBVKnFFR8JNsdLtD+wvHsPiLfdSk7ltxmuGUP6ebs+axgNx2iDq1I6dBNq1mn\n",
       "o8oEIxQHuZdDCKsfwTEFe96WsQmpmH8WXCkAAABWAZ9GdEK/AAAIL37H3NX3HqCEoxjGeVWHoXdQ\n",
       "QUY43EAqg0SfvBhp10cIs8arE5nv8HueW6uAWdHnb40k4K8CA/67nIiAzblFrbFMOHvE9RyRoAds\n",
       "dggAAABeAZ9IakK/AAAILIdVL4bNLdYvXV7edUY8mRANgUmDXeTxFbz+sp0fMcqCPwYfYadyVCTA\n",
       "gBCFfRYNaxafVKoBhXZdE8UDdYMh1D61sh97L1IK46J/MNZKGhu0zCuhHwAAAidBm01JqEFsmUwI\n",
       "d//+qZYAAAMB3Vl1aH70Fxj73I6notu8PsozAMGkUz7AglQZsmkoM87dvTf+08OMz+Ta51/NRtm9\n",
       "ivxnTm5gEkpldeHOSw8CJGBzNTTtZu7WmOzWaM8iS7hOaEGrgXakJM1HbqL/NpUuYJ5dNMA+ISAH\n",
       "Pk8MinSygTd7Eeeh84wukwGE0dDrSJ4L69BUSeBfJSAn/uWvNJgZRTSW+lqqFzTEXxASYEZg5evn\n",
       "sHYu51N42sOLx8iyQRos1FTOgN2hDCz2ujqXwW5Jwc4VlYSCuDzdZaGAX+AtaKNK24/VPNWgy1/t\n",
       "DlqTbfqKh5T15woQJNFduEhG28Ff1n5BBtrlk0bFqoHO9Z0jls5wYD3YgQzgpMBrKi3v6oCVRxQk\n",
       "ZSr69KVEIbGZKjj1gMw9+FPAXde78S5BtS3zJkvwU5NHfkqtyHH/apnKdgeGZPETjzCceyqylIMt\n",
       "+ZXO9XgoUbXv+cBdknqPWWFFSy53pnZbp1JA9xRFOVr2uFyONJT/mrCwPDIdNFZUx8HIT5ZTxO5G\n",
       "fXF/+5H1cPc0eZBvB9ZHDnsZVD7afuehOLddGpIAaN208z9nujl2NTYWPVs9Ge9d93vhin2n9D1S\n",
       "EUrx8QgkLZD4nh3jv3uCume2RBE97kPdABYeSusZ5xBPLuECbScWSNoAY5Mm9dve+Q3BLSQlCB9U\n",
       "idhvT5xqUP/izSlJgSR6UXxXtxRe4kjvuE9/XQAAAKtBn2tFFSwz/wAABFdd4uuWal/QAWxRP779\n",
       "4DtXUEh3UtKBazxYNlDF04PkL1PY+DvWgtcLJdFik5OQIhTXzdwDHbIvEPNBoQQUYgfwRqfjUHv6\n",
       "URziwN/Em1qdTYptyv7Qxfrwaeepu/+d4C8ZFlHkDqpHEk/JnnpeT3tbz1nQDHAUHu0MfbXCBDn+\n",
       "E4xtu5tc4mDHuGvbk6Baisly/t4PrwQoPS2oS1eSpVwAAABYAZ+KdEK/AAAH74DLOTus6GsJhwmB\n",
       "BPdrcTX/x0JLTSppswg5GAA48d79Bd8Af6vxXGLG3LC+b9lKwHv6+iMXaBEXl12atuvASoctOJN5\n",
       "6HsTJNSUAHPCnwAAAG4Bn4xqQr8AAAfxlMtNT6oYAv0hYH44LgvJyqvgSqfk1dPwgeMRQvHQGZvX\n",
       "9cfy8ODMeDqas3BiKJg6aMxN64H4v0eyBnhl3fLlI8dOfBpceGDACLCM4+W92EVju1ty+hLqK1f0\n",
       "+01uVAOU3LByQQAAAh1Bm5FJqEFsmUwId//+qZYAAAMAsmkE0F3gA1f04Tc+NgWsuQ4PvKPxw7Gz\n",
       "E7fHOd9GirKVXC1tTIOsepVNmpWN4llortOPQFSatt9cfchLS+DXlsvnnoeiFldKiK6bYatgEnR+\n",
       "LvL+8i3OUNRK1lEuj8jEGqxx5e4QZ6vkgrqyRsYUPWeZ2JJhgPmOK2pomYREhDDnvA9CuZ0XZc4s\n",
       "QJIvsH/qE9XeGl6rfBpAwCWPLWKe0t0s/7A0qxUVWWJEVWi9URZvARNj/St6imi+oinN3LM9Qp+G\n",
       "3n461O5vGsVeFZIfJnWpchoMuV+r8GFHp4qIKm9OH/FEFzk2r5vY8W8moC7uFTPt0mrBg0MM1jTO\n",
       "IGa1GKEBBmfJ4Qg8AdU8b5lAAxrpADwqRvKPSfecKnSN4IoC+sPFfLJxFcCrEoIc+tfpQPxJk+Sp\n",
       "6tMzye3dWjXIbV79+kwg/sl6+CpAnoT4+vc8UpR9DdPuTI42RzF+3OB4Lolsafjc6yUdcsGCBHq6\n",
       "FzxsJ+RJbo3xPoB8Wsn4bTFiaJtrCj349STBT19ItQjV3AuGB/32giohdM866KnbhZK2IQWSifFN\n",
       "5WyegBuATezIxk+kzVSqDUWPxUd29zhsplQa1tzVnHSpoiuvTqqIFjBOkYW4UImlkKD750lEt/nl\n",
       "jv/ZtDhIO7nuIGy0m+/AQ9x8xIwDu7JunN7mXm2th2dsCqcUNzO3U4ypAAAAjkGfr0UVLDP/AAAE\n",
       "V13daTazYFcIzpDo1bVSXUAG5x05p9eMVzcYIL/fSt4+IPuFXyta8NVJoWmMPxk/uPdxSMGdSn77\n",
       "io2m5Ynp4p5TzWijtT+j/zm8ES048xa5+6NwWKuYLD1H08YIxXIbi8Ame6ew1VfQ6YoWr9fU7C2Q\n",
       "k5S7Yrx272t9mgLoG8Bndu0AAABQAZ/OdEK/AAAH74CVIfJklgM3Kgdf3RaTgWHWJbPe4APGmIHC\n",
       "uhMZU8tyVxG98asJqr1HZMotUD4fC08RMTGV1TxwwYT/JSre5j76AHbnOkAAAABPAZ/QakK/AAAH\n",
       "8ZSVaHm0N6i9n+3uJV6F+/GI/ABncLzs9/1ougFVHGsvPHbb1Y/Oa488Yc4PBKIaKhH6UaAbrvAC\n",
       "y4FXmR1qwAcu1+DL4AAAAidBm9VJqEFsmUwIb//+p4QAAAMBYgAe+B6IAFya0Bbj7xVMvXgU7XYG\n",
       "adDfmAlEHXzQVwmljrBU95RQvfCK9t+wL7NXdxF6GxSKUiU+xszaveKFK3l1T5HcW7y6b8+Rfdw8\n",
       "ZeKoTtSSiX6N5is/EaJwJLRkosoHt3xm68m8HWS9lKT8MhG5GoMzawdJsbKsquNnSMkruTFAid1B\n",
       "uRxSTuw4PPKJiAXx0QxcKZ1rHSYsCoB3j/gaay1gXe7HenIWi8fO/hOrbp64OfAltJ+63/7CCoxJ\n",
       "tIigARuZCnVNPvxAnFEfj9EZWU+YIiNUBek8VCHzrkkAINg3CR9kUeWyNV3Ay4CTON43dPSbKlIe\n",
       "BZYJQ50jzmyW0JuXunF3X00H4aWSKf0QlIB91p3q3I8onh9JQP+B4MiFMIJa0HSwys4pI3OnPASk\n",
       "85kbbrR5aTjLQqWmFTryJF/Ip9SfO/hSMjGn/pr1XtHCfDpPrnYn0MF4c3cN5Hnz78GQDUOSp53Q\n",
       "0lkIKanJDKsKeW+Z5vCkS2UShFzH4w+vmJaV1ruFv4C+SqOVJcWZkfR3J+KMFH7DsbtTKwQO3Mob\n",
       "Cv1HAaI+Dj7DF5tPLTkiWNesOwsWTO8f5KXfFNGtYLLHpmf9Hw7aVRapvbB1yYhAQINvTLENDcyw\n",
       "vxO/ZFLHsP0VHAZ+YPwyBIdxupEhKUaK1yoDjUri1n0bH4vC5q/TUon0ogaMblPuW/gZdFLbUQAA\n",
       "AJBBn/NFFSwz/wAABFdd3WcxmrWAwXFp8hmCQAg3Hs6D0eaAuBI+s0AP5+d2CFsYgRTVfqRa9Gi+\n",
       "goZznV5n6Gs2o3YuAqZeKbCO0ruhH68y406QNgfvac+t5MWGpskahJGci8MJvCIHYsDqPFzGDfAf\n",
       "6tFVIGtJJwQVl4Igsefciy/st4xGRo8PgO0jnHXpJNQAAABOAZ4SdEK/AAAH74CVbClr5W1w0vEA\n",
       "HK7y0211Jfkt2yUVyBuYccHAPzMiegvfw6svMdAa7ZIqZQJEieZ286Btcxdrg97sJVicFg6Zw13A\n",
       "AAAAUAGeFGpCvwAAB/GUlWXoZ/Ii9XyWK8VMTncMPWNIhd1Cn2Twa7NzskceW1h4ghApSakm14Kd\n",
       "m0c4WH85QFtXBD05RS8ESlWk0IMDobL2i/i9AAAA40GaFkmoQWyZTAh3//6plgAAAwCygfmTFNoA\n",
       "P6OHcMHptY6eLebj1kJiKfYPEg2fAfx2dTpa5moHFZlw54pS0pU5UcWHl4Xv4eduUSRFnDSaCawJ\n",
       "LTOWO627ubaiPkxofQCWUShp74Ksvh9nxEefhe5uAJkCyeGk/18dN9noxXC9TImztwPLnL16wGS8\n",
       "XAJlj3Ab5RPx402JssDHpfduiq+Cp/ODHK3H7zHNQMEb1fYherErzWnNx5+EGmRNO+btRDzvzZQW\n",
       "XD6DvrVo3iSDmxBwMeS02mZihY/UarHd5Ttf1TNwAAAA+kGaN0nhClJlMCHf/qmWAAADALLANBAW\n",
       "8gBtP1Kb/FNOyiGYpObLL6lHtX0iZUUad211AGffqH1gr2wqlwdhofysVtdrxYL93CMhM8pEN4p5\n",
       "3P+gSfuQ7CM38tR4KUSimZmKrAXOI7N1gDJB/XJdWu1MW4aN6TN6CGzFcwJA38/55vWgec5iYc2j\n",
       "2LQWK2k+OPEy6TFSWwr2aRu8h4vXO3rNJK22L/JPsvXAnh/UZqrH9lyMVMERF2nlrRywmzs5+emA\n",
       "OLm3CaqNLrcjt/cZUM57I0MXDD+Ac2RJwsoGMwQGdOMttCqvT9MVwVVMDIt1zL/QdHx98t99LZEA\n",
       "AAEGQZpYSeEOiZTAh//+qZYAAAMAsny5JHxPt9DCve41YAFseQ1jIbspN8AfTyl0bX/vvJ8EX4WS\n",
       "pYR0h/rRO2JCYpElPvTj1B3k3gY9nlip77tYAmwqajgNSXEfp+uX3cH5iVaM8SbrqoKQUFCVt/6f\n",
       "5wAm+RmJ+KcKdEb3I0ZVjdI+f75WCpOuwLnfwjayRodFlMZ7k9xYhZc+Cc7A8UXC7F6WeQbYMl32\n",
       "bGGKcTrsVgDxeGmnKbfqtTNUPEfO+3IeCHm6D/EPtNaHiV5OqQxnDHJP3Xxe4ILCoxmtCqaxuYFf\n",
       "B/b8j0qPkIOtjHiJkMc/uPs6MaGA3zdQMFYZIxnnaTUGkzZysQAAAdZBmnxJ4Q8mUwIf//6plgAA\n",
       "AwCzfDL/QF0iRZX25Py/0A9mOD8AunbLCkjO/3BB9k34cJsX487cuoXXNDGE4OvLc5LKxjdu6/wL\n",
       "8joqr2Q3eKSX707ycn8CBeqbp5ge3zrcH4KRKrSACoqizCfPGK0hvQrmANNKTl4GMmbINJs8Zhsz\n",
       "0CgvpePZqhtQr0UJAdn2sugrs5wnoU9dRfE+EEStj76V0MmwdZ7/NAsWnSg9KEwU/6EvzjALWLvS\n",
       "65FPLyN4ZtI3VPVCr/gLnbHKQWpdvY+ZJwU2rO2qxUCVEclmibLsGnUMic0SSqQw8kySRvsUkoDp\n",
       "f1sM2mlk1LI3As7MdcHSHuPkWPBS+aS7TGIZCeeQ2eRDUUAPv+ORO1H+px0Y6mY3mq++lC8LCjsI\n",
       "GBHJFy3dIOL00Fmlxc+mduCH3W0JT0WibhEbdWq1D7nVhxTSLh9tWW9ZkZAnHzgI3lOOO+LFTbDE\n",
       "TQgQ/JSQOJbXkRjpD50V00EAmtRVl0r3BgphS93yARIec7BhJMY+XDAaNbn8MuWO4MRfxGQ4ocrH\n",
       "ktQW4U6iuxNxH9xGwsXr8aQeTTUEziuDW5UP+Phd0h32re4m5PUbxkLNjMNYJmlPrI6EzzqTQAAA\n",
       "AHFBnppFETwz/wAAAwCVQccULrNhe5pWV3R8FVMoO3zdA1VY13u8HByCD/9+pTikUKfY1MO1Qy9S\n",
       "6+rbtQL9ODf7b7viORypXMKHJnVpdQA3OZjbcmn/iicxrQZ+eFB+n93etPXmV9pAIagsO6f1e+/m\n",
       "wQAAAF8Bnrl0Qr8AAAMBFXQytC2d0suGlovlqkeWtt2+OaYnY7EW9oANPAAACN/YJ+vwvls3vVsQ\n",
       "jv8IB144CKq3OaFnxJYTkNThPIgdXUGk8CYqNTXral0rw/UBlAf/ZUxMEAAAAGMBnrtqQr8AAAMB\n",
       "Fdf25THyH4lgAOOFaAeLUJv9gcFpDFHLipWA8IRFBsw3G1hU5hjL90EnzPLg/lOKqU6w3NObehOa\n",
       "uRQ/wFTQBHLtIyQvfvNVSwOlOc+SCpJRsp0DuPLIj3kAAAG3QZqgSahBaJlMCH///qmWAAADAD51\n",
       "cd/Lv4B0tABUNsiGN2F/fA6JDu+c4rMcghG1pq4x9Y12kxC/GGH/4V8hyeyL/ysggxSwZe7aYAUV\n",
       "G/ihH0uC7rvcwUtC5e+uZqFjN0QKq+HoMuhH/78uTi3ZNy14llb4MmN5Gj5RoMN5kywrxz6ZaqaY\n",
       "RyoNZda8cwVwi3zywL/bjpvwUwh2SZ7gspvQf0dJ4TNthFycNkqYNmcHF3djVYz6y22myPaM1UWj\n",
       "KH3Et4o3b1LH189NjkOKGFmsMJ4jHN0S15ZiPBuxvrv1Mx3iXw73erczAh+nqxCrjgANgmbn4gRs\n",
       "V26CZs0oty/5gGnj1gQo41A3O/dVD9xlf4eTa/fR1VL+/rsyKFdFlb3GTdwf3L8l9nua6ca4R5fu\n",
       "Asi5F6HHPGeM90WTAJRWaqjKR8FCU53yVnoff6UCgQwLo+cV5ba+aup4/487qopS7RIb1hVCe0Qj\n",
       "jelPUQUrSrezZopKJ1yfV8dJ4CRJZvEmDZ9eXMo+PLkbBSeGpPLZ2wdDqY/XmpcCTG6g/ddQqDW9\n",
       "x/8sVBZeo1/cXMGX96Njp0xFwQAAAKNBnt5FESwz/wAAAwCW67xGUZtbV71PcAG4Ba6w7aFnR4pZ\n",
       "JvYENv8fz/JLnjLSHcEjsyJCPwRPR2jNqMaNKLEAPCPAK2t0wqZpxEe/0CGKt5EED0wf+OQHu0Fr\n",
       "9qBENJkVNMunccIDzKfWL95akg0G1TdX0UOypi7EvRWWVPr9gHeF+K8St6h1ZDonazqn/6EkUEPe\n",
       "0gEAfAgkEaebtSzpJVoUAAAAWAGe/XRCvwAAAwEVdDLmBHyH4lgAQGViguszJZkvqSFxWFtZ9nw0\n",
       "ApS0LwDxMzRHiydCpOYMad0hGyJDOC5dCApszuCNzxGMT6cYwxBdUsOJMHFi3roA1oAAAABtAZ7/\n",
       "akK/AAADARXX9urKI2TRhQAICzFqmhLjBaOSW2vCiCkiO9wPildv1i81MA+yX1hj6KZdhONTqLSV\n",
       "OF04UH8oC/+cjCpc4ha9jd6744dbcidx0Dz3a+AuMh0BfpzOmAMlbgN1fcg8Y6fbgQAAAZlBmuRJ\n",
       "qEFsmUwIf//+qZYAAAMAPrxfvfMrTeWJDH9NACGCRE2L8HOYirLG+t4POkXy2eDNII5Ce9ReRlZP\n",
       "bffpsKyniTGJB42q/rSgWsDcvcLROmovFjFx2iV3nC2aQmVGHMa4PMuvJNMCjQqwPO1eTPdQ7oOI\n",
       "Xa7ulewxHMC2tz+6AW27hMx1W7hsggIdBG8cwZ8xfdGEYn0B4ndlT5HT16jYfp/GNyel1fWVB/vk\n",
       "Tzwp+1rBNXYAV8bJc79C26ohV3diP1rvHACMWDBxNxWsov3aIx2yuLgICBh/wESmBwaChfRGA+FK\n",
       "jnL3rEk2KaHFCyoNJNYlzrF40coR5vyxF39BO6hGgl3jdFUDvvwO4Sdyz+22ljARfOrQoD0KEV93\n",
       "7yPw1Son/EvZpxK3gpok8M7NjjTyYQFsGSor+g/lvIsFKafFlf/uiu/y4rZVfiBPNFCHQ/lD4jnc\n",
       "vktDCO3Fo/iy0Ko5LisKOIKiHUfuiOpqrjv3Y1QwBRVNVnkJYG34YfT+llGGgaELuiEuc6YFLPDc\n",
       "WPbLJ+pAAAAAwUGfAkUVLDP/AAADAJbrvEoJKrPqjhvzbE0R3i7jeGo9FKUrp2nwAuV37qvtm01h\n",
       "2ces9KygcEQOh/m/1M6rkhJgZNAA7GYt2L+cMVxNq8oPFtjL5GoaGfCVaVG6+E39u5Xk8NhIskkT\n",
       "DdDcjmYEi8H9THGgnEkR8+nkYmiTXDECbNgozzuPlwtQBTUyM9cEfV7HzvP7bx/NCy/kM5gBY1d5\n",
       "0OTAldH+FKUBkLNOjPHEXcgVOTYBSgICQ+LFgrHQoEEAAACAAZ8hdEK/AAADARV0MuYHAMEPAAjE\n",
       "DBLcJ6VmDXEa09UF7oxp/D03ZQKm3X8qdIROrp9NZu1GBRHsip7MhNznr+g8eI6ph7+XN+wRazQd\n",
       "tBtemdDOC7LmXkhuPucekI/7GK0V/s2f0MFOroEFsw+jZJ0lF2a0b6WAH29ghyZQyScAAABhAZ8j\n",
       "akK/AAADARXX7QlTIM+dZXABoAw43vizLkN+7oZZYilobW/oek7HBlKX/KIOcXZM5y60CDrKRMQd\n",
       "4p0TS+B0bCcepv9WZQ09RFsqJsNz8D/UnQJG5iwAC8ejGY0+4wAAAVpBmyhJqEFsmUwId//+qZYA\n",
       "AAMAF3BAA+kuzABr5gjZWXyvHCRfZt/wnw3KtWWH3lSD8r42hM3Wr/7OFF1mgF3MsWPp2ftkAVNq\n",
       "sPllsj70cZH26/ov7T3Zif7tBvvNwsxlxIpAgljQNeUV6HrY3H5M5m+cp2rviSKwAx+2oXhGhbyK\n",
       "kEN8ZT+n3M06msvWawKK0uHO0qnenUxJkmw7UB7hzP96Bu1BP0qnXnS3QN5NblMF2/HsrtHtfHhu\n",
       "h81gY28bdNRzPD6g1X/CSfjP9Q3IjMnDPgeAvQk+auhWxPuE+whb6T4bw8/UwxaEccth+3UWZaNc\n",
       "l/SSXbM0nptKPfvLDudLm+TgCSK/iNYJ2ldt/tuKRn5AX+cEaWmHURpVZTFtMA9wifaUNlXpAmqV\n",
       "xDmTsFp09VaZ3+yin9V401QT6Aw6VetW8rOE+M0yuFQEOhPYSZp7nRPYVGl1AAAAckGfRkUVLDP/\n",
       "AAADAJbru6q5utWEv1GOZH5YiPxI8hAYXXV/6hUrH30e/Al76eIly0KcMCkfzZFIaaxHfBWwJQmp\n",
       "hvgwIHQY8J5KxbQAntHYfOSZ460ZC0Kg0/Q2J98JLyebrXBcKCa2lkD4KuSmuTIUmQAAAFIBn2V0\n",
       "Qr8AAAMBFXQpB5Fer7e5BT1cSrWzS7l9c7Lxve8h5aCkwE3ZYmLV7U3dYT1KhV8DL64GaxlACSWN\n",
       "KlZQmwt9gSPrsOsBhQ4QKdptECiBAAAATgGfZ2pCvwAAAwEV1+0JqNaNHsAuWiXXEk5lHQscvR7P\n",
       "I80lXX6BvonCVLw/yW9hwr71umecgujsABcw/Zn4F8HRH5rTd8nA7gAh0HHEMAAAAT5Bm2xJqEFs\n",
       "mUwId//+qZYAAAMAF4/ukb2dBw2Qm4YlQ9BJkdZRfwl4sVpMAYtNHMroUJ6zTIrMkI8G8cmIWwAZ\n",
       "aEyEhqi7DuutzqvLJ/23UNpfRw9TygdhFUKHtmtbJe9zwcHaEk5NouFQoUsZ7VuYi2NEdiO/eQ0F\n",
       "BPEgPpSYGmNWhGqZHbl3WYvhVBjCZ8WeRW2+m701rYTMSO4S9g6dRVstCpxjsTGoDzH3ZIzQNjfy\n",
       "9qjamPQNkz+wLKluFQXpLZ1j8QOfw6+tSj3wwc1zCaQ3WAzJKq/rjX/FVvql3kELiGUtUbGGfYM/\n",
       "JWqzLQcbFcyCb6swbofJAEERFfsA20J45J44s5NS/2r2zff1NfzEL91VYdAMaqp7PUNXn0AxARB0\n",
       "FoGSGKZ0Nac2OjAdLBfr1KxFogn5y4khQiYAAACfQZ+KRRUsM/8AAAMAluu7qslMof0AD8hBEnev\n",
       "RpFoEf/qVef2UvQ4Ie1jc6AhuMGjQn+8R1Q6xTq79wABBoykA+ggvZ5PA21aqInTkFskdEol4vrq\n",
       "CQFjLylWG/RPZzwIZf14L9G10/9tYJOcMa7L36CJf47Nl77MPUIxF34i1k0uylrtoJlhIiBw6Iam\n",
       "mnZWNDSZsgNeW5ElTLxllhIBAAAAXgGfqXRCvwAAAwEVdCkMgdA1gAPyhue9TC5SaUn2F3/3TuHu\n",
       "JivzILhVFKWdC7gSgaXOVCcVG+ebIBeI6iAu555CDXZ7n7OmZAbL0vfWs66wIE8JuInBYmIGNp28\n",
       "wXAAAABnAZ+rakK/AAADARXX7Q7ofS0ANpIxVPJXpXahMJFzwTpKnYR72oXGu7NinGkFHZKb0Jt6\n",
       "UKtnUeAHU020LyjZ8G/KDu5IGH1ljc+u92FNKqBKWyTDZUaSwJaMdM0SI33nUD+yfSC+gAAAATxB\n",
       "m7BJqEFsmUwIb//+p4QAAAMAEE6AOWzJ/8gAKAAZ6dsWgtw03PgJC6/U8dCd4amVPKhRmPC4C2nl\n",
       "XKnxNJSGvI65LzJN3pO20yCP9GLnNZ4mofSlfQKWQieZrEHYgM+wYTSwW4ykQde1AfK0Q/O97FQa\n",
       "lN1hCmqF9tnbW9+0Ma4fS5zC0zKQv+ljqd+QWf9ukCYEUOj+6x+3xOc4A97vMgAzTe9zrJOSLaqK\n",
       "XZGdQhu8VWHRaeLoT6bWKPfYpEULf/nS5jCd20dAmRVKte0YpQHawOhc39NsGu3kBMnRwIbChcBw\n",
       "6vf/ZuopA+Ma1nWS0067JdgKJtA46W4YuUFLPwRZSkh/E1SmQOqedoOVLSwQ3nWDTRBaCSVK+2jJ\n",
       "SZWaxdNAMDyoCr6FNQ5kP/VayAYeAlKkuR/8PEzhAAAAj0GfzkUVLDP/AAADAJbru5+uJaaabbFu\n",
       "3qYnx1elABepqwh42qXHKI+iM4JufqYp7aPuitRM9Igvr0YVvWAoXDncVjYS5UqO/74LkH78xWL5\n",
       "QL5UhTFASSPtbZXjZWehTaSEgVX9Ci3M71k4eoc2MZcpJ5y/TmNN3k1yVsJ9wGnwYTgwkVyY/IiT\n",
       "O4SC1Y9pAAAAWQGf7XRCvwAAAwEVdChYkrsD7Uy7aTvv5HTaNJJu1FE9BxWNdoeNLWQZ0k1VMK/x\n",
       "iBitOY6fd9V1h4QAIMjDFGMaaLEdVsxECXzpo3aqkdkllwq8e2jh4W3BAAAAYQGf72pCvwAAAwEV\n",
       "1+xahxu6gBPM+pxLjH1ABeoBK99utBsAPenVhT0U77LXeBffR9wc93d7Zs4h3t+gGPc7+pPP3L2M\n",
       "/vEib9uv+6bUweE7a7R6Bx5VFYVTIPUXbk71etgAAAESQZvzSahBbJlMCFf//jhAAAADAPgnTOGT\n",
       "2IATUj78shZVBdiQ8h8A9vDSunnbl889LqGFX9gnJHVW9GW+fNxjsNZq8nRqLEVXlpS61YfTGlgH\n",
       "CkFFR/wuNGhBm0haa4/6FPl+gy6gR8LO+L6h2UKNJL6LI7GhheVStHMb0eR1V61qLk8E5DWGjsAb\n",
       "t85FiHF2KYofVewH5ZeyITNYgZip8qFJelzm+rLhMJ7m2eSO4RfYs0Duo7zXjaCPjXf3vuYmYIy9\n",
       "XkGPlmFhRI1rqDUo+h6eAen3vRGzOuEWsXxCEcuU4zETeF2bMPQx8RY0x4U5vYr/XcjkzB17uxn1\n",
       "ASeP+aVzw5KWEDw45URqPqfui4CggAAAAH9BnhFFFSwv/wAAAwDORF4/amLJCXZQzU+CWUXlLjD8\n",
       "JsOM1kViXauaAb+E7lYtzuvLZwktpHRl4UHYJqD3UgsHmoDh50AAH5VbeeXTh2n9y5kYa//+dQou\n",
       "asjfDPP1mBD0jECoVi21em/nwQ/7UCjrZGOIACemmfdLijQpXZdtAAAAYQGeMmpCvwAAAwEV1+xa\n",
       "iuMG7/UAG0FveTiCjuBF5R5PBwGvrI+ppLwqOD73FQ1fLP3pW/I15ikiOnS5vmgJXvCaygVj5IUK\n",
       "GIY2lKlGLlNz994zCBqespGJnmsDEer6vOgAAAtabW9vdgAAAGxtdmhkAAAAAAAAAAAAAAAAAAAD\n",
       "6AAAIygAAQAAAQAAAAAAAAAAAAAAAAEAAAAAAAAAAAAAAAAAAAABAAAAAAAAAAAAAAAAAABAAAAA\n",
       "AAAAAAAAAAAAAAAAAAAAAAAAAAAAAAAAAAAAAgAACoR0cmFrAAAAXHRraGQAAAADAAAAAAAAAAAA\n",
       "AAABAAAAAAAAIygAAAAAAAAAAAAAAAAAAAAAAAEAAAAAAAAAAAAAAAAAAAABAAAAAAAAAAAAAAAA\n",
       "AABAAAAAAoAAAAHgAAAAAAAkZWR0cwAAABxlbHN0AAAAAAAAAAEAACMoAAAEAAABAAAAAAn8bWRp\n",
       "YQAAACBtZGhkAAAAAAAAAAAAAAAAAAAoAAABaABVxAAAAAAALWhkbHIAAAAAAAAAAHZpZGUAAAAA\n",
       "AAAAAAAAAABWaWRlb0hhbmRsZXIAAAAJp21pbmYAAAAUdm1oZAAAAAEAAAAAAAAAAAAAACRkaW5m\n",
       "AAAAHGRyZWYAAAAAAAAAAQAAAAx1cmwgAAAAAQAACWdzdGJsAAAAt3N0c2QAAAAAAAAAAQAAAKdh\n",
       "dmMxAAAAAAAAAAEAAAAAAAAAAAAAAAAAAAAAAoAB4ABIAAAASAAAAAAAAAABAAAAAAAAAAAAAAAA\n",
       "AAAAAAAAAAAAAAAAAAAAAAAAAAAAGP//AAAANWF2Y0MBZAAe/+EAGGdkAB6s2UCgPaEAAAMAAQAA\n",
       "AwAoDxYtlgEABmjr48siwP34+AAAAAAcdXVpZGtoQPJfJE/FujmlG88DI/MAAAAAAAAAGHN0dHMA\n",
       "AAAAAAAAAQAAALQAAAIAAAAAFHN0c3MAAAAAAAAAAQAAAAEAAAVoY3R0cwAAAAAAAACrAAAAAQAA\n",
       "BAAAAAABAAAKAAAAAAEAAAQAAAAAAQAAAAAAAAABAAACAAAAAAEAAAoAAAAAAQAABAAAAAABAAAA\n",
       "AAAAAAEAAAIAAAAAAQAACgAAAAABAAAEAAAAAAEAAAAAAAAAAQAAAgAAAAABAAAKAAAAAAEAAAQA\n",
       "AAAAAQAAAAAAAAABAAACAAAAAAEAAAoAAAAAAQAABAAAAAABAAAAAAAAAAEAAAIAAAAAAQAACgAA\n",
       "AAABAAAEAAAAAAEAAAAAAAAAAQAAAgAAAAABAAAKAAAAAAEAAAQAAAAAAQAAAAAAAAABAAACAAAA\n",
       "AAEAAAgAAAAAAgAAAgAAAAABAAAKAAAAAAEAAAQAAAAAAQAAAAAAAAABAAACAAAAAAEAAAoAAAAA\n",
       "AQAABAAAAAABAAAAAAAAAAEAAAIAAAAAAQAACgAAAAABAAAEAAAAAAEAAAAAAAAAAQAAAgAAAAAB\n",
       "AAAKAAAAAAEAAAQAAAAAAQAAAAAAAAABAAACAAAAAAEAAAoAAAAAAQAABAAAAAABAAAAAAAAAAEA\n",
       "AAIAAAAAAQAABgAAAAABAAACAAAAAAEAAAQAAAAAAQAABgAAAAABAAACAAAAAAEAAAgAAAAAAgAA\n",
       "AgAAAAABAAAEAAAAAAEAAAgAAAAAAgAAAgAAAAABAAAEAAAAAAEAAAoAAAAAAQAABAAAAAABAAAA\n",
       "AAAAAAEAAAIAAAAAAQAACgAAAAABAAAEAAAAAAEAAAAAAAAAAQAAAgAAAAABAAAKAAAAAAEAAAQA\n",
       "AAAAAQAAAAAAAAABAAACAAAAAAEAAAoAAAAAAQAABAAAAAABAAAAAAAAAAEAAAIAAAAAAQAABgAA\n",
       "AAABAAACAAAAAAEAAAYAAAAAAQAAAgAAAAABAAAKAAAAAAEAAAQAAAAAAQAAAAAAAAABAAACAAAA\n",
       "AAEAAAYAAAAAAQAAAgAAAAABAAAKAAAAAAEAAAQAAAAAAQAAAAAAAAABAAACAAAAAAEAAAgAAAAA\n",
       "AgAAAgAAAAABAAAGAAAAAAEAAAIAAAAAAQAACAAAAAACAAACAAAAAAEAAAYAAAAAAQAAAgAAAAAB\n",
       "AAAKAAAAAAEAAAQAAAAAAQAAAAAAAAABAAACAAAAAAEAAAgAAAAAAgAAAgAAAAABAAAGAAAAAAEA\n",
       "AAIAAAAAAQAABgAAAAABAAACAAAAAAEAAAYAAAAAAQAAAgAAAAABAAAGAAAAAAEAAAIAAAAAAQAA\n",
       "BgAAAAABAAACAAAAAAEAAAoAAAAAAQAABAAAAAABAAAAAAAAAAEAAAIAAAAAAQAACgAAAAABAAAE\n",
       "AAAAAAEAAAAAAAAAAQAAAgAAAAABAAAKAAAAAAEAAAQAAAAAAQAAAAAAAAABAAACAAAAAAEAAAoA\n",
       "AAAAAQAABAAAAAABAAAAAAAAAAEAAAIAAAAAAQAACgAAAAABAAAEAAAAAAEAAAAAAAAAAQAAAgAA\n",
       "AAABAAAKAAAAAAEAAAQAAAAAAQAAAAAAAAABAAACAAAAAAEAAAoAAAAAAQAABAAAAAABAAAAAAAA\n",
       "AAEAAAIAAAAAAwAABAAAAAABAAAKAAAAAAEAAAQAAAAAAQAAAAAAAAABAAACAAAAAAEAAAoAAAAA\n",
       "AQAABAAAAAABAAAAAAAAAAEAAAIAAAAAAQAACgAAAAABAAAEAAAAAAEAAAAAAAAAAQAAAgAAAAAB\n",
       "AAAKAAAAAAEAAAQAAAAAAQAAAAAAAAABAAACAAAAAAEAAAoAAAAAAQAABAAAAAABAAAAAAAAAAEA\n",
       "AAIAAAAAAQAACgAAAAABAAAEAAAAAAEAAAAAAAAAAQAAAgAAAAABAAAIAAAAAAIAAAIAAAAAHHN0\n",
       "c2MAAAAAAAAAAQAAAAEAAAC0AAAAAQAAAuRzdHN6AAAAAAAAAAAAAAC0AAAYPQAAAi0AAACQAAAA\n",
       "hQAAAFsAAAImAAAAlAAAAFAAAABjAAACIQAAAKIAAABnAAAAWwAAAg0AAACSAAAAXgAAAFMAAAIa\n",
       "AAAAowAAAGEAAABeAAAB/QAAAI8AAABZAAAAXgAAAhQAAACEAAAAVQAAAF4AAAG6AAAAYwAAAEkA\n",
       "AAIyAAAAcgAAAE0AAABRAAACCAAAAJsAAABbAAAAXQAAAjEAAACrAAAAaQAAAFoAAAIJAAAAngAA\n",
       "AGcAAABdAAACLQAAAKwAAABtAAAAZwAAAdAAAABhAAABiwAAAX4AAABWAAAB9wAAAHIAAABbAAAB\n",
       "EwAAAcIAAAB0AAAAVwAAATkAAAIlAAAAmgAAAHgAAABqAAACLwAAALUAAABgAAAAXAAAAg0AAAC+\n",
       "AAAAcwAAAGEAAAHIAAAA2AAAAGUAAABlAAABNgAAAHMAAAEeAAAAaQAAAY4AAACmAAAAdwAAAG0A\n",
       "AAEVAAAAXQAAAekAAACmAAAAaQAAAHwAAAHHAAAAgQAAAGYAAAGBAAAAVwAAAb0AAACaAAAAWwAA\n",
       "AWMAAABeAAACJQAAAMQAAABgAAAAdAAAAe4AAACJAAAAZwAAAb0AAABrAAABvQAAAGIAAAHXAAAA\n",
       "VAAAAXsAAABWAAAB0QAAAGMAAAJxAAAAtQAAAE0AAABaAAACjAAAAJUAAABfAAAAWQAAAlQAAAB4\n",
       "AAAAVAAAAGMAAAIsAAAAwAAAAFoAAABiAAACKwAAAK8AAABcAAAAcgAAAiEAAACSAAAAVAAAAFMA\n",
       "AAIrAAAAlAAAAFIAAABUAAAA5wAAAP4AAAEKAAAB2gAAAHUAAABjAAAAZwAAAbsAAACnAAAAXAAA\n",
       "AHEAAAGdAAAAxQAAAIQAAABlAAABXgAAAHYAAABWAAAAUgAAAUIAAACjAAAAYgAAAGsAAAFAAAAA\n",
       "kwAAAF0AAABlAAABFgAAAIMAAABlAAAAFHN0Y28AAAAAAAAAAQAAADAAAABidWR0YQAAAFptZXRh\n",
       "AAAAAAAAACFoZGxyAAAAAAAAAABtZGlyYXBwbAAAAAAAAAAAAAAAAC1pbHN0AAAAJal0b28AAAAd\n",
       "ZGF0YQAAAAEAAAAATGF2ZjU4Ljc2LjEwMA==\n",
       "\">\n",
       "  Your browser does not support the video tag.\n",
       "</video>"
      ],
      "text/plain": [
       "<IPython.core.display.HTML object>"
      ]
     },
     "execution_count": 38,
     "metadata": {},
     "output_type": "execute_result"
    }
   ],
   "source": [
    "from IPython.display import HTML\n",
    "HTML(anim.to_html5_video())"
   ]
  },
  {
   "cell_type": "code",
   "execution_count": null,
   "id": "96cdbfbd-c438-4bc3-9c0e-71bf20ff9d0d",
   "metadata": {},
   "outputs": [],
   "source": []
  }
 ],
 "metadata": {
  "kernelspec": {
   "display_name": "Python 3 (ipykernel)",
   "language": "python",
   "name": "python3"
  },
  "language_info": {
   "codemirror_mode": {
    "name": "ipython",
    "version": 3
   },
   "file_extension": ".py",
   "mimetype": "text/x-python",
   "name": "python",
   "nbconvert_exporter": "python",
   "pygments_lexer": "ipython3",
   "version": "3.10.12"
  }
 },
 "nbformat": 4,
 "nbformat_minor": 5
}
