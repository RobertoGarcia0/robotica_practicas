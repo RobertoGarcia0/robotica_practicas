{
 "cells": [
  {
   "cell_type": "markdown",
   "id": "4ad60680-68ce-410c-b0e2-b4c1c133cd82",
   "metadata": {},
   "source": [
    "# Práctica 2: Modelo cinemático inverso de un  y planteamiento de trayectoria\n",
    "\n",
    "## Objetivo\n",
    "\n",
    "Que el alumno resuelva la cinemática inversa de un manipulador serial, desplazando el efector final de un punto inicial a un punto final a lo largo de una trayectoria lineal.\n",
    "\n",
    "\n",
    "### Metas \n",
    "\n",
    "- Que el alumno aplique un modelo cinemático inverso para calcular una trayectoria a partir de una posición actual hacia una posición final\n",
    "- Que el alumno grafique y analice los resultados del modelo\n",
    "- Que el alumno configure un repositorio en línea e incluya en éste su práctica\n",
    "\n",
    "### Contribución al perfil del egresado\n",
    "\n",
    "La siguiente práctica contribuye en los siguientes puntos al perfil del egresado:\n",
    "\n",
    "#### Aptitudes y habilidades\n",
    "\n",
    "- Para modelar, simular e interpretar el comportamiento de los sistemas mecatrónicos.\n",
    "- Para diseñar, construir, operar y mantener los sistemas mecatrónicos y sus componentes.\n",
    "\n",
    "#### Actitudes\n",
    "\n",
    "- Tener confianza en su preparación académica.\n",
    "- Comprometido con su actualización, superación y competencia profesional.\n",
    "\n",
    "#### De tipo social\n",
    "\n",
    "- Promover el cambio en la mentalidad frente a la competitividad internacional.\n",
    "\n",
    "## Rúbrica de evaluación\n",
    "\n",
    "La evaluación de la práctica contará de los siguientes puntos y se evaluará con los siguientes criterios:\n",
    "\n",
    "| Elemento | Porcentaje |\n",
    "| ------:| ----------- |\n",
    "| **Cuestionario previo** | 15% | \n",
    "| **Desarrollo** | 35% |\n",
    "| **Análisis de resultados**  | 35% |\n",
    "| **Conclusiones** | 15% |\n",
    "\n",
    "| Elemento | Malo | Regular | Bueno |\n",
    "| ------:| ------ | --------| ------|\n",
    "| **Cuestionario previo** | El trabajo no contiene cuestionario previo o todas las preguntas son incorrectas (0%)| Al menos la mitad de las preguntas son correctas (8%) |  Todas las preguntas son correctas (15%) |\n",
    "| **Desarrollo** | El trabajo no contiene desarrollo o su planteamiento no concuerda con lo deseado (0%) | El desarrollo está mal planteado o no llega a los resultados esperados (10%) | El desarrollo tiene un planteamiento adecuado y llega a los resultados esperados (35%) |\n",
    "| **Análisis de resultados**  | El trabajo no contiene análisis de resultados o la información no se está interpretando correctamente (0%) | La interpretación de los resultados es parcial o desorganizada (10%) | Realiza un correcto análisis de los resultados de forma organizada   (35%) |\n",
    "| **Conclusiones** | El trabajo no contiene conclusiones o no hacen referencia al trabajo desarrollado y los objetivos planteados (0%) | La redacción de las conclusiones es desorganizada o confusa (8%) | Las conclusiones del trabajo son claras y hacen referencia al trabajo desarrollado y los objetivos planteados (15%) | \n",
    "\n"
   ]
  },
  {
   "cell_type": "markdown",
   "id": "e5ff673e-01fd-4484-99fe-3a26e38c516e",
   "metadata": {
    "jp-MarkdownHeadingCollapsed": true
   },
   "source": [
    "## Introducción\n",
    "\n",
    "### Transformaciones homogéneas\n",
    "Las transformaciones homogéneas permiten hacer el planteamiento del modelo cinemático de un robot, considerando las posiciones y orientaciones de las juntas del robot respecto al sistema de referencia de una junta anterior\n",
    "\n",
    "Este planteamiento es el **modelo de cinemática directa**, que nos permite obtener la posición y velocidad del efector final de un manipulador en términos de los valores de la posición y velocidad de sus juntas (espacio de trabajo)\n",
    "\n",
    "A través de este modelo se puede obtener el **modelo de cinemática inversa**, que permite obtener la velocidad de las juntas de un robot a partir de la velocidad deseada del efector final.\n",
    "\n",
    "### Planteamiento de una trayectoria\n",
    "Si se conoce el punto inicial y final de una trayectoria deseada, se pueden obtener los puntos intermedios de la trayectoria. La forma más fácil de realizar esta interpolación es a través de un spline. El orden del spline permitirá controlar las condiciones inicial y final de la posición, velocidad ó aceleración que tendrá el efector final durante el trayecto. \n",
    "\n",
    "Juntando la interpolación de la trayectoria y el modelo de la cinemática inversa, se pueden obtener todos los puntos intermedios de la trayectoria que deben seguir las juntas del robot para que el efector final siga una trayectoria."
   ]
  },
  {
   "cell_type": "markdown",
   "id": "4d392cc9-9f13-45dd-aeab-49a3ef991dc5",
   "metadata": {},
   "source": [
    "## Cuestionario previo\n",
    "\n",
    "Responder de forma breve las siguientes preguntas:\n",
    "\n",
    "- ¿Que son las transformaciones homogéneas?\n",
    "- ¿Que nos permite obtener el modelo de cinemática inversa de un manipulador?\n",
    "- ¿De que formas se puede interpolar la trayectoria de un efector final entre dos puntos?\n",
    "- ¿Qué es git?\n",
    "- ¿Qué es github?\n",
    "\n",
    "En caso de integrar imagenes, colocarlas en la carpeta *\"imagenes\"*"
   ]
  },
  {
   "cell_type": "markdown",
   "id": "6771b56b-e285-43cc-b039-e502c9e0ef9c",
   "metadata": {},
   "source": [
    "## Desarrollo\n",
    "\n",
    "### 1. Planteamiento de la cinemática directa\n",
    "En esta primera parte, se crearán las transformaciones homogéneas y el modelo de cinemática directa de un robot RRR, incluyendo la matriz del Jacobiano. Se recomienda usar **Sympy** para el planteamiento de las expresiones. \n",
    "Un diagrama del robot se muestra en la imagen:\n",
    "\n",
    "<img src=\"imagenes/P2_IM1.png\" alt = \"Robot RRR\" width=\"300\" height=\"300\" display= \"block\"/>\n",
    "\n"
   ]
  },
  {
   "cell_type": "code",
   "execution_count": 1,
   "id": "07e04c95-5026-4267-bce4-e9c83047ca65",
   "metadata": {},
   "outputs": [],
   "source": [
    "###Colocar y correr el código dentro de estas celdas"
   ]
  },
  {
   "cell_type": "markdown",
   "id": "9bc9e456-2272-4e0f-9cd2-d69f8d1757a1",
   "metadata": {},
   "source": [
    "### 2. Cinemática inversa\n",
    "A partir del modelo de la cinemática directa, obtener la expresión e la cinemática inversa, que relacione las velocidades de las juntas del robot con la velocidad del efector final. Ya que el modelo de cinemática inversa sólo permite obtener velocidades, obtener también expresiones que permitan obtener la posición de las juntas y sus aceleraciones"
   ]
  },
  {
   "cell_type": "code",
   "execution_count": 1,
   "id": "0b021465-446c-4e56-b354-492ee72c4308",
   "metadata": {},
   "outputs": [],
   "source": [
    "###Colocar y correr el código dentro de estas celdas"
   ]
  },
  {
   "cell_type": "markdown",
   "id": "dcd2ab73-8dcd-4b21-ae78-9158c72d99dc",
   "metadata": {},
   "source": [
    "### 3. Planteamiento de la trayectoria\n",
    "\n",
    "En esta segunda parte, se planteará el código que permita definir los puntos intermedios de una trayectoria, la cual debe tener velocidades y aceleraciones nulas al inicio y al final. Se deben incluir también las gráficas de la posición, velocidad y aceleración del efector final. \n",
    "\n",
    "Calcular la trayectoria considerando de forma general tiempo de duración, puntos inicial y final, y con una tasa de muestreo de 30 muestras por segundo. "
   ]
  },
  {
   "cell_type": "code",
   "execution_count": null,
   "id": "7f8c0471-6213-446b-ab20-6133131e4a97",
   "metadata": {},
   "outputs": [],
   "source": [
    "###Colocar y correr el código dentro de estas celdas"
   ]
  },
  {
   "cell_type": "markdown",
   "id": "f117b534-3249-480e-8751-b568cfe8d0c8",
   "metadata": {},
   "source": [
    "### 4. Aplicación de la cinemática inversa\n",
    "Finalmente, a partir de los puntos de la trayectoria y el modelo de cinemática inversa, obtener las posiciones, velocidades y aceleraciones de las juntas del robot, así como sus gráficas en función del tiempo"
   ]
  },
  {
   "cell_type": "code",
   "execution_count": null,
   "id": "e1f68eac-4f05-4622-b046-9e8f215a02ad",
   "metadata": {},
   "outputs": [],
   "source": [
    "###Colocar y correr el código dentro de estas celdas"
   ]
  },
  {
   "cell_type": "markdown",
   "id": "6600f51c-2abe-48d8-8273-3104213ebd6d",
   "metadata": {},
   "source": [
    "### 5. Github\n",
    "Para terminar, crear un repositorio en línea en gihub, donde se subirán los archivos de la práctica. \n",
    "Se recomienda primero crear el repositorio en línea, clonarlo en el ordenador y después incluir los archivos de la práctica. \n",
    "Para utilizar el repositorio para todas las prácticas posteriores, se recomienda usar la siguiente estructura de archivos:\n",
    "~~~ bash\n",
    "repositorio_practicas/\n",
    "├── practica_2\n",
    "│   ├── imagenes\n",
    "│   │   └── P2_IM1.png\n",
    "│   └── Practica_2.ipynb\n",
    "└── README.md\n",
    "~~~\n",
    "Dentro del archivo README.md (Creado de forma automática en el repositorio en línea), colocar los nombres de los integrantes del equipo."
   ]
  },
  {
   "attachments": {},
   "cell_type": "markdown",
   "id": "3a88c47d-d8a3-43cb-afee-5d54559450a7",
   "metadata": {
    "jp-MarkdownHeadingCollapsed": true
   },
   "source": [
    "## Análisis de resultados\n",
    "\n",
    "¿Qué utilidad tiene el modelo de cinemática inversa de un robot?\n",
    "> RESPUESTA\n",
    "\n",
    "¿Controlar las condiciones iniciales y finales de la trayectoria del efector final tiene un efecto en las condiciones inicial y final de las juntas?\n",
    "> RESPUESTA\n",
    "\n",
    "¿Qué utilidad tiene el uso de un repositorio en línea para código?\n",
    "> RESPUESTA\n",
    "\n",
    "\n"
   ]
  },
  {
   "cell_type": "markdown",
   "id": "ed674101-3cbf-4c0e-b0cc-dcddfb09fba5",
   "metadata": {},
   "source": [
    "## Conclusiones\n",
    "\n",
    "En esta sección deberan escribir las conclusiones de la práctica con base en el objetivo planteado y las metas que se deban cumplir para su realización.\n",
    "\n",
    "## Bibliografía \n",
    "\n",
    "En caso de usarse, se deben hacer referencia a la información implementada en formato ieee\n",
    "\n",
    "\n"
   ]
  }
 ],
 "metadata": {
  "kernelspec": {
   "display_name": "Python 3 (ipykernel)",
   "language": "python",
   "name": "python3"
  },
  "language_info": {
   "codemirror_mode": {
    "name": "ipython",
    "version": 3
   },
   "file_extension": ".py",
   "mimetype": "text/x-python",
   "name": "python",
   "nbconvert_exporter": "python",
   "pygments_lexer": "ipython3",
   "version": "3.10.12"
  }
 },
 "nbformat": 4,
 "nbformat_minor": 5
}
